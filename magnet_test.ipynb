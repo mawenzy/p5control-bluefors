{
 "cells": [
  {
   "cell_type": "code",
   "execution_count": null,
   "metadata": {},
   "outputs": [],
   "source": [
    "\n",
    "from time import sleep\n",
    "import pyvisa\n",
    "import numpy as np\n",
    "\n",
    "class AM430():\n",
    "    def __init__(self, IP='192.168.1.103', printer=False):\n",
    "        rm=pyvisa.ResourceManager('@py')\n",
    "        inst=rm.open_resource('TCPIP::'+IP+'::7180::SOCKET',\n",
    "                              read_termination='\\r\\n',\n",
    "                              write_termination='\\r\\n')\n",
    "        self.inst=inst\n",
    "        inst.write_termination = u'\\r\\n'\n",
    "        inst.read_termination = u'\\r\\n'\n",
    "        inst.timeout=2000\n",
    "        inst.chunk_size = 20480 #100kb\n",
    "        \n",
    "        fake_idn=self.inst.read()\n",
    "        stupid=self.inst.read()\n",
    "        if printer==True:\n",
    "            print('fake id: %s, '%fake_idn)\n",
    "            print('%s - well, fuck you too!'%stupid)\n",
    "        \n",
    "    def idn(self, printer=False):\n",
    "        self.inst.write('*IDN?')\n",
    "        idn=self.inst.read()\n",
    "        if printer == True:\n",
    "            print('id: %s, '%idn)\n",
    "        return idn\n",
    "        \n",
    "    def exit(self):\n",
    "        self.inst.close()     \n",
    "        \n",
    "    def goto_zero(self):\n",
    "        self.inst.write('ZERO')\n",
    "    \n",
    "    def pause(self):\n",
    "        self.inst.write('PAUSE')\n",
    "        \n",
    "    def local(self):\n",
    "        self.inst.write('SYSTem:LOCal')\n",
    "        \n",
    "    def turn_off(self, printer=False):\n",
    "        self.goto(0, printer=printer)\n",
    "        self.inst.write('*RST')\n",
    "        self.inst.write('SYSTem:LOCal')\n",
    "        self.inst.query('*OPC?')\n",
    "            \n",
    "    def readfield(self,printer=False):\n",
    "        field=self.inst.query('FIELD:MAGnet?')\n",
    "        if printer==True:\n",
    "            print('current field is %s T'%field)\n",
    "        return float(field)\n",
    "    \n",
    "    def setfield(self, target, printer=False):\n",
    "        self.inst.write('CONFigure:FIELD:TARGet %6.5f'%target)\n",
    "        if printer==True:\n",
    "            new_target=self.inst.query('FIELD:TARGet?')\n",
    "            print('target field is %s T'%new_target)    \n",
    "        \n",
    "##############################################################################\n",
    "    def reinitialize(self, printer=False):\n",
    "        #self.inst.write('*RST')\n",
    "        # Each 4th write should be interrupted with *OPC?\n",
    "        self.inst.query('*OPC?')\n",
    "        # remote mode\n",
    "        #self.inst.write('SYSTem:REMote')\n",
    "        # clear event register, probably not usable\n",
    "        self.inst.write('*CLS')\n",
    "        # units tesla/min\n",
    "        self.inst.write('CONFigure:FIELD:UNITS 1') #T\n",
    "        self.inst.write('CONFigure:RAMP:RATE:UNITS 1') #1/min\n",
    "        self.inst.query('*OPC?')\n",
    "        # calibration factor\n",
    "        self.inst.write('CONFigure:COILconst 0.106500')\n",
    "        # max current\n",
    "        self.inst.write('CONFigure:CURRent:LIMit 65')\n",
    "        # quench detect on 1, 0 off\n",
    "        self.inst.write('CONFigure:QUench:DETect 0')\n",
    "        self.inst.query('*OPC?')\n",
    "        # set segments (target ramp)\n",
    "        self.inst.write('CONFigure:RAMP:RATE:SEGments 2')\n",
    "        self.inst.write('CONFigure:RAMP:RATE:FIELD 1,0.2106,5.325')\n",
    "        self.inst.write('CONFigure:RAMP:RATE:FIELD 2,0.1053,7')\n",
    "        self.inst.query('*OPC?')\n",
    "        # set segments (external ramp down)\n",
    "        self.inst.write('CONFigure:RAMPDown:RATE:SEGments 2')\n",
    "        self.inst.write('CONFigure:RAMPDown:RATE:FIELD 1,0.2106,5.325')\n",
    "        self.inst.write('CONFigure:RAMPDown:RATE:FIELD 2,0.1053,7')\n",
    "        self.inst.query('*OPC?')\n",
    "        # hold mode?\n",
    "        self.inst.write('PAUSE')\n",
    "        # heater on?\n",
    "        if printer==True:\n",
    "            print(self.inst.query('SYSTem:ERRor?'))\n",
    "            Cc=self.inst.query('COILconst?')\n",
    "            print('coil const (.1065 T/A) = %s'%Cc)\n",
    "            fu=self.inst.query('FIELD:UNITS?')\n",
    "            print('units (1|T) = %s'%fu)\n",
    "            rru=self.inst.query('RAMP:RATE:UNITS?')\n",
    "            print('units (1|pmin) = %s'%rru)\n",
    "            cl=self.inst.query('CURRent:LIMit?')\n",
    "            print('current limit (65 A) = %s'%cl)\n",
    "            qd=self.inst.query('QUench:DETect?')\n",
    "            print('quench detector (1 | on) = %s'%qd)\n",
    "            rrs=self.inst.query('RAMP:RATE:SEGments?')\n",
    "            print('ramp rate segments (2) = %s'%rrs)\n",
    "            seg1=self.inst.query('RAMP:RATE:FIELD:1?')\n",
    "            print('seg 1 (.2106T/min, 5.325T) = %s'%seg1)\n",
    "            seg2=self.inst.query('RAMP:RATE:FIELD:2?')\n",
    "            print('seg 2 (.1053T/min, 7T) = %s'%seg2)\n",
    "            rrsd=self.inst.query('RAMPDown:RATE:SEGments?')\n",
    "            print('ramp down rate segments (2) = %s'%rrsd)\n",
    "            segd1=self.inst.query('RAMPDown:RATE:FIELD:1?')\n",
    "            print('segd 1 (.2106T/min, 5.325T) = %s'%segd1)\n",
    "            segd2=self.inst.query('RAMPDown:RATE:FIELD:2?')\n",
    "            print('segd 2 (.1053T/min, 7T) = %s'%segd2)\n",
    "            state=self.inst.query('STATE?')\n",
    "            print('state (3 | paused)= %s'%state)\n",
    "            rdn=self.inst.query('RAMPDown:COUNT?')\n",
    "            print('external ramp downs: %s'%rdn)\n",
    "            print('\\n')\n",
    "\n",
    "##############################################################################    \n",
    "    def goto(self,target,rate='max', factor=1, printer=False):\n",
    "        self.pause()\n",
    "        if rate=='max':\n",
    "            # set segments (target ramp)\n",
    "            self.inst.write('CONFigure:RAMP:RATE:SEGments 2')\n",
    "            self.inst.write('CONFigure:RAMP:RATE:FIELD 1,0.2106,5.325')\n",
    "            self.inst.write('CONFigure:RAMP:RATE:FIELD 2,0.1053,7')\n",
    "            self.inst.query('*OPC?')\n",
    "            if factor==1:\n",
    "                #do upper bracket\n",
    "                factor=1\n",
    "            if factor>1:\n",
    "                print('Too High STUPID!!')\n",
    "            if factor<1:\n",
    "                print('Has to be implemented! MF! factor=1')\n",
    "        else:\n",
    "            # set segments (target ramp)\n",
    "            self.inst.write('CONFigure:RAMP:RATE:SEGments 1')\n",
    "            self.inst.write('CONFigure:RAMP:RATE:FIELD 1,%6.5f,7'%rate)\n",
    "            self.inst.query('*OPC?')           \n",
    "            \n",
    "        if target==0:\n",
    "            self.goto_zero()\n",
    "        else:\n",
    "            self.setfield(target, printer=printer)\n",
    "            self.inst.write('RAMP')\n",
    "        check=False\n",
    "        while check==False:\n",
    "            field=self.readfield(printer=False)\n",
    "            if np.abs(field-target) < 1e-5:\n",
    "                if printer==True:\n",
    "                    print('%6.5f/%6.5f T'%(field,target),end='\\r')\n",
    "                    print('\\nTarget Field reached...OK')\n",
    "                check=True\n",
    "                break\n",
    "            else:\n",
    "                if printer==True:\n",
    "                    print('%6.5f/%6.5f T'%(field,target),end='\\r')\n",
    "                sleep(0.1)\n",
    "                pass"
   ]
  },
  {
   "cell_type": "code",
   "execution_count": null,
   "metadata": {},
   "outputs": [],
   "source": [
    "\n",
    "class AM430():\n",
    "    def __init__(self, IP='192.168.1.103', printer=False):\n",
    "        rm=pyvisa.ResourceManager('@py')\n",
    "        inst=rm.open_resource('TCPIP::'+IP+'::7180::SOCKET',\n",
    "                              read_termination='\\r\\n',\n",
    "                              write_termination='\\r\\n')\n",
    "        self.inst=inst\n",
    "        inst.write_termination = u'\\r\\n'\n",
    "        inst.read_termination = u'\\r\\n'\n",
    "        inst.timeout=2000\n",
    "        inst.chunk_size = 20480 #100kb\n",
    "        \n",
    "        fake_idn=self.inst.read()\n",
    "        stupid=self.inst.read()\n",
    "        if printer==True:\n",
    "            print('fake id: %s, '%fake_idn)\n",
    "            print('%s - well, fuck you too!'%stupid)"
   ]
  },
  {
   "cell_type": "code",
   "execution_count": 20,
   "metadata": {},
   "outputs": [],
   "source": [
    "from pyvisa import ResourceManager\n",
    "\n",
    "rm = ResourceManager()\n",
    "rm.list_resources()\n",
    "IP='192.168.1.103'\n",
    "inst = rm.open_resource('TCPIP::'+IP+'::7180::SOCKET')"
   ]
  },
  {
   "cell_type": "code",
   "execution_count": 21,
   "metadata": {},
   "outputs": [],
   "source": [
    "\n",
    "inst.write_termination = u'\\r\\n'\n",
    "inst.read_termination = u'\\r\\n'\n",
    "inst.timeout=2000\n",
    "inst.chunk_size = 20480 #100kb"
   ]
  },
  {
   "cell_type": "code",
   "execution_count": 24,
   "metadata": {},
   "outputs": [
    {
     "ename": "VisaIOError",
     "evalue": "VI_ERROR_TMO (-1073807339): Timeout expired before operation completed.",
     "output_type": "error",
     "traceback": [
      "\u001b[1;31m---------------------------------------------------------------------------\u001b[0m",
      "\u001b[1;31mVisaIOError\u001b[0m                               Traceback (most recent call last)",
      "\u001b[1;32mc:\\Users\\BlueFors\\Documents\\p5control-bluefors\\magnet_test.ipynb Cell 5\u001b[0m in \u001b[0;36m1\n\u001b[1;32m----> <a href='vscode-notebook-cell:/c%3A/Users/BlueFors/Documents/p5control-bluefors/magnet_test.ipynb#W5sZmlsZQ%3D%3D?line=0'>1</a>\u001b[0m inst\u001b[39m.\u001b[39;49mread()\n",
      "File \u001b[1;32mc:\\Users\\BlueFors\\AppData\\Local\\Programs\\Python\\Python311\\Lib\\site-packages\\pyvisa\\resources\\messagebased.py:486\u001b[0m, in \u001b[0;36mMessageBasedResource.read\u001b[1;34m(self, termination, encoding)\u001b[0m\n\u001b[0;32m    484\u001b[0m \u001b[39mif\u001b[39;00m termination \u001b[39mis\u001b[39;00m \u001b[39mNone\u001b[39;00m:\n\u001b[0;32m    485\u001b[0m     termination \u001b[39m=\u001b[39m \u001b[39mself\u001b[39m\u001b[39m.\u001b[39m_read_termination\n\u001b[1;32m--> 486\u001b[0m     message \u001b[39m=\u001b[39m \u001b[39mself\u001b[39;49m\u001b[39m.\u001b[39;49m_read_raw()\u001b[39m.\u001b[39mdecode(enco)\n\u001b[0;32m    487\u001b[0m \u001b[39melse\u001b[39;00m:\n\u001b[0;32m    488\u001b[0m     \u001b[39mwith\u001b[39;00m \u001b[39mself\u001b[39m\u001b[39m.\u001b[39mread_termination_context(termination):\n",
      "File \u001b[1;32mc:\\Users\\BlueFors\\AppData\\Local\\Programs\\Python\\Python311\\Lib\\site-packages\\pyvisa\\resources\\messagebased.py:442\u001b[0m, in \u001b[0;36mMessageBasedResource._read_raw\u001b[1;34m(self, size)\u001b[0m\n\u001b[0;32m    435\u001b[0m     \u001b[39mwhile\u001b[39;00m status \u001b[39m==\u001b[39m loop_status:\n\u001b[0;32m    436\u001b[0m         logger\u001b[39m.\u001b[39mdebug(\n\u001b[0;32m    437\u001b[0m             \u001b[39m\"\u001b[39m\u001b[39m%s\u001b[39;00m\u001b[39m - reading \u001b[39m\u001b[39m%d\u001b[39;00m\u001b[39m bytes (last status \u001b[39m\u001b[39m%r\u001b[39;00m\u001b[39m)\u001b[39m\u001b[39m\"\u001b[39m,\n\u001b[0;32m    438\u001b[0m             \u001b[39mself\u001b[39m\u001b[39m.\u001b[39m_resource_name,\n\u001b[0;32m    439\u001b[0m             size,\n\u001b[0;32m    440\u001b[0m             status,\n\u001b[0;32m    441\u001b[0m         )\n\u001b[1;32m--> 442\u001b[0m         chunk, status \u001b[39m=\u001b[39m \u001b[39mself\u001b[39;49m\u001b[39m.\u001b[39;49mvisalib\u001b[39m.\u001b[39;49mread(\u001b[39mself\u001b[39;49m\u001b[39m.\u001b[39;49msession, size)\n\u001b[0;32m    443\u001b[0m         ret\u001b[39m.\u001b[39mextend(chunk)\n\u001b[0;32m    444\u001b[0m \u001b[39mexcept\u001b[39;00m errors\u001b[39m.\u001b[39mVisaIOError \u001b[39mas\u001b[39;00m e:\n",
      "File \u001b[1;32mc:\\Users\\BlueFors\\AppData\\Local\\Programs\\Python\\Python311\\Lib\\site-packages\\pyvisa\\ctwrapper\\functions.py:2337\u001b[0m, in \u001b[0;36mread\u001b[1;34m(library, session, count)\u001b[0m\n\u001b[0;32m   2335\u001b[0m buffer \u001b[39m=\u001b[39m create_string_buffer(count)\n\u001b[0;32m   2336\u001b[0m return_count \u001b[39m=\u001b[39m ViUInt32()\n\u001b[1;32m-> 2337\u001b[0m ret \u001b[39m=\u001b[39m library\u001b[39m.\u001b[39;49mviRead(session, buffer, count, byref(return_count))\n\u001b[0;32m   2338\u001b[0m \u001b[39mreturn\u001b[39;00m buffer\u001b[39m.\u001b[39mraw[: return_count\u001b[39m.\u001b[39mvalue], ret\n",
      "File \u001b[1;32mc:\\Users\\BlueFors\\AppData\\Local\\Programs\\Python\\Python311\\Lib\\site-packages\\pyvisa\\ctwrapper\\highlevel.py:226\u001b[0m, in \u001b[0;36mIVIVisaLibrary._return_handler\u001b[1;34m(self, ret_value, func, arguments)\u001b[0m\n\u001b[0;32m    223\u001b[0m         \u001b[39m# Set session back to a safe value\u001b[39;00m\n\u001b[0;32m    224\u001b[0m         session \u001b[39m=\u001b[39m \u001b[39mNone\u001b[39;00m\n\u001b[1;32m--> 226\u001b[0m \u001b[39mreturn\u001b[39;00m \u001b[39mself\u001b[39;49m\u001b[39m.\u001b[39;49mhandle_return_value(session, ret_value)\n",
      "File \u001b[1;32mc:\\Users\\BlueFors\\AppData\\Local\\Programs\\Python\\Python311\\Lib\\site-packages\\pyvisa\\highlevel.py:251\u001b[0m, in \u001b[0;36mVisaLibraryBase.handle_return_value\u001b[1;34m(self, session, status_code)\u001b[0m\n\u001b[0;32m    248\u001b[0m     \u001b[39mself\u001b[39m\u001b[39m.\u001b[39m_last_status_in_session[session] \u001b[39m=\u001b[39m rv\n\u001b[0;32m    250\u001b[0m \u001b[39mif\u001b[39;00m rv \u001b[39m<\u001b[39m \u001b[39m0\u001b[39m:\n\u001b[1;32m--> 251\u001b[0m     \u001b[39mraise\u001b[39;00m errors\u001b[39m.\u001b[39mVisaIOError(rv)\n\u001b[0;32m    253\u001b[0m \u001b[39mif\u001b[39;00m rv \u001b[39min\u001b[39;00m \u001b[39mself\u001b[39m\u001b[39m.\u001b[39missue_warning_on:\n\u001b[0;32m    254\u001b[0m     \u001b[39mif\u001b[39;00m session \u001b[39mand\u001b[39;00m rv \u001b[39mnot\u001b[39;00m \u001b[39min\u001b[39;00m \u001b[39mself\u001b[39m\u001b[39m.\u001b[39m_ignore_warning_in_session[session]:\n",
      "\u001b[1;31mVisaIOError\u001b[0m: VI_ERROR_TMO (-1073807339): Timeout expired before operation completed."
     ]
    }
   ],
   "source": [
    "inst.read()"
   ]
  },
  {
   "cell_type": "code",
   "execution_count": 1,
   "metadata": {},
   "outputs": [],
   "source": [
    "from p5control import InstrumentGateway\n",
    "\n",
    "gw = InstrumentGateway()\n",
    "gw.connect()"
   ]
  },
  {
   "cell_type": "code",
   "execution_count": 4,
   "metadata": {},
   "outputs": [
    {
     "data": {
      "text/plain": [
       "'CONFigure:FIELD:TARGet 0.10000'"
      ]
     },
     "execution_count": 4,
     "metadata": {},
     "output_type": "execute_result"
    }
   ],
   "source": [
    "target = .1\n",
    "f'CONFigure:FIELD:TARGet {target:6.5f}'"
   ]
  },
  {
   "cell_type": "code",
   "execution_count": 7,
   "metadata": {},
   "outputs": [],
   "source": [
    "gw.magnet.set_target_field(.1)\n",
    "gw.magnet.set_rate(0.2)\n"
   ]
  },
  {
   "cell_type": "code",
   "execution_count": 9,
   "metadata": {},
   "outputs": [],
   "source": [
    "gw.magnet.goto_zero()"
   ]
  },
  {
   "cell_type": "code",
   "execution_count": 10,
   "metadata": {},
   "outputs": [],
   "source": [
    "gw.magnet.ramp()"
   ]
  }
 ],
 "metadata": {
  "kernelspec": {
   "display_name": "Python 3",
   "language": "python",
   "name": "python3"
  },
  "language_info": {
   "codemirror_mode": {
    "name": "ipython",
    "version": 3
   },
   "file_extension": ".py",
   "mimetype": "text/x-python",
   "name": "python",
   "nbconvert_exporter": "python",
   "pygments_lexer": "ipython3",
   "version": "3.11.0"
  },
  "orig_nbformat": 4
 },
 "nbformat": 4,
 "nbformat_minor": 2
}
