{
 "cells": [
  {
   "cell_type": "code",
   "execution_count": 4,
   "metadata": {},
   "outputs": [],
   "source": [
    "from time import sleep\n",
    "import numpy as np\n",
    "import matplotlib.pyplot as plt"
   ]
  },
  {
   "cell_type": "code",
   "execution_count": 6,
   "metadata": {},
   "outputs": [],
   "source": [
    "from p5control import InstrumentGateway, DataGateway\n",
    "\n",
    "gw = InstrumentGateway()\n",
    "dgw = DataGateway()\n",
    "\n",
    "gw.connect()\n",
    "dgw.connect()"
   ]
  },
  {
   "cell_type": "code",
   "execution_count": 9,
   "metadata": {},
   "outputs": [],
   "source": [
    "from p5control import InstrumentGateway, DataGateway\n",
    "\n",
    "gw = InstrumentGateway()\n",
    "dgw = DataGateway()\n",
    "\n",
    "gw.connect()\n",
    "dgw.connect()\n",
    "\n",
    "name = 'IV at base'\n",
    "offset_name = 'offset'\n",
    "sweep_name = 'sweep'\n",
    "i = 10\n",
    "\n",
    "try:\n",
    "    while True:\n",
    "        gw.adwin.setAveraging(50)\n",
    "        gw.femtos.set_amplification_A(100)\n",
    "        gw.femtos.set_amplification_B(1000)\n",
    "        gw.adwin.setAmplitude(0)\n",
    "        gw.adwin.setSweeping(False)\n",
    "        m = gw.measure(f\"{name}/{i:07d}/{offset_name}\")\n",
    "        sleep(.5)\n",
    "        m.start()\n",
    "        sleep(3)\n",
    "        m.stop()\n",
    "\n",
    "        for j in range(5):\n",
    "            gw.adwin.setAmplitude(8)\n",
    "            gw.adwin.setFrequency(0.053)\n",
    "            gw.adwin.setLockinAmplitude(.1)\n",
    "            gw.adwin.setLockinFrequency(73.3)\n",
    "            m = gw.measure(f\"{name}/{i:07d}/{sweep_name}_{j}\")\n",
    "            \n",
    "            sleep(.5)\n",
    "            m.start()\n",
    "            gw.adwin.setSweeping(True)\n",
    "            sleep(20)\n",
    "            m.stop()\n",
    "\n",
    "            sleep(1)\n",
    "            gw.adwin.setSweeping(False)\n",
    "\n",
    "        i+=1\n",
    "except KeyboardInterrupt:\n",
    "    try:\n",
    "        m.stop()\n",
    "    except:\n",
    "        pass"
   ]
  },
  {
   "cell_type": "code",
   "execution_count": 3,
   "metadata": {},
   "outputs": [
    {
     "name": "stdout",
     "output_type": "stream",
     "text": [
      "2023-05-09 04:30:43.275240\n"
     ]
    }
   ],
   "source": [
    "from datetime import datetime\n",
    "import numpy as np\n",
    "timestamp = 1683599443.2752402\n",
    "\n",
    "dt_object = datetime.fromtimestamp(timestamp)\n",
    "print(dt_object)"
   ]
  },
  {
   "cell_type": "code",
   "execution_count": 10,
   "metadata": {},
   "outputs": [],
   "source": [
    "from p5control import InstrumentGateway, DataGateway\n",
    "\n",
    "gw = InstrumentGateway()\n",
    "dgw = DataGateway()\n",
    "\n",
    "gw.connect()\n",
    "dgw.connect()\n",
    "\n",
    "name = 'IV at base'\n",
    "offset_name = 'offset'\n",
    "sweep_name = 'sweep'\n",
    "\n",
    "gw.adwin.setAveraging(50)\n",
    "gw.femtos.set_amplification_A(100)\n",
    "gw.femtos.set_amplification_B(1000)\n",
    "gw.adwin.setAmplitude(0)\n",
    "gw.adwin.setSweeping(False)\n",
    "m = gw.measure(f\"{name}/{offset_name}\")\n",
    "sleep(.5)\n",
    "m.start()\n",
    "sleep(3)\n",
    "m.stop()\n",
    "\n",
    "gw.adwin.setAmplitude(8)\n",
    "gw.adwin.setFrequency(0.053)\n",
    "gw.adwin.setLockinAmplitude(.1)\n",
    "gw.adwin.setLockinFrequency(73.3)\n",
    "m = gw.measure(f\"{name}/{sweep_name}_{j}\")\n",
    "\n",
    "sleep(.5)\n",
    "m.start()\n",
    "gw.adwin.setSweeping(True)\n",
    "sleep(100)\n",
    "m.stop()\n",
    "\n",
    "sleep(1)\n",
    "gw.adwin.setSweeping(False)"
   ]
  },
  {
   "cell_type": "code",
   "execution_count": 53,
   "metadata": {},
   "outputs": [
    {
     "name": "stdout",
     "output_type": "stream",
     "text": [
      "-4.121252697599132e-05 0.11136608186660259\n"
     ]
    }
   ],
   "source": [
    "offset = dgw.get_data(f\"/measurement/{name}/{offset_name}/adwin\")\n",
    "sweep = dgw.get_data(f\"/measurement/{name}/{sweep_name}_1/adwin\")\n",
    "\n",
    "import matplotlib.pyplot as plt\n",
    "\n",
    "off_V1 = np.mean(offset['V1'])\n",
    "off_V2 = np.mean(offset['V2'])\n",
    "\n",
    "t = sweep['time']\n",
    "\n",
    "V1 = sweep['V1'] - off_V1\n",
    "V2 = sweep['V2'] - off_V2\n",
    "\n",
    "voltage = V1 / 1000 #FemtoB [V]\n",
    "current = V2 / 100 * 100 / 47000 # FemtoA, VD, R_ref [A]\n",
    "\n",
    "trigger = sweep['trigger']\n",
    "\n",
    "new_trig = np.copy(trigger)\n",
    "new_time = np.copy(t)\n",
    "new_trig = np.array(new_trig, dtype='float64')\n",
    "new_trig[new_trig<1] = np.nan\n",
    "new_trig = new_trig%2\n",
    "new_trig = np.abs(new_trig[1:]-new_trig[:-1])\n",
    "new_time = t[1:]\n",
    "new_time[new_trig==0] = np.nan\n",
    "new_trig[new_trig==0] = np.nan\n",
    "\n",
    "new_trig = new_trig[~np.isnan(new_trig)]\n",
    "new_time = new_time[~np.isnan(new_time)]\n",
    "\n",
    "print(off_V1, off_V2)\n",
    "\n"
   ]
  },
  {
   "cell_type": "code",
   "execution_count": 54,
   "metadata": {},
   "outputs": [
    {
     "ename": "ValueError",
     "evalue": "x and y must have same first dimension, but have shapes (301964,) and (10,)",
     "output_type": "error",
     "traceback": [
      "\u001b[1;31m---------------------------------------------------------------------------\u001b[0m",
      "\u001b[1;31mValueError\u001b[0m                                Traceback (most recent call last)",
      "\u001b[1;32mc:\\Users\\BlueFors\\Documents\\p5control-bluefors\\IV Script.ipynb Cell 7\u001b[0m in \u001b[0;36m3\n\u001b[0;32m      <a href='vscode-notebook-cell:/c%3A/Users/BlueFors/Documents/p5control-bluefors/IV%20Script.ipynb#W6sZmlsZQ%3D%3D?line=0'>1</a>\u001b[0m plt\u001b[39m.\u001b[39mplot(t, trigger\u001b[39m%\u001b[39m\u001b[39m2\u001b[39m)\n\u001b[0;32m      <a href='vscode-notebook-cell:/c%3A/Users/BlueFors/Documents/p5control-bluefors/IV%20Script.ipynb#W6sZmlsZQ%3D%3D?line=1'>2</a>\u001b[0m plt\u001b[39m.\u001b[39mplot(t, trigger)\n\u001b[1;32m----> <a href='vscode-notebook-cell:/c%3A/Users/BlueFors/Documents/p5control-bluefors/IV%20Script.ipynb#W6sZmlsZQ%3D%3D?line=2'>3</a>\u001b[0m plt\u001b[39m.\u001b[39;49mplot(new_time, new_trig, \u001b[39m'\u001b[39;49m\u001b[39mx\u001b[39;49m\u001b[39m'\u001b[39;49m)\n",
      "File \u001b[1;32mc:\\Users\\BlueFors\\AppData\\Local\\Programs\\Python\\Python311\\Lib\\site-packages\\matplotlib\\pyplot.py:2748\u001b[0m, in \u001b[0;36mplot\u001b[1;34m(scalex, scaley, data, *args, **kwargs)\u001b[0m\n\u001b[0;32m   2746\u001b[0m \u001b[39m@_copy_docstring_and_deprecators\u001b[39m(Axes\u001b[39m.\u001b[39mplot)\n\u001b[0;32m   2747\u001b[0m \u001b[39mdef\u001b[39;00m \u001b[39mplot\u001b[39m(\u001b[39m*\u001b[39margs, scalex\u001b[39m=\u001b[39m\u001b[39mTrue\u001b[39;00m, scaley\u001b[39m=\u001b[39m\u001b[39mTrue\u001b[39;00m, data\u001b[39m=\u001b[39m\u001b[39mNone\u001b[39;00m, \u001b[39m*\u001b[39m\u001b[39m*\u001b[39mkwargs):\n\u001b[1;32m-> 2748\u001b[0m     \u001b[39mreturn\u001b[39;00m gca()\u001b[39m.\u001b[39;49mplot(\n\u001b[0;32m   2749\u001b[0m         \u001b[39m*\u001b[39;49margs, scalex\u001b[39m=\u001b[39;49mscalex, scaley\u001b[39m=\u001b[39;49mscaley,\n\u001b[0;32m   2750\u001b[0m         \u001b[39m*\u001b[39;49m\u001b[39m*\u001b[39;49m({\u001b[39m\"\u001b[39;49m\u001b[39mdata\u001b[39;49m\u001b[39m\"\u001b[39;49m: data} \u001b[39mif\u001b[39;49;00m data \u001b[39mis\u001b[39;49;00m \u001b[39mnot\u001b[39;49;00m \u001b[39mNone\u001b[39;49;00m \u001b[39melse\u001b[39;49;00m {}), \u001b[39m*\u001b[39;49m\u001b[39m*\u001b[39;49mkwargs)\n",
      "File \u001b[1;32mc:\\Users\\BlueFors\\AppData\\Local\\Programs\\Python\\Python311\\Lib\\site-packages\\matplotlib\\axes\\_axes.py:1668\u001b[0m, in \u001b[0;36mAxes.plot\u001b[1;34m(self, scalex, scaley, data, *args, **kwargs)\u001b[0m\n\u001b[0;32m   1425\u001b[0m \u001b[39m\"\"\"\u001b[39;00m\n\u001b[0;32m   1426\u001b[0m \u001b[39mPlot y versus x as lines and/or markers.\u001b[39;00m\n\u001b[0;32m   1427\u001b[0m \n\u001b[1;32m   (...)\u001b[0m\n\u001b[0;32m   1665\u001b[0m \u001b[39m(``'green'``) or hex strings (``'#008000'``).\u001b[39;00m\n\u001b[0;32m   1666\u001b[0m \u001b[39m\"\"\"\u001b[39;00m\n\u001b[0;32m   1667\u001b[0m kwargs \u001b[39m=\u001b[39m cbook\u001b[39m.\u001b[39mnormalize_kwargs(kwargs, mlines\u001b[39m.\u001b[39mLine2D)\n\u001b[1;32m-> 1668\u001b[0m lines \u001b[39m=\u001b[39m [\u001b[39m*\u001b[39m\u001b[39mself\u001b[39m\u001b[39m.\u001b[39m_get_lines(\u001b[39m*\u001b[39margs, data\u001b[39m=\u001b[39mdata, \u001b[39m*\u001b[39m\u001b[39m*\u001b[39mkwargs)]\n\u001b[0;32m   1669\u001b[0m \u001b[39mfor\u001b[39;00m line \u001b[39min\u001b[39;00m lines:\n\u001b[0;32m   1670\u001b[0m     \u001b[39mself\u001b[39m\u001b[39m.\u001b[39madd_line(line)\n",
      "File \u001b[1;32mc:\\Users\\BlueFors\\AppData\\Local\\Programs\\Python\\Python311\\Lib\\site-packages\\matplotlib\\axes\\_base.py:311\u001b[0m, in \u001b[0;36m_process_plot_var_args.__call__\u001b[1;34m(self, data, *args, **kwargs)\u001b[0m\n\u001b[0;32m    309\u001b[0m     this \u001b[39m+\u001b[39m\u001b[39m=\u001b[39m args[\u001b[39m0\u001b[39m],\n\u001b[0;32m    310\u001b[0m     args \u001b[39m=\u001b[39m args[\u001b[39m1\u001b[39m:]\n\u001b[1;32m--> 311\u001b[0m \u001b[39myield from\u001b[39;00m \u001b[39mself\u001b[39;49m\u001b[39m.\u001b[39;49m_plot_args(\n\u001b[0;32m    312\u001b[0m     this, kwargs, ambiguous_fmt_datakey\u001b[39m=\u001b[39;49mambiguous_fmt_datakey)\n",
      "File \u001b[1;32mc:\\Users\\BlueFors\\AppData\\Local\\Programs\\Python\\Python311\\Lib\\site-packages\\matplotlib\\axes\\_base.py:504\u001b[0m, in \u001b[0;36m_process_plot_var_args._plot_args\u001b[1;34m(self, tup, kwargs, return_kwargs, ambiguous_fmt_datakey)\u001b[0m\n\u001b[0;32m    501\u001b[0m     \u001b[39mself\u001b[39m\u001b[39m.\u001b[39maxes\u001b[39m.\u001b[39myaxis\u001b[39m.\u001b[39mupdate_units(y)\n\u001b[0;32m    503\u001b[0m \u001b[39mif\u001b[39;00m x\u001b[39m.\u001b[39mshape[\u001b[39m0\u001b[39m] \u001b[39m!=\u001b[39m y\u001b[39m.\u001b[39mshape[\u001b[39m0\u001b[39m]:\n\u001b[1;32m--> 504\u001b[0m     \u001b[39mraise\u001b[39;00m \u001b[39mValueError\u001b[39;00m(\u001b[39mf\u001b[39m\u001b[39m\"\u001b[39m\u001b[39mx and y must have same first dimension, but \u001b[39m\u001b[39m\"\u001b[39m\n\u001b[0;32m    505\u001b[0m                      \u001b[39mf\u001b[39m\u001b[39m\"\u001b[39m\u001b[39mhave shapes \u001b[39m\u001b[39m{\u001b[39;00mx\u001b[39m.\u001b[39mshape\u001b[39m}\u001b[39;00m\u001b[39m and \u001b[39m\u001b[39m{\u001b[39;00my\u001b[39m.\u001b[39mshape\u001b[39m}\u001b[39;00m\u001b[39m\"\u001b[39m)\n\u001b[0;32m    506\u001b[0m \u001b[39mif\u001b[39;00m x\u001b[39m.\u001b[39mndim \u001b[39m>\u001b[39m \u001b[39m2\u001b[39m \u001b[39mor\u001b[39;00m y\u001b[39m.\u001b[39mndim \u001b[39m>\u001b[39m \u001b[39m2\u001b[39m:\n\u001b[0;32m    507\u001b[0m     \u001b[39mraise\u001b[39;00m \u001b[39mValueError\u001b[39;00m(\u001b[39mf\u001b[39m\u001b[39m\"\u001b[39m\u001b[39mx and y can be no greater than 2D, but have \u001b[39m\u001b[39m\"\u001b[39m\n\u001b[0;32m    508\u001b[0m                      \u001b[39mf\u001b[39m\u001b[39m\"\u001b[39m\u001b[39mshapes \u001b[39m\u001b[39m{\u001b[39;00mx\u001b[39m.\u001b[39mshape\u001b[39m}\u001b[39;00m\u001b[39m and \u001b[39m\u001b[39m{\u001b[39;00my\u001b[39m.\u001b[39mshape\u001b[39m}\u001b[39;00m\u001b[39m\"\u001b[39m)\n",
      "\u001b[1;31mValueError\u001b[0m: x and y must have same first dimension, but have shapes (301964,) and (10,)"
     ]
    },
    {
     "data": {
      "image/png": "[encoded data removed]",
      "text/plain": [
       "<Figure size 640x480 with 1 Axes>"
      ]
     },
     "metadata": {},
     "output_type": "display_data"
    }
   ],
   "source": [
    "plt.plot(t, trigger%2)\n",
    "plt.plot(t, trigger)\n",
    "plt.plot(new_time, new_trig, 'x')"
   ]
  }
 ],
 "metadata": {
  "kernelspec": {
   "display_name": "Python 3",
   "language": "python",
   "name": "python3"
  },
  "language_info": {
   "codemirror_mode": {
    "name": "ipython",
    "version": 3
   },
   "file_extension": ".py",
   "mimetype": "text/x-python",
   "name": "python",
   "nbconvert_exporter": "python",
   "pygments_lexer": "ipython3",
   "version": "3.11.0"
  },
  "orig_nbformat": 4
 },
 "nbformat": 4,
 "nbformat_minor": 2
}
