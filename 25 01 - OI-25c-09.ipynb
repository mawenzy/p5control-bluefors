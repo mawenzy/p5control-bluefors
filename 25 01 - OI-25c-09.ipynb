{
 "cells": [
  {
   "cell_type": "code",
   "execution_count": 1,
   "metadata": {},
   "outputs": [
    {
     "name": "stderr",
     "output_type": "stream",
     "text": [
      "C:\\Users\\BlueFors\\AppData\\Local\\Packages\\PythonSoftwareFoundation.Python.3.10_qbz5n2kfra8p0\\LocalCache\\local-packages\\Python310\\site-packages\\tqdm\\auto.py:21: TqdmWarning: IProgress not found. Please update jupyter and ipywidgets. See https://ipywidgets.readthedocs.io/en/stable/user_install.html\n",
      "  from .autonotebook import tqdm as notebook_tqdm\n"
     ]
    }
   ],
   "source": [
    "# init stuff\n",
    "%load_ext autoreload\n",
    "%autoreload 2\n",
    "from ivscript_2 import BlueforsServer_v2, MeasurementScript_v2\n",
    "\n",
    "import numpy as np\n",
    "from time import sleep, time"
   ]
  },
  {
   "cell_type": "code",
   "execution_count": 2,
   "metadata": {},
   "outputs": [
    {
     "name": "stderr",
     "output_type": "stream",
     "text": [
      "C:\\Users\\BlueFors\\AppData\\Local\\Packages\\PythonSoftwareFoundation.Python.3.10_qbz5n2kfra8p0\\LocalCache\\local-packages\\Python310\\site-packages\\tqdm\\auto.py:21: TqdmWarning: IProgress not found. Please update jupyter and ipywidgets. See https://ipywidgets.readthedocs.io/en/stable/user_install.html\n",
      "  from .autonotebook import tqdm as notebook_tqdm\n",
      "100%|██████████| 5/5 [01:08<00:00, 13.66s/it]\n",
      "100%|██████████| 10/10 [00:37<00:00,  3.70s/it]\n",
      "100%|██████████| 5/5 [00:23<00:00,  4.69s/it]\n",
      "100%|██████████| 6/6 [00:21<00:00,  3.61s/it]\n",
      "100%|██████████| 5/5 [00:18<00:00,  3.64s/it]\n",
      "100%|██████████| 5/5 [00:18<00:00,  3.62s/it]\n"
     ]
    }
   ],
   "source": [
    "# Test Script (4min)\n",
    "from ivscript_2 import BlueforsServer_v2, MeasurementScript_v2\n",
    "\n",
    "import numpy as np\n",
    "from time import sleep, time\n",
    "try:\n",
    "    server = BlueforsServer_v2()\n",
    "    server.start_server(\n",
    "        server_name=f'.data/test_{time()}.hdf5',\n",
    "        S='11',\n",
    "    )\n",
    "    \n",
    "    script = MeasurementScript_v2()\n",
    "    script.femto1_amp = 1000\n",
    "    script.femto2_amp = 10000\n",
    "    script.amplitude = .1\n",
    "    script.period = 2\n",
    "    script.sweep_time = 2.1\n",
    "    script.offset_time = .2\n",
    "    script.ramp_cool_down = .5\n",
    "    script.initial_ramp_cool_down = 1\n",
    "\n",
    "    script.single_IV(\n",
    "        gate_voltage = 1e-7,\n",
    "        vna_frequency = 10e9,\n",
    "        vna_amplitude = .01,\n",
    "        magnetic_field = 10e-3,\n",
    "    )\n",
    "\n",
    "    script.gate_study(\n",
    "        gate_voltages = np.linspace(-.02, .02, 10),\n",
    "        vna_frequency = 10e9,\n",
    "        vna_amplitude = .01,\n",
    "        # magnetic_field = 10e-3,\n",
    "    )\n",
    "\n",
    "    script.magnetic_field_study(\n",
    "        magnetic_fields = np.linspace(-.02, .02, 5),\n",
    "        gate_voltage = 1e-3,\n",
    "        # vna_frequency = 10e9,\n",
    "        # vna_amplitude = .01,\n",
    "    )\n",
    "\n",
    "    script.irradiation_study(\n",
    "        vna_frequencies=np.linspace(10e9, 20e9, 3),\n",
    "        vna_amplitudes=np.array([.01, .1]),\n",
    "        magnetic_field=10e-3,\n",
    "        # gate_voltage=1e-3,\n",
    "    )\n",
    "    \n",
    "    script.frequency_study(\n",
    "        vna_frequencies=np.linspace(10e9, 20e9, 5),\n",
    "        vna_amplitude=.1,\n",
    "        gate_voltage=1e-3,\n",
    "        )\n",
    "    script.amplitude_study(\n",
    "        vna_amplitudes=np.linspace(.2, 1, 5),\n",
    "        vna_frequency=10e9,\n",
    "        magnetic_field=10e-3,\n",
    "        )\n",
    "    \n",
    "    script.temperature_study(\n",
    "        temperatures= np.linspace(0.01, 0.21, 5),\n",
    "        relaxation_turns = None,\n",
    "    )\n",
    "\n",
    "    script.save_state()\n",
    "    server.stop_server()\n",
    "except KeyboardInterrupt:\n",
    "    script.save_state()\n",
    "    server.stop_server()\n",
    "\n",
    "# 4m 0.4s"
   ]
  },
  {
   "cell_type": "markdown",
   "metadata": {},
   "source": [
    "# OI-25a-17 cool down"
   ]
  },
  {
   "cell_type": "code",
   "execution_count": 2,
   "metadata": {},
   "outputs": [
    {
     "name": "stdout",
     "output_type": "stream",
     "text": [
      "time elapsed: 10775s\n",
      "KeyboardInterrupt\n"
     ]
    }
   ],
   "source": [
    "# CoolDown 09.01.2025 -> failed\n",
    "\n",
    "from ivscript_2_1 import MeasurementScript_v2\n",
    "\n",
    "script = MeasurementScript_v2()\n",
    "script.filename = f'data/OI-25a-17 25-01-09 cooldown 0.hdf5'\n",
    "script.manual_mode()"
   ]
  },
  {
   "cell_type": "code",
   "execution_count": 1,
   "metadata": {},
   "outputs": [
    {
     "name": "stderr",
     "output_type": "stream",
     "text": [
      "C:\\Users\\BlueFors\\AppData\\Local\\Packages\\PythonSoftwareFoundation.Python.3.10_qbz5n2kfra8p0\\LocalCache\\local-packages\\Python310\\site-packages\\tqdm\\auto.py:21: TqdmWarning: IProgress not found. Please update jupyter and ipywidgets. See https://ipywidgets.readthedocs.io/en/stable/user_install.html\n",
      "  from .autonotebook import tqdm as notebook_tqdm\n"
     ]
    },
    {
     "ename": "InstrumentServerError",
     "evalue": "Failed to create an instance of device \"vna\" of class \"<class 'core.drivers_v2.vna_v2.ZNB40_source'>\"",
     "output_type": "error",
     "traceback": [
      "\u001b[1;31m---------------------------------------------------------------------------\u001b[0m",
      "\u001b[1;31mVisaIOError\u001b[0m                               Traceback (most recent call last)",
      "File \u001b[1;32m~\\Documents\\p5control\\p5control\\server\\inserv.py:66\u001b[0m, in \u001b[0;36mInstrumentServer._add\u001b[1;34m(self, name, class_ref, *args, **kwargs)\u001b[0m\n\u001b[0;32m     65\u001b[0m \u001b[38;5;28;01mtry\u001b[39;00m:\n\u001b[1;32m---> 66\u001b[0m     instance \u001b[38;5;241m=\u001b[39m class_ref(name, \u001b[38;5;241m*\u001b[39margs, \u001b[38;5;241m*\u001b[39m\u001b[38;5;241m*\u001b[39mkwargs)\n\u001b[0;32m     67\u001b[0m \u001b[38;5;28;01mexcept\u001b[39;00m \u001b[38;5;167;01mException\u001b[39;00m \u001b[38;5;28;01mas\u001b[39;00m exc:\n",
      "File \u001b[1;32mc:\\Users\\BlueFors\\Documents\\p5control-bluefors\\core\\drivers_v2\\vna_v2.py:55\u001b[0m, in \u001b[0;36mZNB40_source.__init__\u001b[1;34m(self, name, address, S, res)\u001b[0m\n\u001b[0;32m     53\u001b[0m \u001b[38;5;28mself\u001b[39m\u001b[38;5;241m.\u001b[39mpower \u001b[38;5;241m=\u001b[39m \u001b[38;5;241m-\u001b[39m\u001b[38;5;241m30.0\u001b[39m\n\u001b[1;32m---> 55\u001b[0m \u001b[38;5;28;43mself\u001b[39;49m\u001b[38;5;241;43m.\u001b[39;49m\u001b[43mopen\u001b[49m\u001b[43m(\u001b[49m\u001b[43m)\u001b[49m\n\u001b[0;32m     56\u001b[0m \u001b[38;5;28mself\u001b[39m\u001b[38;5;241m.\u001b[39minitialize()\n",
      "File \u001b[1;32mc:\\Users\\BlueFors\\Documents\\p5control-bluefors\\core\\drivers_v2\\vna_v2.py:65\u001b[0m, in \u001b[0;36mZNB40_source.open\u001b[1;34m(self)\u001b[0m\n\u001b[0;32m     64\u001b[0m rm \u001b[38;5;241m=\u001b[39m pyvisa\u001b[38;5;241m.\u001b[39mResourceManager()\n\u001b[1;32m---> 65\u001b[0m \u001b[38;5;28mself\u001b[39m\u001b[38;5;241m.\u001b[39m_inst \u001b[38;5;241m=\u001b[39m \u001b[43mrm\u001b[49m\u001b[38;5;241;43m.\u001b[39;49m\u001b[43mopen_resource\u001b[49m\u001b[43m(\u001b[49m\u001b[38;5;124;43mf\u001b[39;49m\u001b[38;5;124;43m'\u001b[39;49m\u001b[38;5;124;43mTCPIP0::\u001b[39;49m\u001b[38;5;132;43;01m{\u001b[39;49;00m\u001b[38;5;28;43mself\u001b[39;49m\u001b[38;5;241;43m.\u001b[39;49m\u001b[43m_address\u001b[49m\u001b[38;5;132;43;01m}\u001b[39;49;00m\u001b[38;5;124;43m::inst0::INSTR\u001b[39;49m\u001b[38;5;124;43m'\u001b[39;49m\u001b[43m)\u001b[49m  \n\u001b[0;32m     66\u001b[0m \u001b[38;5;28mself\u001b[39m\u001b[38;5;241m.\u001b[39m_inst\u001b[38;5;241m.\u001b[39mtimeout\u001b[38;5;241m=\u001b[39m\u001b[38;5;241m3e4\u001b[39m \n",
      "File \u001b[1;32m~\\AppData\\Local\\Packages\\PythonSoftwareFoundation.Python.3.10_qbz5n2kfra8p0\\LocalCache\\local-packages\\Python310\\site-packages\\pyvisa\\highlevel.py:3284\u001b[0m, in \u001b[0;36mResourceManager.open_resource\u001b[1;34m(self, resource_name, access_mode, open_timeout, resource_pyclass, **kwargs)\u001b[0m\n\u001b[0;32m   3279\u001b[0m         \u001b[38;5;28;01mraise\u001b[39;00m \u001b[38;5;167;01mValueError\u001b[39;00m(\n\u001b[0;32m   3280\u001b[0m             \u001b[38;5;124m\"\u001b[39m\u001b[38;5;132;01m%r\u001b[39;00m\u001b[38;5;124m is not a valid attribute for type \u001b[39m\u001b[38;5;132;01m%s\u001b[39;00m\u001b[38;5;124m\"\u001b[39m\n\u001b[0;32m   3281\u001b[0m             \u001b[38;5;241m%\u001b[39m (key, res\u001b[38;5;241m.\u001b[39m\u001b[38;5;18m__class__\u001b[39m\u001b[38;5;241m.\u001b[39m\u001b[38;5;18m__name__\u001b[39m)\n\u001b[0;32m   3282\u001b[0m         )\n\u001b[1;32m-> 3284\u001b[0m \u001b[43mres\u001b[49m\u001b[38;5;241;43m.\u001b[39;49m\u001b[43mopen\u001b[49m\u001b[43m(\u001b[49m\u001b[43maccess_mode\u001b[49m\u001b[43m,\u001b[49m\u001b[43m \u001b[49m\u001b[43mopen_timeout\u001b[49m\u001b[43m)\u001b[49m\n\u001b[0;32m   3286\u001b[0m \u001b[38;5;28;01mfor\u001b[39;00m key, value \u001b[38;5;129;01min\u001b[39;00m kwargs\u001b[38;5;241m.\u001b[39mitems():\n",
      "File \u001b[1;32m~\\AppData\\Local\\Packages\\PythonSoftwareFoundation.Python.3.10_qbz5n2kfra8p0\\LocalCache\\local-packages\\Python310\\site-packages\\pyvisa\\resources\\resource.py:282\u001b[0m, in \u001b[0;36mResource.open\u001b[1;34m(self, access_mode, open_timeout)\u001b[0m\n\u001b[0;32m    279\u001b[0m \u001b[38;5;28;01mwith\u001b[39;00m \u001b[38;5;28mself\u001b[39m\u001b[38;5;241m.\u001b[39m_resource_manager\u001b[38;5;241m.\u001b[39mignore_warning(\n\u001b[0;32m    280\u001b[0m     constants\u001b[38;5;241m.\u001b[39mStatusCode\u001b[38;5;241m.\u001b[39msuccess_device_not_present\n\u001b[0;32m    281\u001b[0m ):\n\u001b[1;32m--> 282\u001b[0m     \u001b[38;5;28mself\u001b[39m\u001b[38;5;241m.\u001b[39msession, status \u001b[38;5;241m=\u001b[39m \u001b[38;5;28;43mself\u001b[39;49m\u001b[38;5;241;43m.\u001b[39;49m\u001b[43m_resource_manager\u001b[49m\u001b[38;5;241;43m.\u001b[39;49m\u001b[43mopen_bare_resource\u001b[49m\u001b[43m(\u001b[49m\n\u001b[0;32m    283\u001b[0m \u001b[43m        \u001b[49m\u001b[38;5;28;43mself\u001b[39;49m\u001b[38;5;241;43m.\u001b[39;49m\u001b[43m_resource_name\u001b[49m\u001b[43m,\u001b[49m\u001b[43m \u001b[49m\u001b[43maccess_mode\u001b[49m\u001b[43m,\u001b[49m\u001b[43m \u001b[49m\u001b[43mopen_timeout\u001b[49m\n\u001b[0;32m    284\u001b[0m \u001b[43m    \u001b[49m\u001b[43m)\u001b[49m\n\u001b[0;32m    286\u001b[0m     \u001b[38;5;28;01mif\u001b[39;00m status \u001b[38;5;241m==\u001b[39m constants\u001b[38;5;241m.\u001b[39mStatusCode\u001b[38;5;241m.\u001b[39msuccess_device_not_present:\n\u001b[0;32m    287\u001b[0m         \u001b[38;5;66;03m# The device was not ready when we opened the session.\u001b[39;00m\n\u001b[0;32m    288\u001b[0m         \u001b[38;5;66;03m# Now it gets five seconds more to become ready.\u001b[39;00m\n\u001b[0;32m    289\u001b[0m         \u001b[38;5;66;03m# Every 0.1 seconds we probe it with viClear.\u001b[39;00m\n",
      "File \u001b[1;32m~\\AppData\\Local\\Packages\\PythonSoftwareFoundation.Python.3.10_qbz5n2kfra8p0\\LocalCache\\local-packages\\Python310\\site-packages\\pyvisa\\highlevel.py:3209\u001b[0m, in \u001b[0;36mResourceManager.open_bare_resource\u001b[1;34m(self, resource_name, access_mode, open_timeout)\u001b[0m\n\u001b[0;32m   3186\u001b[0m \u001b[38;5;250m\u001b[39m\u001b[38;5;124;03m\"\"\"Open the specified resource without wrapping into a class.\u001b[39;00m\n\u001b[0;32m   3187\u001b[0m \n\u001b[0;32m   3188\u001b[0m \u001b[38;5;124;03mParameters\u001b[39;00m\n\u001b[1;32m   (...)\u001b[0m\n\u001b[0;32m   3207\u001b[0m \n\u001b[0;32m   3208\u001b[0m \u001b[38;5;124;03m\"\"\"\u001b[39;00m\n\u001b[1;32m-> 3209\u001b[0m \u001b[38;5;28;01mreturn\u001b[39;00m \u001b[38;5;28;43mself\u001b[39;49m\u001b[38;5;241;43m.\u001b[39;49m\u001b[43mvisalib\u001b[49m\u001b[38;5;241;43m.\u001b[39;49m\u001b[43mopen\u001b[49m\u001b[43m(\u001b[49m\u001b[38;5;28;43mself\u001b[39;49m\u001b[38;5;241;43m.\u001b[39;49m\u001b[43msession\u001b[49m\u001b[43m,\u001b[49m\u001b[43m \u001b[49m\u001b[43mresource_name\u001b[49m\u001b[43m,\u001b[49m\u001b[43m \u001b[49m\u001b[43maccess_mode\u001b[49m\u001b[43m,\u001b[49m\u001b[43m \u001b[49m\u001b[43mopen_timeout\u001b[49m\u001b[43m)\u001b[49m\n",
      "File \u001b[1;32m~\\AppData\\Local\\Packages\\PythonSoftwareFoundation.Python.3.10_qbz5n2kfra8p0\\LocalCache\\local-packages\\Python310\\site-packages\\pyvisa\\ctwrapper\\functions.py:1851\u001b[0m, in \u001b[0;36mopen\u001b[1;34m(library, session, resource_name, access_mode, open_timeout)\u001b[0m\n\u001b[0;32m   1849\u001b[0m \u001b[38;5;66;03m# [ViSession, ViRsrc, ViAccessMode, ViUInt32, ViPSession]\u001b[39;00m\n\u001b[0;32m   1850\u001b[0m \u001b[38;5;66;03m# ViRsrc converts from (str, unicode, bytes) to bytes\u001b[39;00m\n\u001b[1;32m-> 1851\u001b[0m ret \u001b[38;5;241m=\u001b[39m \u001b[43mlibrary\u001b[49m\u001b[38;5;241;43m.\u001b[39;49m\u001b[43mviOpen\u001b[49m\u001b[43m(\u001b[49m\n\u001b[0;32m   1852\u001b[0m \u001b[43m    \u001b[49m\u001b[43msession\u001b[49m\u001b[43m,\u001b[49m\u001b[43m \u001b[49m\u001b[43mresource_name\u001b[49m\u001b[43m,\u001b[49m\u001b[43m \u001b[49m\u001b[43maccess_mode\u001b[49m\u001b[43m,\u001b[49m\u001b[43m \u001b[49m\u001b[43mopen_timeout\u001b[49m\u001b[43m,\u001b[49m\u001b[43m \u001b[49m\u001b[43mbyref\u001b[49m\u001b[43m(\u001b[49m\u001b[43mout_session\u001b[49m\u001b[43m)\u001b[49m\n\u001b[0;32m   1853\u001b[0m \u001b[43m\u001b[49m\u001b[43m)\u001b[49m\n\u001b[0;32m   1854\u001b[0m \u001b[38;5;28;01mreturn\u001b[39;00m out_session\u001b[38;5;241m.\u001b[39mvalue, ret\n",
      "File \u001b[1;32m~\\AppData\\Local\\Packages\\PythonSoftwareFoundation.Python.3.10_qbz5n2kfra8p0\\LocalCache\\local-packages\\Python310\\site-packages\\pyvisa\\ctwrapper\\highlevel.py:226\u001b[0m, in \u001b[0;36mIVIVisaLibrary._return_handler\u001b[1;34m(self, ret_value, func, arguments)\u001b[0m\n\u001b[0;32m    224\u001b[0m         session \u001b[38;5;241m=\u001b[39m \u001b[38;5;28;01mNone\u001b[39;00m\n\u001b[1;32m--> 226\u001b[0m \u001b[38;5;28;01mreturn\u001b[39;00m \u001b[38;5;28;43mself\u001b[39;49m\u001b[38;5;241;43m.\u001b[39;49m\u001b[43mhandle_return_value\u001b[49m\u001b[43m(\u001b[49m\u001b[43msession\u001b[49m\u001b[43m,\u001b[49m\u001b[43m \u001b[49m\u001b[43mret_value\u001b[49m\u001b[43m)\u001b[49m\n",
      "File \u001b[1;32m~\\AppData\\Local\\Packages\\PythonSoftwareFoundation.Python.3.10_qbz5n2kfra8p0\\LocalCache\\local-packages\\Python310\\site-packages\\pyvisa\\highlevel.py:251\u001b[0m, in \u001b[0;36mVisaLibraryBase.handle_return_value\u001b[1;34m(self, session, status_code)\u001b[0m\n\u001b[0;32m    250\u001b[0m \u001b[38;5;28;01mif\u001b[39;00m rv \u001b[38;5;241m<\u001b[39m \u001b[38;5;241m0\u001b[39m:\n\u001b[1;32m--> 251\u001b[0m     \u001b[38;5;28;01mraise\u001b[39;00m errors\u001b[38;5;241m.\u001b[39mVisaIOError(rv)\n\u001b[0;32m    253\u001b[0m \u001b[38;5;28;01mif\u001b[39;00m rv \u001b[38;5;129;01min\u001b[39;00m \u001b[38;5;28mself\u001b[39m\u001b[38;5;241m.\u001b[39missue_warning_on:\n",
      "\u001b[1;31mVisaIOError\u001b[0m: VI_ERROR_RSRC_NFOUND (-1073807343): Insufficient location information or the requested device or resource is not present in the system.",
      "\nThe above exception was the direct cause of the following exception:\n",
      "\u001b[1;31mInstrumentServerError\u001b[0m                     Traceback (most recent call last)",
      "Cell \u001b[1;32mIn[1], line 7\u001b[0m\n\u001b[0;32m      5\u001b[0m script \u001b[38;5;241m=\u001b[39m MeasurementScript_v2()\n\u001b[0;32m      6\u001b[0m script\u001b[38;5;241m.\u001b[39mfilename \u001b[38;5;241m=\u001b[39m \u001b[38;5;124mf\u001b[39m\u001b[38;5;124m'\u001b[39m\u001b[38;5;124mdata/OI-25a-17 25-01-09 praktiukum.hdf5\u001b[39m\u001b[38;5;124m'\u001b[39m\n\u001b[1;32m----> 7\u001b[0m \u001b[43mscript\u001b[49m\u001b[38;5;241;43m.\u001b[39;49m\u001b[43mmanual_mode\u001b[49m\u001b[43m(\u001b[49m\u001b[43m)\u001b[49m\n",
      "File \u001b[1;32mc:\\Users\\BlueFors\\Documents\\p5control-bluefors\\ivscript_2_1.py:163\u001b[0m, in \u001b[0;36mMeasurementScript_v2.manual_mode\u001b[1;34m(self)\u001b[0m\n\u001b[0;32m    162\u001b[0m \u001b[38;5;28;01mdef\u001b[39;00m \u001b[38;5;21mmanual_mode\u001b[39m(\u001b[38;5;28mself\u001b[39m):\n\u001b[1;32m--> 163\u001b[0m     \u001b[38;5;28;43mself\u001b[39;49m\u001b[38;5;241;43m.\u001b[39;49m\u001b[43minit\u001b[49m\u001b[43m(\u001b[49m\u001b[43m)\u001b[49m\n\u001b[0;32m    164\u001b[0m     \u001b[38;5;28;01mtry\u001b[39;00m:\n\u001b[0;32m    165\u001b[0m         i\u001b[38;5;241m=\u001b[39m\u001b[38;5;241m0\u001b[39m\n",
      "File \u001b[1;32mc:\\Users\\BlueFors\\Documents\\p5control-bluefors\\ivscript_2_1.py:117\u001b[0m, in \u001b[0;36mMeasurementScript_v2.init\u001b[1;34m(self)\u001b[0m\n\u001b[0;32m    116\u001b[0m \u001b[38;5;28;01mdef\u001b[39;00m \u001b[38;5;21minit\u001b[39m(\u001b[38;5;28mself\u001b[39m):\n\u001b[1;32m--> 117\u001b[0m     \u001b[38;5;28;43mself\u001b[39;49m\u001b[38;5;241;43m.\u001b[39;49m\u001b[43mstart_server\u001b[49m\u001b[43m(\u001b[49m\u001b[43m)\u001b[49m\n\u001b[0;32m    118\u001b[0m     \u001b[38;5;28mself\u001b[39m\u001b[38;5;241m.\u001b[39minitialize_devices()\n",
      "File \u001b[1;32mc:\\Users\\BlueFors\\Documents\\p5control-bluefors\\ivscript_2_1.py:125\u001b[0m, in \u001b[0;36mMeasurementScript_v2.start_server\u001b[1;34m(self)\u001b[0m\n\u001b[0;32m    124\u001b[0m \u001b[38;5;28;01mdef\u001b[39;00m \u001b[38;5;21mstart_server\u001b[39m(\u001b[38;5;28mself\u001b[39m):\n\u001b[1;32m--> 125\u001b[0m     \u001b[38;5;28;43mself\u001b[39;49m\u001b[38;5;241;43m.\u001b[39;49m\u001b[43mserver\u001b[49m\u001b[38;5;241;43m.\u001b[39;49m\u001b[43mstart_server\u001b[49m\u001b[43m(\u001b[49m\n\u001b[0;32m    126\u001b[0m \u001b[43m        \u001b[49m\u001b[43mserver_name\u001b[49m\u001b[38;5;241;43m=\u001b[39;49m\u001b[38;5;28;43mself\u001b[39;49m\u001b[38;5;241;43m.\u001b[39;49m\u001b[43mfilename\u001b[49m\u001b[43m,\u001b[49m\n\u001b[0;32m    127\u001b[0m \u001b[43m        \u001b[49m\u001b[43mS\u001b[49m\u001b[38;5;241;43m=\u001b[39;49m\u001b[38;5;28;43mself\u001b[39;49m\u001b[38;5;241;43m.\u001b[39;49m\u001b[43mS\u001b[49m\u001b[43m,\u001b[49m\n\u001b[0;32m    128\u001b[0m \u001b[43m    \u001b[49m\u001b[43m)\u001b[49m\n\u001b[0;32m    129\u001b[0m     \u001b[38;5;28mself\u001b[39m\u001b[38;5;241m.\u001b[39mdgw\u001b[38;5;241m.\u001b[39mconnect()\n\u001b[0;32m    130\u001b[0m     \u001b[38;5;28mself\u001b[39m\u001b[38;5;241m.\u001b[39mgw\u001b[38;5;241m.\u001b[39mconnect()\n",
      "File \u001b[1;32mc:\\Users\\BlueFors\\Documents\\p5control-bluefors\\ivscript_2_1.py:57\u001b[0m, in \u001b[0;36mBlueforsServer_v2.start_server\u001b[1;34m(self, server_name, S, R_ref)\u001b[0m\n\u001b[0;32m     55\u001b[0m \u001b[38;5;28mself\u001b[39m\u001b[38;5;241m.\u001b[39minserv\u001b[38;5;241m.\u001b[39m_add(\u001b[38;5;124m'\u001b[39m\u001b[38;5;124mrref\u001b[39m\u001b[38;5;124m'\u001b[39m,  Rref, R_ref \u001b[38;5;241m=\u001b[39m R_ref) \u001b[38;5;66;03m# 100kOhm\u001b[39;00m\n\u001b[0;32m     56\u001b[0m \u001b[38;5;28mself\u001b[39m\u001b[38;5;241m.\u001b[39minserv\u001b[38;5;241m.\u001b[39m_add(\u001b[38;5;124m'\u001b[39m\u001b[38;5;124mfemto\u001b[39m\u001b[38;5;124m'\u001b[39m, Femto)\n\u001b[1;32m---> 57\u001b[0m \u001b[38;5;28;43mself\u001b[39;49m\u001b[38;5;241;43m.\u001b[39;49m\u001b[43minserv\u001b[49m\u001b[38;5;241;43m.\u001b[39;49m\u001b[43m_add\u001b[49m\u001b[43m(\u001b[49m\u001b[38;5;124;43m'\u001b[39;49m\u001b[38;5;124;43mvna\u001b[39;49m\u001b[38;5;124;43m'\u001b[39;49m\u001b[43m,\u001b[49m\u001b[43m   \u001b[49m\u001b[43mZNB40_source\u001b[49m\u001b[43m,\u001b[49m\u001b[43m \u001b[49m\u001b[43mS\u001b[49m\u001b[43m \u001b[49m\u001b[38;5;241;43m=\u001b[39;49m\u001b[43m \u001b[49m\u001b[43mS\u001b[49m\u001b[43m)\u001b[49m\n\u001b[0;32m     58\u001b[0m \u001b[38;5;28mself\u001b[39m\u001b[38;5;241m.\u001b[39minserv\u001b[38;5;241m.\u001b[39m_add(\u001b[38;5;124m'\u001b[39m\u001b[38;5;124mgate\u001b[39m\u001b[38;5;124m'\u001b[39m,  YokogawaGS200)\n\u001b[0;32m     59\u001b[0m \u001b[38;5;28mself\u001b[39m\u001b[38;5;241m.\u001b[39minserv\u001b[38;5;241m.\u001b[39m_add(\u001b[38;5;124m'\u001b[39m\u001b[38;5;124mbluefors\u001b[39m\u001b[38;5;124m'\u001b[39m, BlueForsAPI) \u001b[38;5;66;03m# try to remove errors of sampleheater\u001b[39;00m\n",
      "File \u001b[1;32m~\\Documents\\p5control\\p5control\\server\\inserv.py:68\u001b[0m, in \u001b[0;36mInstrumentServer._add\u001b[1;34m(self, name, class_ref, *args, **kwargs)\u001b[0m\n\u001b[0;32m     66\u001b[0m     instance \u001b[38;5;241m=\u001b[39m class_ref(name, \u001b[38;5;241m*\u001b[39margs, \u001b[38;5;241m*\u001b[39m\u001b[38;5;241m*\u001b[39mkwargs)\n\u001b[0;32m     67\u001b[0m \u001b[38;5;28;01mexcept\u001b[39;00m \u001b[38;5;167;01mException\u001b[39;00m \u001b[38;5;28;01mas\u001b[39;00m exc:\n\u001b[1;32m---> 68\u001b[0m     \u001b[38;5;28;01mraise\u001b[39;00m InstrumentServerError(\n\u001b[0;32m     69\u001b[0m         \u001b[38;5;124mf\u001b[39m\u001b[38;5;124m'\u001b[39m\u001b[38;5;124mFailed to create an instance of device \u001b[39m\u001b[38;5;124m\"\u001b[39m\u001b[38;5;132;01m{\u001b[39;00mname\u001b[38;5;132;01m}\u001b[39;00m\u001b[38;5;124m\"\u001b[39m\u001b[38;5;124m of class\u001b[39m\u001b[38;5;124m'\u001b[39m\n\u001b[0;32m     70\u001b[0m         \u001b[38;5;124mf\u001b[39m\u001b[38;5;124m'\u001b[39m\u001b[38;5;124m \u001b[39m\u001b[38;5;124m\"\u001b[39m\u001b[38;5;132;01m{\u001b[39;00mclass_ref\u001b[38;5;132;01m}\u001b[39;00m\u001b[38;5;124m\"\u001b[39m\u001b[38;5;124m'\u001b[39m,\n\u001b[0;32m     71\u001b[0m     ) \u001b[38;5;28;01mfrom\u001b[39;00m \u001b[38;5;21;01mexc\u001b[39;00m\n\u001b[0;32m     73\u001b[0m \u001b[38;5;66;03m# save the device and config info\u001b[39;00m\n\u001b[0;32m     74\u001b[0m config \u001b[38;5;241m=\u001b[39m {\n\u001b[0;32m     75\u001b[0m     \u001b[38;5;124m'\u001b[39m\u001b[38;5;124mclass_ref\u001b[39m\u001b[38;5;124m'\u001b[39m: class_ref,\n\u001b[0;32m     76\u001b[0m     \u001b[38;5;124m'\u001b[39m\u001b[38;5;124margs\u001b[39m\u001b[38;5;124m'\u001b[39m: args,\n\u001b[0;32m     77\u001b[0m     \u001b[38;5;124m'\u001b[39m\u001b[38;5;124mkwargs\u001b[39m\u001b[38;5;124m'\u001b[39m: kwargs,\n\u001b[0;32m     78\u001b[0m }\n",
      "\u001b[1;31mInstrumentServerError\u001b[0m: Failed to create an instance of device \"vna\" of class \"<class 'core.drivers_v2.vna_v2.ZNB40_source'>\""
     ]
    }
   ],
   "source": [
    "# CoolDown 09.01.2025 -> failed\n",
    "\n",
    "from ivscript_2_1 import MeasurementScript_v2\n",
    "\n",
    "script = MeasurementScript_v2()\n",
    "script.filename = f'data/OI-25a-17 25-01-09 praktiukum.hdf5'\n",
    "script.manual_mode()"
   ]
  },
  {
   "cell_type": "code",
   "execution_count": 4,
   "metadata": {},
   "outputs": [
    {
     "name": "stdout",
     "output_type": "stream",
     "text": [
      "time elapsed: 7439s\n",
      "KeyboardInterrupt\n"
     ]
    }
   ],
   "source": [
    "# Test Cabling 24.02.25\n",
    "\n",
    "from ivscript_2_1 import MeasurementScript_v2\n",
    "\n",
    "script = MeasurementScript_v2()\n",
    "script.filename = f'data/OhneProbe 25-02-24 cable testing 0.hdf5'\n",
    "script.manual_mode()"
   ]
  },
  {
   "cell_type": "code",
   "execution_count": 4,
   "metadata": {},
   "outputs": [
    {
     "name": "stdout",
     "output_type": "stream",
     "text": [
      "time elapsed: 0885s\n",
      "KeyboardInterrupt\n"
     ]
    }
   ],
   "source": [
    "# Cool Down 26.02.25\n",
    "\n",
    "from ivscript_2_1 import MeasurementScript_v2\n",
    "\n",
    "script = MeasurementScript_v2()\n",
    "script.filename = f'data/OI-25c-06 25-02-26 cool down 0.hdf5'\n",
    "script.manual_mode()"
   ]
  },
  {
   "cell_type": "code",
   "execution_count": 1,
   "metadata": {},
   "outputs": [
    {
     "name": "stderr",
     "output_type": "stream",
     "text": [
      "C:\\Users\\BlueFors\\AppData\\Local\\Packages\\PythonSoftwareFoundation.Python.3.10_qbz5n2kfra8p0\\LocalCache\\local-packages\\Python310\\site-packages\\tqdm\\auto.py:21: TqdmWarning: IProgress not found. Please update jupyter and ipywidgets. See https://ipywidgets.readthedocs.io/en/stable/user_install.html\n",
      "  from .autonotebook import tqdm as notebook_tqdm\n"
     ]
    },
    {
     "name": "stdout",
     "output_type": "stream",
     "text": [
      "time elapsed: 168136s\n",
      "KeyboardInterrupt\n"
     ]
    },
    {
     "ename": "pyvisa.errors.VisaIOError",
     "evalue": "VI_ERROR_INV_RSRC_NAME (-1073807342): Invalid resource reference specified. Parsing error.\n\n========= Remote Traceback (1) =========\nTraceback (most recent call last):\n  File \"C:\\Users\\BlueFors\\AppData\\Local\\Packages\\PythonSoftwareFoundation.Python.3.10_qbz5n2kfra8p0\\LocalCache\\local-packages\\Python310\\site-packages\\rpyc\\core\\protocol.py\", line 359, in _dispatch_request\n    res = self._HANDLERS[handler](self, *args)\n  File \"C:\\Users\\BlueFors\\AppData\\Local\\Packages\\PythonSoftwareFoundation.Python.3.10_qbz5n2kfra8p0\\LocalCache\\local-packages\\Python310\\site-packages\\rpyc\\core\\protocol.py\", line 837, in _handle_call\n    return obj(*args, **dict(kwargs))\n  File \"c:\\Users\\BlueFors\\Documents\\p5control-bluefors\\core\\drivers_v2\\yoko_v2.py\", line 99, in setOutput\n    self.write(f':output {int(output)}')\n  File \"C:\\Users\\BlueFors\\Documents\\p5control\\p5control\\drivers\\basedriver.py\", line 269, in write\n    return self._inst.write(message)\n  File \"C:\\Users\\BlueFors\\AppData\\Local\\Packages\\PythonSoftwareFoundation.Python.3.10_qbz5n2kfra8p0\\LocalCache\\local-packages\\Python310\\site-packages\\pyvisa\\resources\\messagebased.py\", line 197, in write\n    count = self.write_raw(message.encode(enco))\n  File \"C:\\Users\\BlueFors\\AppData\\Local\\Packages\\PythonSoftwareFoundation.Python.3.10_qbz5n2kfra8p0\\LocalCache\\local-packages\\Python310\\site-packages\\pyvisa\\resources\\messagebased.py\", line 157, in write_raw\n    return self.visalib.write(self.session, message)[0]\n  File \"C:\\Users\\BlueFors\\AppData\\Local\\Packages\\PythonSoftwareFoundation.Python.3.10_qbz5n2kfra8p0\\LocalCache\\local-packages\\Python310\\site-packages\\pyvisa\\ctwrapper\\functions.py\", line 2796, in write\n    ret = library.viWrite(session, data, len(data), byref(return_count))\n  File \"C:\\Users\\BlueFors\\AppData\\Local\\Packages\\PythonSoftwareFoundation.Python.3.10_qbz5n2kfra8p0\\LocalCache\\local-packages\\Python310\\site-packages\\pyvisa\\ctwrapper\\highlevel.py\", line 226, in _return_handler\n    return self.handle_return_value(session, ret_value)  # type: ignore\n  File \"C:\\Users\\BlueFors\\AppData\\Local\\Packages\\PythonSoftwareFoundation.Python.3.10_qbz5n2kfra8p0\\LocalCache\\local-packages\\Python310\\site-packages\\pyvisa\\highlevel.py\", line 251, in handle_return_value\n    raise errors.VisaIOError(rv)\npyvisa.errors.VisaIOError: VI_ERROR_INV_RSRC_NAME (-1073807342): Invalid resource reference specified. Parsing error.\n",
     "output_type": "error",
     "traceback": [
      "\u001b[1;31m---------------------------------------------------------------------------\u001b[0m",
      "\u001b[1;31mKeyboardInterrupt\u001b[0m                         Traceback (most recent call last)",
      "File \u001b[1;32mc:\\Users\\BlueFors\\Documents\\p5control-bluefors\\ivscript_2_1.py:167\u001b[0m, in \u001b[0;36mMeasurementScript_v2.manual_mode\u001b[1;34m(self)\u001b[0m\n\u001b[0;32m    166\u001b[0m \u001b[38;5;28;01mwhile\u001b[39;00m \u001b[38;5;28;01mTrue\u001b[39;00m:\n\u001b[1;32m--> 167\u001b[0m     \u001b[43msleep\u001b[49m\u001b[43m(\u001b[49m\u001b[38;5;241;43m1\u001b[39;49m\u001b[43m)\u001b[49m\n\u001b[0;32m    168\u001b[0m     \u001b[38;5;28mprint\u001b[39m(\u001b[38;5;124mf\u001b[39m\u001b[38;5;124m\"\u001b[39m\u001b[38;5;124mtime elapsed: \u001b[39m\u001b[38;5;132;01m{\u001b[39;00mi\u001b[38;5;132;01m:\u001b[39;00m\u001b[38;5;124m04d\u001b[39m\u001b[38;5;132;01m}\u001b[39;00m\u001b[38;5;124ms\u001b[39m\u001b[38;5;124m\"\u001b[39m, end\u001b[38;5;241m=\u001b[39m\u001b[38;5;124m\"\u001b[39m\u001b[38;5;130;01m\\r\u001b[39;00m\u001b[38;5;124m\"\u001b[39m)\n",
      "\u001b[1;31mKeyboardInterrupt\u001b[0m: ",
      "\nDuring handling of the above exception, another exception occurred:\n",
      "\u001b[1;31mpyvisa.errors.VisaIOError\u001b[0m                 Traceback (most recent call last)",
      "Cell \u001b[1;32mIn[1], line 7\u001b[0m\n\u001b[0;32m      5\u001b[0m script \u001b[38;5;241m=\u001b[39m MeasurementScript_v2()\n\u001b[0;32m      6\u001b[0m script\u001b[38;5;241m.\u001b[39mfilename \u001b[38;5;241m=\u001b[39m \u001b[38;5;124mf\u001b[39m\u001b[38;5;124m'\u001b[39m\u001b[38;5;124mdata/OI-25c-07 25-03-05 cool down 2.hdf5\u001b[39m\u001b[38;5;124m'\u001b[39m\n\u001b[1;32m----> 7\u001b[0m \u001b[43mscript\u001b[49m\u001b[38;5;241;43m.\u001b[39;49m\u001b[43mmanual_mode\u001b[49m\u001b[43m(\u001b[49m\u001b[43m)\u001b[49m\n",
      "File \u001b[1;32mc:\\Users\\BlueFors\\Documents\\p5control-bluefors\\ivscript_2_1.py:173\u001b[0m, in \u001b[0;36mMeasurementScript_v2.manual_mode\u001b[1;34m(self)\u001b[0m\n\u001b[0;32m    171\u001b[0m     \u001b[38;5;28mprint\u001b[39m(\u001b[38;5;124m\"\u001b[39m\u001b[38;5;124m\"\u001b[39m)\n\u001b[0;32m    172\u001b[0m     \u001b[38;5;28mprint\u001b[39m(\u001b[38;5;124m\"\u001b[39m\u001b[38;5;124mKeyboardInterrupt\u001b[39m\u001b[38;5;124m\"\u001b[39m)\n\u001b[1;32m--> 173\u001b[0m     \u001b[38;5;28;43mself\u001b[39;49m\u001b[38;5;241;43m.\u001b[39;49m\u001b[43mclose\u001b[49m\u001b[43m(\u001b[49m\u001b[43m)\u001b[49m\n\u001b[0;32m    174\u001b[0m \u001b[38;5;28;01mexcept\u001b[39;00m \u001b[38;5;167;01mException\u001b[39;00m:\n\u001b[0;32m    175\u001b[0m     \u001b[38;5;28mprint\u001b[39m(\u001b[38;5;124m\"\u001b[39m\u001b[38;5;124m\"\u001b[39m)\n",
      "File \u001b[1;32mc:\\Users\\BlueFors\\Documents\\p5control-bluefors\\ivscript_2_1.py:121\u001b[0m, in \u001b[0;36mMeasurementScript_v2.close\u001b[1;34m(self)\u001b[0m\n\u001b[0;32m    120\u001b[0m \u001b[38;5;28;01mdef\u001b[39;00m \u001b[38;5;21mclose\u001b[39m(\u001b[38;5;28mself\u001b[39m):\n\u001b[1;32m--> 121\u001b[0m     \u001b[38;5;28;43mself\u001b[39;49m\u001b[38;5;241;43m.\u001b[39;49m\u001b[43msave_state\u001b[49m\u001b[43m(\u001b[49m\u001b[43m)\u001b[49m\n\u001b[0;32m    122\u001b[0m     \u001b[38;5;28mself\u001b[39m\u001b[38;5;241m.\u001b[39mstop_server()\n",
      "File \u001b[1;32mc:\\Users\\BlueFors\\Documents\\p5control-bluefors\\ivscript_2_1.py:154\u001b[0m, in \u001b[0;36mMeasurementScript_v2.save_state\u001b[1;34m(self)\u001b[0m\n\u001b[0;32m    151\u001b[0m \u001b[38;5;28mself\u001b[39m\u001b[38;5;241m.\u001b[39mgw\u001b[38;5;241m.\u001b[39mmagnet\u001b[38;5;241m.\u001b[39mramp() \n\u001b[0;32m    153\u001b[0m \u001b[38;5;28mself\u001b[39m\u001b[38;5;241m.\u001b[39mgw\u001b[38;5;241m.\u001b[39mvna\u001b[38;5;241m.\u001b[39msetOutput(\u001b[38;5;28;01mFalse\u001b[39;00m)\n\u001b[1;32m--> 154\u001b[0m \u001b[38;5;28;43mself\u001b[39;49m\u001b[38;5;241;43m.\u001b[39;49m\u001b[43mgw\u001b[49m\u001b[38;5;241;43m.\u001b[39;49m\u001b[43mgate\u001b[49m\u001b[38;5;241;43m.\u001b[39;49m\u001b[43msetOutput\u001b[49m\u001b[43m(\u001b[49m\u001b[38;5;28;43;01mFalse\u001b[39;49;00m\u001b[43m)\u001b[49m\n\u001b[0;32m    155\u001b[0m \u001b[38;5;28mself\u001b[39m\u001b[38;5;241m.\u001b[39mgw\u001b[38;5;241m.\u001b[39mbluefors\u001b[38;5;241m.\u001b[39msetManualMode(\u001b[38;5;28;01mFalse\u001b[39;00m)\n\u001b[0;32m    156\u001b[0m \u001b[38;5;28mself\u001b[39m\u001b[38;5;241m.\u001b[39mgw\u001b[38;5;241m.\u001b[39mbluefors\u001b[38;5;241m.\u001b[39msetPIDMode(\u001b[38;5;28;01mFalse\u001b[39;00m)\n",
      "File \u001b[1;32m~\\AppData\\Local\\Packages\\PythonSoftwareFoundation.Python.3.10_qbz5n2kfra8p0\\LocalCache\\local-packages\\Python310\\site-packages\\rpyc\\core\\netref.py:240\u001b[0m, in \u001b[0;36m_make_method.<locals>.__call__\u001b[1;34m(_self, *args, **kwargs)\u001b[0m\n\u001b[0;32m    238\u001b[0m \u001b[38;5;28;01mdef\u001b[39;00m \u001b[38;5;21m__call__\u001b[39m(_self, \u001b[38;5;241m*\u001b[39margs, \u001b[38;5;241m*\u001b[39m\u001b[38;5;241m*\u001b[39mkwargs):\n\u001b[0;32m    239\u001b[0m     kwargs \u001b[38;5;241m=\u001b[39m \u001b[38;5;28mtuple\u001b[39m(kwargs\u001b[38;5;241m.\u001b[39mitems())\n\u001b[1;32m--> 240\u001b[0m     \u001b[38;5;28;01mreturn\u001b[39;00m \u001b[43msyncreq\u001b[49m\u001b[43m(\u001b[49m\u001b[43m_self\u001b[49m\u001b[43m,\u001b[49m\u001b[43m \u001b[49m\u001b[43mconsts\u001b[49m\u001b[38;5;241;43m.\u001b[39;49m\u001b[43mHANDLE_CALL\u001b[49m\u001b[43m,\u001b[49m\u001b[43m \u001b[49m\u001b[43margs\u001b[49m\u001b[43m,\u001b[49m\u001b[43m \u001b[49m\u001b[43mkwargs\u001b[49m\u001b[43m)\u001b[49m\n",
      "File \u001b[1;32m~\\AppData\\Local\\Packages\\PythonSoftwareFoundation.Python.3.10_qbz5n2kfra8p0\\LocalCache\\local-packages\\Python310\\site-packages\\rpyc\\core\\netref.py:63\u001b[0m, in \u001b[0;36msyncreq\u001b[1;34m(proxy, handler, *args)\u001b[0m\n\u001b[0;32m     51\u001b[0m \u001b[38;5;250m\u001b[39m\u001b[38;5;124;03m\"\"\"Performs a synchronous request on the given proxy object.\u001b[39;00m\n\u001b[0;32m     52\u001b[0m \u001b[38;5;124;03mNot intended to be invoked directly.\u001b[39;00m\n\u001b[0;32m     53\u001b[0m \n\u001b[1;32m   (...)\u001b[0m\n\u001b[0;32m     60\u001b[0m \u001b[38;5;124;03m:returns: the result of the operation\u001b[39;00m\n\u001b[0;32m     61\u001b[0m \u001b[38;5;124;03m\"\"\"\u001b[39;00m\n\u001b[0;32m     62\u001b[0m conn \u001b[38;5;241m=\u001b[39m \u001b[38;5;28mobject\u001b[39m\u001b[38;5;241m.\u001b[39m\u001b[38;5;21m__getattribute__\u001b[39m(proxy, \u001b[38;5;124m\"\u001b[39m\u001b[38;5;124m____conn__\u001b[39m\u001b[38;5;124m\"\u001b[39m)\n\u001b[1;32m---> 63\u001b[0m \u001b[38;5;28;01mreturn\u001b[39;00m \u001b[43mconn\u001b[49m\u001b[38;5;241;43m.\u001b[39;49m\u001b[43msync_request\u001b[49m\u001b[43m(\u001b[49m\u001b[43mhandler\u001b[49m\u001b[43m,\u001b[49m\u001b[43m \u001b[49m\u001b[43mproxy\u001b[49m\u001b[43m,\u001b[49m\u001b[43m \u001b[49m\u001b[38;5;241;43m*\u001b[39;49m\u001b[43margs\u001b[49m\u001b[43m)\u001b[49m\n",
      "File \u001b[1;32m~\\AppData\\Local\\Packages\\PythonSoftwareFoundation.Python.3.10_qbz5n2kfra8p0\\LocalCache\\local-packages\\Python310\\site-packages\\rpyc\\core\\protocol.py:718\u001b[0m, in \u001b[0;36mConnection.sync_request\u001b[1;34m(self, handler, *args)\u001b[0m\n\u001b[0;32m    715\u001b[0m _async_res \u001b[38;5;241m=\u001b[39m \u001b[38;5;28mself\u001b[39m\u001b[38;5;241m.\u001b[39masync_request(handler, \u001b[38;5;241m*\u001b[39margs, timeout\u001b[38;5;241m=\u001b[39mtimeout)\n\u001b[0;32m    716\u001b[0m \u001b[38;5;66;03m# _async_res is an instance of AsyncResult, the value property invokes Connection.serve via AsyncResult.wait\u001b[39;00m\n\u001b[0;32m    717\u001b[0m \u001b[38;5;66;03m# So, the _recvlock can be acquired multiple times by the owning thread and warrants the use of RLock\u001b[39;00m\n\u001b[1;32m--> 718\u001b[0m \u001b[38;5;28;01mreturn\u001b[39;00m \u001b[43m_async_res\u001b[49m\u001b[38;5;241;43m.\u001b[39;49m\u001b[43mvalue\u001b[49m\n",
      "File \u001b[1;32m~\\AppData\\Local\\Packages\\PythonSoftwareFoundation.Python.3.10_qbz5n2kfra8p0\\LocalCache\\local-packages\\Python310\\site-packages\\rpyc\\core\\async_.py:108\u001b[0m, in \u001b[0;36mAsyncResult.value\u001b[1;34m(self)\u001b[0m\n\u001b[0;32m    106\u001b[0m \u001b[38;5;28mself\u001b[39m\u001b[38;5;241m.\u001b[39mwait()\n\u001b[0;32m    107\u001b[0m \u001b[38;5;28;01mif\u001b[39;00m \u001b[38;5;28mself\u001b[39m\u001b[38;5;241m.\u001b[39m_is_exc:\n\u001b[1;32m--> 108\u001b[0m     \u001b[38;5;28;01mraise\u001b[39;00m \u001b[38;5;28mself\u001b[39m\u001b[38;5;241m.\u001b[39m_obj\n\u001b[0;32m    109\u001b[0m \u001b[38;5;28;01melse\u001b[39;00m:\n\u001b[0;32m    110\u001b[0m     \u001b[38;5;28;01mreturn\u001b[39;00m \u001b[38;5;28mself\u001b[39m\u001b[38;5;241m.\u001b[39m_obj\n",
      "\u001b[1;31mpyvisa.errors.VisaIOError\u001b[0m: VI_ERROR_INV_RSRC_NAME (-1073807342): Invalid resource reference specified. Parsing error.\n\n========= Remote Traceback (1) =========\nTraceback (most recent call last):\n  File \"C:\\Users\\BlueFors\\AppData\\Local\\Packages\\PythonSoftwareFoundation.Python.3.10_qbz5n2kfra8p0\\LocalCache\\local-packages\\Python310\\site-packages\\rpyc\\core\\protocol.py\", line 359, in _dispatch_request\n    res = self._HANDLERS[handler](self, *args)\n  File \"C:\\Users\\BlueFors\\AppData\\Local\\Packages\\PythonSoftwareFoundation.Python.3.10_qbz5n2kfra8p0\\LocalCache\\local-packages\\Python310\\site-packages\\rpyc\\core\\protocol.py\", line 837, in _handle_call\n    return obj(*args, **dict(kwargs))\n  File \"c:\\Users\\BlueFors\\Documents\\p5control-bluefors\\core\\drivers_v2\\yoko_v2.py\", line 99, in setOutput\n    self.write(f':output {int(output)}')\n  File \"C:\\Users\\BlueFors\\Documents\\p5control\\p5control\\drivers\\basedriver.py\", line 269, in write\n    return self._inst.write(message)\n  File \"C:\\Users\\BlueFors\\AppData\\Local\\Packages\\PythonSoftwareFoundation.Python.3.10_qbz5n2kfra8p0\\LocalCache\\local-packages\\Python310\\site-packages\\pyvisa\\resources\\messagebased.py\", line 197, in write\n    count = self.write_raw(message.encode(enco))\n  File \"C:\\Users\\BlueFors\\AppData\\Local\\Packages\\PythonSoftwareFoundation.Python.3.10_qbz5n2kfra8p0\\LocalCache\\local-packages\\Python310\\site-packages\\pyvisa\\resources\\messagebased.py\", line 157, in write_raw\n    return self.visalib.write(self.session, message)[0]\n  File \"C:\\Users\\BlueFors\\AppData\\Local\\Packages\\PythonSoftwareFoundation.Python.3.10_qbz5n2kfra8p0\\LocalCache\\local-packages\\Python310\\site-packages\\pyvisa\\ctwrapper\\functions.py\", line 2796, in write\n    ret = library.viWrite(session, data, len(data), byref(return_count))\n  File \"C:\\Users\\BlueFors\\AppData\\Local\\Packages\\PythonSoftwareFoundation.Python.3.10_qbz5n2kfra8p0\\LocalCache\\local-packages\\Python310\\site-packages\\pyvisa\\ctwrapper\\highlevel.py\", line 226, in _return_handler\n    return self.handle_return_value(session, ret_value)  # type: ignore\n  File \"C:\\Users\\BlueFors\\AppData\\Local\\Packages\\PythonSoftwareFoundation.Python.3.10_qbz5n2kfra8p0\\LocalCache\\local-packages\\Python310\\site-packages\\pyvisa\\highlevel.py\", line 251, in handle_return_value\n    raise errors.VisaIOError(rv)\npyvisa.errors.VisaIOError: VI_ERROR_INV_RSRC_NAME (-1073807342): Invalid resource reference specified. Parsing error.\n"
     ]
    }
   ],
   "source": [
    "# Cool Down 05.03.25\n",
    "\n",
    "from ivscript_2_1 import MeasurementScript_v2\n",
    "\n",
    "script = MeasurementScript_v2()\n",
    "script.filename = f'data/OI-25c-07 25-03-05 cool down 2.hdf5'\n",
    "script.manual_mode()"
   ]
  },
  {
   "cell_type": "code",
   "execution_count": 13,
   "metadata": {},
   "outputs": [
    {
     "name": "stderr",
     "output_type": "stream",
     "text": [
      "Exception in thread Thread-25 (_rpyc_server_thread):\n",
      "Traceback (most recent call last):\n",
      "  File \"C:\\Program Files\\WindowsApps\\PythonSoftwareFoundation.Python.3.10_3.10.3056.0_x64__qbz5n2kfra8p0\\lib\\threading.py\", line 1016, in _bootstrap_inner\n",
      "    self.run()\n",
      "  File \"C:\\Program Files\\WindowsApps\\PythonSoftwareFoundation.Python.3.10_3.10.3056.0_x64__qbz5n2kfra8p0\\lib\\threading.py\", line 953, in run\n",
      "    self._target(*self._args, **self._kwargs)\n",
      "  File \"C:\\Users\\BlueFors\\Documents\\p5control\\p5control\\server\\baseserv.py\", line 39, in _rpyc_server_thread\n",
      "    self._rpyc_server = ThreadedServer(\n",
      "  File \"C:\\Users\\BlueFors\\AppData\\Local\\Packages\\PythonSoftwareFoundation.Python.3.10_qbz5n2kfra8p0\\LocalCache\\local-packages\\Python310\\site-packages\\rpyc\\utils\\server.py\", line 91, in __init__\n",
      "    self.listener.bind(address)\n",
      "OSError: [WinError 10048] Normalerweise darf jede Socketadresse (Protokoll, Netzwerkadresse oder Anschluss) nur jeweils einmal verwendet werden\n"
     ]
    },
    {
     "ename": "KeyboardInterrupt",
     "evalue": "",
     "output_type": "error",
     "traceback": [
      "\u001b[1;31m---------------------------------------------------------------------------\u001b[0m",
      "\u001b[1;31mKeyboardInterrupt\u001b[0m                         Traceback (most recent call last)",
      "Cell \u001b[1;32mIn[13], line 7\u001b[0m\n\u001b[0;32m      5\u001b[0m script \u001b[38;5;241m=\u001b[39m MeasurementScript_v2()\n\u001b[0;32m      6\u001b[0m script\u001b[38;5;241m.\u001b[39mfilename \u001b[38;5;241m=\u001b[39m \u001b[38;5;124mf\u001b[39m\u001b[38;5;124m'\u001b[39m\u001b[38;5;124mdata/OI-25c-08 25-03-12 cool down 4.hdf5\u001b[39m\u001b[38;5;124m'\u001b[39m\n\u001b[1;32m----> 7\u001b[0m \u001b[43mscript\u001b[49m\u001b[38;5;241;43m.\u001b[39;49m\u001b[43mmanual_mode\u001b[49m\u001b[43m(\u001b[49m\u001b[43m)\u001b[49m\n",
      "File \u001b[1;32mc:\\Users\\BlueFors\\Documents\\p5control-bluefors\\ivscript_2_1.py:163\u001b[0m, in \u001b[0;36mMeasurementScript_v2.manual_mode\u001b[1;34m(self)\u001b[0m\n\u001b[0;32m    162\u001b[0m \u001b[38;5;28;01mdef\u001b[39;00m \u001b[38;5;21mmanual_mode\u001b[39m(\u001b[38;5;28mself\u001b[39m):\n\u001b[1;32m--> 163\u001b[0m     \u001b[38;5;28;43mself\u001b[39;49m\u001b[38;5;241;43m.\u001b[39;49m\u001b[43minit\u001b[49m\u001b[43m(\u001b[49m\u001b[43m)\u001b[49m\n\u001b[0;32m    164\u001b[0m     \u001b[38;5;28;01mtry\u001b[39;00m:\n\u001b[0;32m    165\u001b[0m         i\u001b[38;5;241m=\u001b[39m\u001b[38;5;241m0\u001b[39m\n",
      "File \u001b[1;32mc:\\Users\\BlueFors\\Documents\\p5control-bluefors\\ivscript_2_1.py:117\u001b[0m, in \u001b[0;36mMeasurementScript_v2.init\u001b[1;34m(self)\u001b[0m\n\u001b[0;32m    116\u001b[0m \u001b[38;5;28;01mdef\u001b[39;00m \u001b[38;5;21minit\u001b[39m(\u001b[38;5;28mself\u001b[39m):\n\u001b[1;32m--> 117\u001b[0m     \u001b[38;5;28;43mself\u001b[39;49m\u001b[38;5;241;43m.\u001b[39;49m\u001b[43mstart_server\u001b[49m\u001b[43m(\u001b[49m\u001b[43m)\u001b[49m\n\u001b[0;32m    118\u001b[0m     \u001b[38;5;28mself\u001b[39m\u001b[38;5;241m.\u001b[39minitialize_devices()\n",
      "File \u001b[1;32mc:\\Users\\BlueFors\\Documents\\p5control-bluefors\\ivscript_2_1.py:125\u001b[0m, in \u001b[0;36mMeasurementScript_v2.start_server\u001b[1;34m(self)\u001b[0m\n\u001b[0;32m    124\u001b[0m \u001b[38;5;28;01mdef\u001b[39;00m \u001b[38;5;21mstart_server\u001b[39m(\u001b[38;5;28mself\u001b[39m):\n\u001b[1;32m--> 125\u001b[0m     \u001b[38;5;28;43mself\u001b[39;49m\u001b[38;5;241;43m.\u001b[39;49m\u001b[43mserver\u001b[49m\u001b[38;5;241;43m.\u001b[39;49m\u001b[43mstart_server\u001b[49m\u001b[43m(\u001b[49m\n\u001b[0;32m    126\u001b[0m \u001b[43m        \u001b[49m\u001b[43mserver_name\u001b[49m\u001b[38;5;241;43m=\u001b[39;49m\u001b[38;5;28;43mself\u001b[39;49m\u001b[38;5;241;43m.\u001b[39;49m\u001b[43mfilename\u001b[49m\u001b[43m,\u001b[49m\n\u001b[0;32m    127\u001b[0m \u001b[43m        \u001b[49m\u001b[43mS\u001b[49m\u001b[38;5;241;43m=\u001b[39;49m\u001b[38;5;28;43mself\u001b[39;49m\u001b[38;5;241;43m.\u001b[39;49m\u001b[43mS\u001b[49m\u001b[43m,\u001b[49m\n\u001b[0;32m    128\u001b[0m \u001b[43m    \u001b[49m\u001b[43m)\u001b[49m\n\u001b[0;32m    129\u001b[0m     \u001b[38;5;28mself\u001b[39m\u001b[38;5;241m.\u001b[39mdgw\u001b[38;5;241m.\u001b[39mconnect()\n\u001b[0;32m    130\u001b[0m     \u001b[38;5;28mself\u001b[39m\u001b[38;5;241m.\u001b[39mgw\u001b[38;5;241m.\u001b[39mconnect()\n",
      "File \u001b[1;32mc:\\Users\\BlueFors\\Documents\\p5control-bluefors\\ivscript_2_1.py:62\u001b[0m, in \u001b[0;36mBlueforsServer_v2.start_server\u001b[1;34m(self, server_name, S, R_ref)\u001b[0m\n\u001b[0;32m     60\u001b[0m \u001b[38;5;28mself\u001b[39m\u001b[38;5;241m.\u001b[39minserv\u001b[38;5;241m.\u001b[39m_add(\u001b[38;5;124m'\u001b[39m\u001b[38;5;124mmagnet\u001b[39m\u001b[38;5;124m'\u001b[39m, AMI430) \u001b[38;5;66;03m# untested\u001b[39;00m\n\u001b[0;32m     61\u001b[0m \u001b[38;5;28mself\u001b[39m\u001b[38;5;241m.\u001b[39minserv\u001b[38;5;241m.\u001b[39m_add(\u001b[38;5;124m'\u001b[39m\u001b[38;5;124mmotor\u001b[39m\u001b[38;5;124m'\u001b[39m,  Faulhaber, address\u001b[38;5;241m=\u001b[39m\u001b[38;5;241m6\u001b[39m)\n\u001b[1;32m---> 62\u001b[0m \u001b[38;5;28;43mself\u001b[39;49m\u001b[38;5;241;43m.\u001b[39;49m\u001b[43minserv\u001b[49m\u001b[38;5;241;43m.\u001b[39;49m\u001b[43mstart\u001b[49m\u001b[43m(\u001b[49m\u001b[43m)\u001b[49m\n",
      "File \u001b[1;32m~\\Documents\\p5control\\p5control\\server\\inserv.py:122\u001b[0m, in \u001b[0;36mInstrumentServer.start\u001b[1;34m(self)\u001b[0m\n\u001b[0;32m    120\u001b[0m \u001b[38;5;66;03m# start the RPyC server\u001b[39;00m\n\u001b[0;32m    121\u001b[0m logger\u001b[38;5;241m.\u001b[39mdebug(\u001b[38;5;124m'\u001b[39m\u001b[38;5;124mstarting instrument server\u001b[39m\u001b[38;5;124m'\u001b[39m)\n\u001b[1;32m--> 122\u001b[0m \u001b[38;5;28;43msuper\u001b[39;49m\u001b[43m(\u001b[49m\u001b[43m)\u001b[49m\u001b[38;5;241;43m.\u001b[39;49m\u001b[43mstart\u001b[49m\u001b[43m(\u001b[49m\u001b[43m)\u001b[49m\n\u001b[0;32m    124\u001b[0m \u001b[38;5;66;03m# Start the data server\u001b[39;00m\n\u001b[0;32m    125\u001b[0m logger\u001b[38;5;241m.\u001b[39mdebug(\u001b[38;5;124m'\u001b[39m\u001b[38;5;124mstarting data server\u001b[39m\u001b[38;5;124m'\u001b[39m)\n",
      "File \u001b[1;32m~\\Documents\\p5control\\p5control\\server\\baseserv.py:63\u001b[0m, in \u001b[0;36mBaseServer.start\u001b[1;34m(self)\u001b[0m\n\u001b[0;32m     61\u001b[0m \u001b[38;5;66;03m# wait for the server to start\u001b[39;00m\n\u001b[0;32m     62\u001b[0m \u001b[38;5;28;01mwhile\u001b[39;00m \u001b[38;5;129;01mnot\u001b[39;00m (\u001b[38;5;28mself\u001b[39m\u001b[38;5;241m.\u001b[39m_rpyc_server \u001b[38;5;129;01mand\u001b[39;00m \u001b[38;5;28mself\u001b[39m\u001b[38;5;241m.\u001b[39m_rpyc_server\u001b[38;5;241m.\u001b[39mactive):\n\u001b[1;32m---> 63\u001b[0m     \u001b[43mtime\u001b[49m\u001b[38;5;241;43m.\u001b[39;49m\u001b[43msleep\u001b[49m\u001b[43m(\u001b[49m\u001b[38;5;241;43m0.1\u001b[39;49m\u001b[43m)\u001b[49m\n",
      "\u001b[1;31mKeyboardInterrupt\u001b[0m: "
     ]
    }
   ],
   "source": [
    "# Cool Down 12.03.25\n",
    "\n",
    "from ivscript_2_1 import MeasurementScript_v2\n",
    "\n",
    "script = MeasurementScript_v2()\n",
    "script.filename = f'data/OI-25c-08 25-03-12 cool down 4.hdf5'\n",
    "script.manual_mode()"
   ]
  },
  {
   "cell_type": "code",
   "execution_count": 11,
   "metadata": {},
   "outputs": [
    {
     "data": {
      "text/plain": [
       "('TCPIP0::A-34461A-10522.local::inst0::INSTR',\n",
       " 'TCPIP0::A-34461A-10532.local::inst0::INSTR',\n",
       " 'ASRL1::INSTR',\n",
       " 'ASRL4::INSTR',\n",
       " 'ASRL5::INSTR',\n",
       " 'ASRL6::INSTR',\n",
       " 'GPIB0::13::INSTR')"
      ]
     },
     "execution_count": 11,
     "metadata": {},
     "output_type": "execute_result"
    }
   ],
   "source": [
    "from pyvisa import ResourceManager\n",
    "rm = ResourceManager()\n",
    "rm.list_resources()"
   ]
  },
  {
   "cell_type": "code",
   "execution_count": null,
   "metadata": {},
   "outputs": [],
   "source": []
  },
  {
   "cell_type": "code",
   "execution_count": null,
   "metadata": {},
   "outputs": [],
   "source": []
  },
  {
   "cell_type": "code",
   "execution_count": 3,
   "metadata": {},
   "outputs": [
    {
     "name": "stderr",
     "output_type": "stream",
     "text": [
      "100%|██████████| 241/241 [6:53:16<00:00, 102.89s/it]  \n"
     ]
    }
   ],
   "source": [
    "# magnetic field study in unbroken state\n",
    "from ivscript_2 import BlueforsServer_v2, MeasurementScript_v2\n",
    "\n",
    "import numpy as np\n",
    "from time import sleep, time\n",
    "try:\n",
    "    server = BlueforsServer_v2()\n",
    "    server.start_server(\n",
    "        server_name=f'data/OI-24d-10 24-09-05 magnetic field study 0.hdf5',\n",
    "        S='11'\n",
    "    )\n",
    "    \n",
    "    script = MeasurementScript_v2()\n",
    "    script.femto1_amp = 1000\n",
    "    script.femto2_amp = 10000\n",
    "    script.amplitude = .1\n",
    "    script.period = 92\n",
    "    script.sweep_time = 93\n",
    "    script.offset_time = 3\n",
    "    script.ramp_cool_down = 5\n",
    "    script.initial_ramp_cool_down = 60\n",
    "\n",
    "    script.magnetic_field_study(\n",
    "        magnetic_fields = np.linspace(-.12, .12, 241),\n",
    "    )\n",
    "\n",
    "    script.save_state()\n",
    "    server.stop_server()\n",
    "except KeyboardInterrupt:\n",
    "    script.save_state()\n",
    "    server.stop_server()\n",
    "\n",
    "# 6.47h"
   ]
  },
  {
   "cell_type": "code",
   "execution_count": 4,
   "metadata": {},
   "outputs": [
    {
     "name": "stderr",
     "output_type": "stream",
     "text": [
      "100%|██████████| 159/159 [16:10:38<00:00, 366.28s/it]  \n",
      "100%|██████████| 159/159 [16:10:41<00:00, 366.30s/it]  \n",
      "100%|██████████| 159/159 [2:53:01<00:00, 65.29s/it]  \n",
      "100%|██████████| 159/159 [2:53:03<00:00, 65.30s/it]  \n",
      "100%|██████████| 159/159 [2:53:03<00:00, 65.30s/it]  \n",
      "100%|██████████| 159/159 [2:53:02<00:00, 65.30s/it]  \n"
     ]
    }
   ],
   "source": [
    "# Test the 7.8 GHz\n",
    "from ivscript_2 import BlueforsServer_v2, MeasurementScript_v2\n",
    "import numpy as np\n",
    "from time import sleep, time\n",
    "femto1_amp = 1000\n",
    "femto2_amp = 10000\n",
    "amplitude = .1\n",
    "offset_time = 3\n",
    "short_period = 60\n",
    "short_sweep_time = 61\n",
    "long_period = 360\n",
    "long_sweep_time = 362\n",
    "\n",
    "try:\n",
    "    server = BlueforsServer_v2()\n",
    "    server.start_server(\n",
    "        server_name=f'data/OI-24d-10 24-09-05 amplitude study at 7.8GHz with antenna 0.hdf5',\n",
    "        S='11'\n",
    "    )\n",
    "    \n",
    "    script = MeasurementScript_v2()\n",
    "    script.femto1_amp = femto1_amp\n",
    "    script.femto2_amp = femto2_amp\n",
    "    script.amplitude = amplitude\n",
    "    script.offset_time = offset_time\n",
    "\n",
    "    script.period = long_period\n",
    "    script.sweep_time = long_sweep_time\n",
    "\n",
    "    script.amplitude_study(\n",
    "        vna_frequency = 7.8e9,\n",
    "        vna_amplitudes = np.linspace(0.01, .8, 159),\n",
    "    )\n",
    "    script.save_state()\n",
    "    server.stop_server()\n",
    "\n",
    "    \n",
    "    server = BlueforsServer_v2()\n",
    "    server.start_server(\n",
    "        server_name=f'data/OI-24d-10 24-09-05 amplitude study at 7.8GHz with stripline 0.hdf5',\n",
    "        S='22'\n",
    "    )\n",
    "    \n",
    "    script = MeasurementScript_v2()\n",
    "    script.femto1_amp = femto1_amp\n",
    "    script.femto2_amp = femto2_amp\n",
    "    script.amplitude = amplitude\n",
    "    script.offset_time = offset_time\n",
    "\n",
    "    script.period = long_period\n",
    "    script.sweep_time = long_sweep_time\n",
    "\n",
    "    script.amplitude_study(\n",
    "        vna_frequency = 7.8e9,\n",
    "        vna_amplitudes = np.linspace(0.01, .8, 159),\n",
    "    )\n",
    "    script.save_state()\n",
    "    server.stop_server()\n",
    "\n",
    "    \n",
    "    server = BlueforsServer_v2()\n",
    "    server.start_server(\n",
    "        server_name=f'data/OI-24d-10 24-09-05 amplitude study at 7.8GHz with antenna 0.hdf5',\n",
    "        S='11'\n",
    "    )\n",
    "    \n",
    "    script = MeasurementScript_v2()\n",
    "    script.femto1_amp = femto1_amp\n",
    "    script.femto2_amp = femto2_amp\n",
    "    script.amplitude = amplitude\n",
    "    script.offset_time = offset_time\n",
    "\n",
    "    script.period = short_period\n",
    "    script.sweep_time = short_sweep_time\n",
    "\n",
    "    script.amplitude_study(\n",
    "        vna_frequency = 7.7e9,\n",
    "        vna_amplitudes = np.linspace(0.01, .8, 159),\n",
    "    )\n",
    "\n",
    "    script.amplitude_study(\n",
    "        vna_frequency = 7.9e9,\n",
    "        vna_amplitudes = np.linspace(0.01, .8, 159),\n",
    "    )\n",
    "    script.save_state()\n",
    "    server.stop_server()\n",
    "    \n",
    "    server = BlueforsServer_v2()\n",
    "    server.start_server(\n",
    "        server_name=f'data/OI-24d-10 24-09-05 amplitude study at 7.8GHz with stripline 0.hdf5',\n",
    "        S='22'\n",
    "    )\n",
    "    \n",
    "    script = MeasurementScript_v2()\n",
    "    script.femto1_amp = femto1_amp\n",
    "    script.femto2_amp = femto2_amp\n",
    "    script.amplitude = amplitude\n",
    "    script.offset_time = offset_time\n",
    "\n",
    "    script.period = short_period\n",
    "    script.sweep_time = short_sweep_time\n",
    "\n",
    "    script.amplitude_study(\n",
    "        vna_frequency = 7.7e9,\n",
    "        vna_amplitudes = np.linspace(0.01, .8, 159),\n",
    "    )\n",
    "\n",
    "    script.amplitude_study(\n",
    "        vna_frequency = 7.9e9,\n",
    "        vna_amplitudes = np.linspace(0.01, .8, 159),\n",
    "    )\n",
    "    script.save_state()\n",
    "    server.stop_server()\n",
    "\n",
    "except KeyboardInterrupt:\n",
    "    script.save_state()\n",
    "    server.stop_server()"
   ]
  },
  {
   "cell_type": "code",
   "execution_count": 8,
   "metadata": {},
   "outputs": [
    {
     "name": "stderr",
     "output_type": "stream",
     "text": [
      "100%|██████████| 191/191 [19:03:44<00:00, 359.29s/it]  \n"
     ]
    }
   ],
   "source": [
    "# Frequency Study at 0.4V amplitude\n",
    "from ivscript_2 import BlueforsServer_v2, MeasurementScript_v2\n",
    "\n",
    "import numpy as np\n",
    "from time import sleep, time\n",
    "try:\n",
    "    server = BlueforsServer_v2()\n",
    "    server.start_server(\n",
    "        server_name=f'data/OI-24d-10 24-09-11 frequency study 0.hdf5',\n",
    "        S='11'\n",
    "    )\n",
    "    \n",
    "    script = MeasurementScript_v2()\n",
    "    script.femto1_amp = 1000\n",
    "    script.femto2_amp = 10000\n",
    "    script.amplitude = .13\n",
    "    script.period = 175\n",
    "    script.sweep_time = 355\n",
    "    script.offset_time = 3\n",
    "\n",
    "    script.frequency_study(\n",
    "        vna_frequencies= np.linspace(1e9, 20e9, 191),\n",
    "        vna_amplitude=0.4,\n",
    "    )\n",
    "\n",
    "    script.save_state()\n",
    "    server.stop_server()\n",
    "except KeyboardInterrupt:\n",
    "    script.save_state()\n",
    "    server.stop_server()\n"
   ]
  },
  {
   "cell_type": "code",
   "execution_count": 1,
   "metadata": {},
   "outputs": [
    {
     "name": "stderr",
     "output_type": "stream",
     "text": [
      "C:\\Users\\BlueFors\\AppData\\Local\\Packages\\PythonSoftwareFoundation.Python.3.10_qbz5n2kfra8p0\\LocalCache\\local-packages\\Python310\\site-packages\\tqdm\\auto.py:21: TqdmWarning: IProgress not found. Please update jupyter and ipywidgets. See https://ipywidgets.readthedocs.io/en/stable/user_install.html\n",
      "  from .autonotebook import tqdm as notebook_tqdm\n"
     ]
    },
    {
     "name": "stdout",
     "output_type": "stream",
     "text": [
      "time elapsed: 0035s\r"
     ]
    }
   ],
   "source": [
    "# Breaking\n",
    "from ivscript_2 import BlueforsServer_v2, MeasurementScript_v2\n",
    "\n",
    "import numpy as np\n",
    "from time import sleep, time\n",
    "try:\n",
    "    server = BlueforsServer_v2()\n",
    "    server.start_server(\n",
    "        server_name=f'data/OI-24d-10 24-09-12 breaking 0.hdf5',\n",
    "        S='11'\n",
    "    )\n",
    "    i=0\n",
    "    while True:\n",
    "        sleep(1)\n",
    "        print(f\"time elapsed: {i:04d}s\", end=\"\\r\")\n",
    "        i += 1\n",
    "except KeyboardInterrupt:\n",
    "    server.stop_server()"
   ]
  },
  {
   "cell_type": "code",
   "execution_count": 1,
   "metadata": {},
   "outputs": [
    {
     "name": "stderr",
     "output_type": "stream",
     "text": [
      "C:\\Users\\BlueFors\\AppData\\Local\\Packages\\PythonSoftwareFoundation.Python.3.10_qbz5n2kfra8p0\\LocalCache\\local-packages\\Python310\\site-packages\\tqdm\\auto.py:21: TqdmWarning: IProgress not found. Please update jupyter and ipywidgets. See https://ipywidgets.readthedocs.io/en/stable/user_install.html\n",
      "  from .autonotebook import tqdm as notebook_tqdm\n",
      "100%|██████████| 191/191 [19:03:50<00:00, 359.32s/it]  \n"
     ]
    }
   ],
   "source": [
    "# Frequency Study at 0.4V amplitude\n",
    "from ivscript_2 import BlueforsServer_v2, MeasurementScript_v2\n",
    "\n",
    "import numpy as np\n",
    "from time import sleep, time\n",
    "try:\n",
    "    server = BlueforsServer_v2()\n",
    "    server.start_server(\n",
    "        server_name=f'data/OI-24d-10 24-09-13 frequency study with stripline 1.hdf5',\n",
    "        S='22'\n",
    "    )\n",
    "    \n",
    "    script = MeasurementScript_v2()\n",
    "    script.femto1_amp = 1000\n",
    "    script.femto2_amp = 10000\n",
    "    script.amplitude = .13\n",
    "    script.period = 175\n",
    "    script.sweep_time = 355\n",
    "    script.offset_time = 3\n",
    "\n",
    "    script.frequency_study(\n",
    "        vna_frequencies= np.linspace(1e9, 20e9, 191),\n",
    "        vna_amplitude=0.4,\n",
    "    )\n",
    "\n",
    "    script.save_state()\n",
    "    server.stop_server()\n",
    "except KeyboardInterrupt:\n",
    "    script.save_state()\n",
    "    server.stop_server()\n"
   ]
  },
  {
   "cell_type": "code",
   "execution_count": 2,
   "metadata": {},
   "outputs": [
    {
     "name": "stderr",
     "output_type": "stream",
     "text": [
      "100%|██████████| 199/199 [13:36:55<00:00, 246.31s/it]  \n"
     ]
    }
   ],
   "source": [
    "# Test the 12.1 GHz\n",
    "from ivscript_2 import BlueforsServer_v2, MeasurementScript_v2\n",
    "import numpy as np\n",
    "from time import sleep, time\n",
    "try:\n",
    "    server = BlueforsServer_v2()\n",
    "    server.start_server(\n",
    "        server_name=f'data/OI-24d-10 24-09-13 amplitude study at 12.1GHz with antenna 0.hdf5',\n",
    "        S='11'\n",
    "    )\n",
    "    \n",
    "    script = MeasurementScript_v2()\n",
    "    script.femto1_amp = 1000\n",
    "    script.femto2_amp = 10000\n",
    "    script.amplitude = .2\n",
    "    script.offset_time = 3\n",
    "\n",
    "    script.period = 240\n",
    "    script.sweep_time = 242\n",
    "\n",
    "    script.amplitude_study(\n",
    "        vna_frequency = 12.1e9,\n",
    "        vna_amplitudes = np.linspace(0.01, 1, 199),\n",
    "    )\n",
    "    script.save_state()\n",
    "    server.stop_server()\n",
    "except KeyboardInterrupt:\n",
    "    script.save_state()\n",
    "    server.stop_server()"
   ]
  },
  {
   "cell_type": "code",
   "execution_count": 3,
   "metadata": {},
   "outputs": [
    {
     "name": "stderr",
     "output_type": "stream",
     "text": [
      "100%|██████████| 199/199 [13:36:56<00:00, 246.31s/it]  \n"
     ]
    }
   ],
   "source": [
    "# Test the 3.5 GHz\n",
    "from ivscript_2 import BlueforsServer_v2, MeasurementScript_v2\n",
    "import numpy as np\n",
    "from time import sleep, time\n",
    "try:\n",
    "    server = BlueforsServer_v2()\n",
    "    server.start_server(\n",
    "        server_name=f'data/OI-24d-10 24-09-13 amplitude study at 3.5GHz with antenna 0.hdf5',\n",
    "        S='11'\n",
    "    )\n",
    "    \n",
    "    script = MeasurementScript_v2()\n",
    "    script.femto1_amp = 1000\n",
    "    script.femto2_amp = 10000\n",
    "    script.amplitude = .1\n",
    "    script.offset_time = 3\n",
    "\n",
    "    script.period = 240\n",
    "    script.sweep_time = 242\n",
    "\n",
    "    script.amplitude_study(\n",
    "        vna_frequency = 12.1e9,\n",
    "        vna_amplitudes = np.linspace(0.01, 1, 199),\n",
    "    )\n",
    "    script.save_state()\n",
    "    server.stop_server()\n",
    "except KeyboardInterrupt:\n",
    "    script.save_state()\n",
    "    server.stop_server()"
   ]
  },
  {
   "cell_type": "code",
   "execution_count": 4,
   "metadata": {},
   "outputs": [
    {
     "name": "stderr",
     "output_type": "stream",
     "text": [
      "100%|██████████| 199/199 [13:36:56<00:00, 246.31s/it]  \n"
     ]
    }
   ],
   "source": [
    "# Test the 19 GHz\n",
    "from ivscript_2 import BlueforsServer_v2, MeasurementScript_v2\n",
    "import numpy as np\n",
    "from time import sleep, time\n",
    "try:\n",
    "    server = BlueforsServer_v2()\n",
    "    server.start_server(\n",
    "        server_name=f'data/OI-24d-10 24-09-13 amplitude study at 19GHz with antenna 0.hdf5',\n",
    "        S='11'\n",
    "    )\n",
    "    \n",
    "    script = MeasurementScript_v2()\n",
    "    script.femto1_amp = 1000\n",
    "    script.femto2_amp = 10000\n",
    "    script.amplitude = .15\n",
    "    script.offset_time = 3\n",
    "\n",
    "    script.period = 240\n",
    "    script.sweep_time = 242\n",
    "\n",
    "    script.amplitude_study(\n",
    "        vna_frequency = 19e9,\n",
    "        vna_amplitudes = np.linspace(0.01, 1, 199),\n",
    "    )\n",
    "    script.save_state()\n",
    "    server.stop_server()\n",
    "except KeyboardInterrupt:\n",
    "    script.save_state()\n",
    "    server.stop_server()"
   ]
  },
  {
   "cell_type": "code",
   "execution_count": 5,
   "metadata": {},
   "outputs": [
    {
     "name": "stderr",
     "output_type": "stream",
     "text": [
      "100%|██████████| 199/199 [13:36:53<00:00, 246.30s/it]  \n"
     ]
    }
   ],
   "source": [
    "# Test the 3.5 GHz\n",
    "from ivscript_2 import BlueforsServer_v2, MeasurementScript_v2\n",
    "import numpy as np\n",
    "from time import sleep, time\n",
    "try:\n",
    "    server = BlueforsServer_v2()\n",
    "    server.start_server(\n",
    "        server_name=f'data/OI-24d-10 24-09-13 amplitude study at 3.5GHz with antenna 1.hdf5',\n",
    "        S='11'\n",
    "    )\n",
    "    \n",
    "    script = MeasurementScript_v2()\n",
    "    script.femto1_amp = 1000\n",
    "    script.femto2_amp = 10000\n",
    "    script.amplitude = .1\n",
    "    script.offset_time = 3\n",
    "\n",
    "    script.period = 240\n",
    "    script.sweep_time = 242\n",
    "\n",
    "    script.amplitude_study(\n",
    "        vna_frequency = 3.5e9,\n",
    "        vna_amplitudes = np.linspace(0.01, 1, 199),\n",
    "    )\n",
    "    script.save_state()\n",
    "    server.stop_server()\n",
    "except KeyboardInterrupt:\n",
    "    script.save_state()\n",
    "    server.stop_server()"
   ]
  },
  {
   "cell_type": "code",
   "execution_count": 3,
   "metadata": {},
   "outputs": [
    {
     "name": "stderr",
     "output_type": "stream",
     "text": [
      "100%|██████████| 191/191 [9:33:54<00:00, 180.28s/it]  \n",
      "100%|██████████| 191/191 [9:33:56<00:00, 180.30s/it]  \n",
      "100%|██████████| 139/139 [6:57:41<00:00, 180.30s/it]  \n",
      "100%|██████████| 139/139 [6:57:40<00:00, 180.29s/it]  \n",
      "100%|██████████| 199/199 [9:57:58<00:00, 180.30s/it]  \n",
      "100%|██████████| 159/159 [7:57:46<00:00, 180.30s/it]  \n",
      "100%|██████████| 191/191 [9:33:56<00:00, 180.30s/it]  \n",
      "100%|██████████| 191/191 [9:33:57<00:00, 180.30s/it]  \n",
      "100%|██████████| 139/139 [6:57:41<00:00, 180.30s/it]  \n",
      "100%|██████████| 139/139 [6:57:45<00:00, 180.32s/it]  \n",
      "100%|██████████| 199/199 [9:58:02<00:00, 180.31s/it]  \n",
      "100%|██████████| 159/159 [7:57:50<00:00, 180.32s/it]  \n",
      "100%|██████████| 159/159 [7:57:51<00:00, 180.32s/it]  \n",
      "100%|██████████| 159/159 [7:57:49<00:00, 180.31s/it]  \n",
      " 51%|█████     | 1670/3280 [83:38:36<80:37:18, 180.27s/it] Exception in thread Thread-37937 (_status_measurement_thread):\n",
      "Traceback (most recent call last):\n",
      "  File \"C:\\Users\\BlueFors\\AppData\\Local\\Packages\\PythonSoftwareFoundation.Python.3.10_qbz5n2kfra8p0\\LocalCache\\local-packages\\Python310\\site-packages\\urllib3\\connection.py\", line 203, in _new_conn\n",
      "    sock = connection.create_connection(\n",
      "  File \"C:\\Users\\BlueFors\\AppData\\Local\\Packages\\PythonSoftwareFoundation.Python.3.10_qbz5n2kfra8p0\\LocalCache\\local-packages\\Python310\\site-packages\\urllib3\\util\\connection.py\", line 85, in create_connection\n",
      "    raise err\n",
      "  File \"C:\\Users\\BlueFors\\AppData\\Local\\Packages\\PythonSoftwareFoundation.Python.3.10_qbz5n2kfra8p0\\LocalCache\\local-packages\\Python310\\site-packages\\urllib3\\util\\connection.py\", line 73, in create_connection\n",
      "    sock.connect(sa)\n",
      "OSError: [WinError 10055] Ein Socketvorgang konnte nicht ausgeführt werden, da dem System Pufferspeicher fehlte oder eine Warteschlange voll war\n",
      "\n",
      "The above exception was the direct cause of the following exception:\n",
      "\n",
      "Traceback (most recent call last):\n",
      "  File \"C:\\Users\\BlueFors\\AppData\\Local\\Packages\\PythonSoftwareFoundation.Python.3.10_qbz5n2kfra8p0\\LocalCache\\local-packages\\Python310\\site-packages\\urllib3\\connectionpool.py\", line 790, in urlopen\n",
      "    response = self._make_request(\n",
      "  File \"C:\\Users\\BlueFors\\AppData\\Local\\Packages\\PythonSoftwareFoundation.Python.3.10_qbz5n2kfra8p0\\LocalCache\\local-packages\\Python310\\site-packages\\urllib3\\connectionpool.py\", line 496, in _make_request\n",
      "    conn.request(\n",
      "  File \"C:\\Users\\BlueFors\\AppData\\Local\\Packages\\PythonSoftwareFoundation.Python.3.10_qbz5n2kfra8p0\\LocalCache\\local-packages\\Python310\\site-packages\\urllib3\\connection.py\", line 395, in request\n",
      "    self.endheaders()\n",
      "  File \"C:\\Program Files\\WindowsApps\\PythonSoftwareFoundation.Python.3.10_3.10.3056.0_x64__qbz5n2kfra8p0\\lib\\http\\client.py\", line 1278, in endheaders\n",
      "    self._send_output(message_body, encode_chunked=encode_chunked)\n",
      "  File \"C:\\Program Files\\WindowsApps\\PythonSoftwareFoundation.Python.3.10_3.10.3056.0_x64__qbz5n2kfra8p0\\lib\\http\\client.py\", line 1038, in _send_output\n",
      "    self.send(msg)\n",
      "  File \"C:\\Program Files\\WindowsApps\\PythonSoftwareFoundation.Python.3.10_3.10.3056.0_x64__qbz5n2kfra8p0\\lib\\http\\client.py\", line 976, in send\n",
      "    self.connect()\n",
      "  File \"C:\\Users\\BlueFors\\AppData\\Local\\Packages\\PythonSoftwareFoundation.Python.3.10_qbz5n2kfra8p0\\LocalCache\\local-packages\\Python310\\site-packages\\urllib3\\connection.py\", line 243, in connect\n",
      "    self.sock = self._new_conn()\n",
      "  File \"C:\\Users\\BlueFors\\AppData\\Local\\Packages\\PythonSoftwareFoundation.Python.3.10_qbz5n2kfra8p0\\LocalCache\\local-packages\\Python310\\site-packages\\urllib3\\connection.py\", line 218, in _new_conn\n",
      "    raise NewConnectionError(\n",
      "urllib3.exceptions.NewConnectionError: <urllib3.connection.HTTPConnection object at 0x0000020921338D90>: Failed to establish a new connection: [WinError 10055] Ein Socketvorgang konnte nicht ausgeführt werden, da dem System Pufferspeicher fehlte oder eine Warteschlange voll war\n",
      "\n",
      "The above exception was the direct cause of the following exception:\n",
      "\n",
      "Traceback (most recent call last):\n",
      "  File \"C:\\Users\\BlueFors\\AppData\\Local\\Packages\\PythonSoftwareFoundation.Python.3.10_qbz5n2kfra8p0\\LocalCache\\local-packages\\Python310\\site-packages\\requests\\adapters.py\", line 486, in send\n",
      "    resp = conn.urlopen(\n",
      "  File \"C:\\Users\\BlueFors\\AppData\\Local\\Packages\\PythonSoftwareFoundation.Python.3.10_qbz5n2kfra8p0\\LocalCache\\local-packages\\Python310\\site-packages\\urllib3\\connectionpool.py\", line 844, in urlopen\n",
      "    retries = retries.increment(\n",
      "  File \"C:\\Users\\BlueFors\\AppData\\Local\\Packages\\PythonSoftwareFoundation.Python.3.10_qbz5n2kfra8p0\\LocalCache\\local-packages\\Python310\\site-packages\\urllib3\\util\\retry.py\", line 515, in increment\n",
      "    raise MaxRetryError(_pool, url, reason) from reason  # type: ignore[arg-type]\n",
      "urllib3.exceptions.MaxRetryError: HTTPConnectionPool(host='localhost', port=49099): Max retries exceeded with url: /values/ (Caused by NewConnectionError('<urllib3.connection.HTTPConnection object at 0x0000020921338D90>: Failed to establish a new connection: [WinError 10055] Ein Socketvorgang konnte nicht ausgeführt werden, da dem System Pufferspeicher fehlte oder eine Warteschlange voll war'))\n",
      "\n",
      "During handling of the above exception, another exception occurred:\n",
      "\n",
      "Traceback (most recent call last):\n",
      "  File \"C:\\Program Files\\WindowsApps\\PythonSoftwareFoundation.Python.3.10_3.10.3056.0_x64__qbz5n2kfra8p0\\lib\\threading.py\", line 1016, in _bootstrap_inner\n",
      "    self.run()\n",
      "  File \"C:\\Program Files\\WindowsApps\\PythonSoftwareFoundation.Python.3.10_3.10.3056.0_x64__qbz5n2kfra8p0\\lib\\threading.py\", line 953, in run\n",
      "    self._target(*self._args, **self._kwargs)\n",
      "  File \"C:\\Users\\BlueFors\\Documents\\p5control\\p5control\\measure\\status.py\", line 119, in _status_measurement_thread\n",
      "    res = dev.get_status()\n",
      "  File \"c:\\Users\\BlueFors\\Documents\\p5control-bluefors\\core\\drivers_v2\\blueforsapi_v2.py\", line 214, in get_status\n",
      "    _ = requests.post(self.url, json=post, timeout=1)\n",
      "  File \"C:\\Users\\BlueFors\\AppData\\Local\\Packages\\PythonSoftwareFoundation.Python.3.10_qbz5n2kfra8p0\\LocalCache\\local-packages\\Python310\\site-packages\\requests\\api.py\", line 115, in post\n",
      "    return request(\"post\", url, data=data, json=json, **kwargs)\n",
      "  File \"C:\\Users\\BlueFors\\AppData\\Local\\Packages\\PythonSoftwareFoundation.Python.3.10_qbz5n2kfra8p0\\LocalCache\\local-packages\\Python310\\site-packages\\requests\\api.py\", line 59, in request\n",
      "    return session.request(method=method, url=url, **kwargs)\n",
      "  File \"C:\\Users\\BlueFors\\AppData\\Local\\Packages\\PythonSoftwareFoundation.Python.3.10_qbz5n2kfra8p0\\LocalCache\\local-packages\\Python310\\site-packages\\requests\\sessions.py\", line 589, in request\n",
      "    resp = self.send(prep, **send_kwargs)\n",
      "  File \"C:\\Users\\BlueFors\\AppData\\Local\\Packages\\PythonSoftwareFoundation.Python.3.10_qbz5n2kfra8p0\\LocalCache\\local-packages\\Python310\\site-packages\\requests\\sessions.py\", line 703, in send\n",
      "    r = adapter.send(request, **kwargs)\n",
      "  File \"C:\\Users\\BlueFors\\AppData\\Local\\Packages\\PythonSoftwareFoundation.Python.3.10_qbz5n2kfra8p0\\LocalCache\\local-packages\\Python310\\site-packages\\requests\\adapters.py\", line 519, in send\n",
      "    raise ConnectionError(e, request=request)\n",
      "requests.exceptions.ConnectionError: HTTPConnectionPool(host='localhost', port=49099): Max retries exceeded with url: /values/ (Caused by NewConnectionError('<urllib3.connection.HTTPConnection object at 0x0000020921338D90>: Failed to establish a new connection: [WinError 10055] Ein Socketvorgang konnte nicht ausgeführt werden, da dem System Pufferspeicher fehlte oder eine Warteschlange voll war'))\n",
      "100%|██████████| 3280/3280 [164:16:08<00:00, 180.30s/it]   \n"
     ]
    }
   ],
   "source": [
    "# Kill it!\n",
    "from ivscript_2 import BlueforsServer_v2, MeasurementScript_v2\n",
    "\n",
    "import numpy as np\n",
    "from time import sleep, time\n",
    "try:\n",
    "    server = BlueforsServer_v2()\n",
    "    server.start_server(\n",
    "        server_name=f'data/OI-24d-10 24-09-17 irraddiation study with magnetic field and antenna 1.hdf5',\n",
    "        S='11'\n",
    "    )\n",
    "    \n",
    "    script = MeasurementScript_v2()\n",
    "    script.femto1_amp = 1000\n",
    "    script.femto2_amp = 10000\n",
    "    script.period = 175\n",
    "    script.sweep_time = 176\n",
    "    script.offset_time = 3\n",
    "\n",
    "    for magnetic_field in [.02, .03]:\n",
    "        script.amplitude = .13\n",
    "        script.frequency_study(\n",
    "            vna_frequencies= np.linspace(1e9, 20e9, 191),\n",
    "            vna_amplitude=0.4,\n",
    "            magnetic_field=magnetic_field,\n",
    "        )\n",
    "        script.amplitude = .13\n",
    "        script.frequency_study(\n",
    "            vna_frequencies= np.linspace(1e9, 20e9, 191),\n",
    "            vna_amplitude=0.1,\n",
    "            magnetic_field=magnetic_field,\n",
    "        )\n",
    "        script.amplitude = .15\n",
    "        script.amplitude_study(\n",
    "            vna_frequency = 19e9,\n",
    "            vna_amplitudes = np.linspace(0.01, .7, 139),\n",
    "            magnetic_field=magnetic_field,\n",
    "        )\n",
    "        script.amplitude = .2\n",
    "        script.amplitude_study(\n",
    "            vna_frequency = 12.1e9,\n",
    "            vna_amplitudes = np.linspace(0.01, .7, 139),\n",
    "            magnetic_field=magnetic_field,\n",
    "        )\n",
    "        script.amplitude = .1\n",
    "        script.amplitude_study(\n",
    "            vna_frequency = 3.5e9,\n",
    "            vna_amplitudes = np.linspace(0.01, 1, 199),\n",
    "            magnetic_field=magnetic_field,\n",
    "        )\n",
    "        script.amplitude = .1\n",
    "        script.amplitude_study(\n",
    "            vna_frequency = 7.9e9,\n",
    "            vna_amplitudes = np.linspace(0.01, .8, 159),\n",
    "            magnetic_field=magnetic_field,\n",
    "        )\n",
    "    script.save_state()\n",
    "    server.stop_server()\n",
    "    \n",
    "    server = BlueforsServer_v2()\n",
    "    server.start_server(\n",
    "        server_name=f'data/OI-24d-10 24-09-17 irraddiation study with magnetic field and stripline.hdf5',\n",
    "        S='22'\n",
    "    )\n",
    "    \n",
    "    script = MeasurementScript_v2()\n",
    "    script.femto1_amp = 1000\n",
    "    script.femto2_amp = 10000\n",
    "    script.period = 175\n",
    "    script.sweep_time = 176\n",
    "    script.offset_time = 3\n",
    "\n",
    "    for magnetic_field in [.02, .03]:\n",
    "        script.amplitude = .1\n",
    "        script.amplitude_study(\n",
    "            vna_frequency = 7.9e9,\n",
    "            vna_amplitudes = np.linspace(0.01, .8, 159),\n",
    "            magnetic_field=magnetic_field,\n",
    "        )\n",
    "\n",
    "    script.save_state()\n",
    "    server.stop_server()\n",
    "\n",
    "    \n",
    "    server = BlueforsServer_v2()\n",
    "    server.start_server(\n",
    "        server_name=f'data/OI-24d-10 24-09-17 irraddiation study 7.6-8.1 GHz and 0-0.8V with stripline.hdf5',\n",
    "        S='22'\n",
    "    )\n",
    "    \n",
    "    script = MeasurementScript_v2()\n",
    "    script.femto1_amp = 1000\n",
    "    script.femto2_amp = 10000\n",
    "    script.period = 175\n",
    "    script.sweep_time = 176\n",
    "    script.offset_time = 3\n",
    "    \n",
    "    script.amplitude = .1\n",
    "    script.irradiation_study(\n",
    "        vna_frequencies = np.linspace(7.6e9, 8.1e9, 41),\n",
    "        vna_amplitudes = np.linspace(0.01, .8, 80),\n",
    "    )\n",
    "\n",
    "    script.save_state()\n",
    "    server.stop_server()\n",
    "except KeyboardInterrupt:\n",
    "    script.save_state()\n",
    "    server.stop_server()"
   ]
  },
  {
   "cell_type": "code",
   "execution_count": 3,
   "metadata": {},
   "outputs": [
    {
     "name": "stderr",
     "output_type": "stream",
     "text": [
      "100%|██████████| 20100/20100 [8:14:06<00:00,  1.47s/it]  \n"
     ]
    }
   ],
   "source": [
    "# Kill it harder!\n",
    "# without logger\n",
    "\n",
    "try:\n",
    "    server = BlueforsServer_v2()\n",
    "    server.start_server(\n",
    "        server_name=f'data/OI-24d-10 24-10-01 far beyond sanity irraddiation study with stripline 5.hdf5',\n",
    "        S='22'\n",
    "    )\n",
    "    \n",
    "    script = MeasurementScript_v2()\n",
    "    script.femto1_amp = 1000\n",
    "    script.femto2_amp = 10000\n",
    "    script.period = 106.314/1000\n",
    "    script.sweep_time = 107/1000\n",
    "    script.offset_time = 2/100\n",
    "    \n",
    "    script.amplitude = .1\n",
    "    script.irradiation_study(\n",
    "        vna_frequencies = np.linspace(5.5e9, 9.5e9, 201),\n",
    "        vna_amplitudes = np.linspace(0.01, 1, 100),\n",
    "    )\n",
    "\n",
    "    script.save_state()\n",
    "    server.stop_server()\n",
    "except KeyboardInterrupt as err:\n",
    "    script.save_state()\n",
    "    server.stop_server()\n",
    "except Exception as err:\n",
    "    print('Error: ', err)\n",
    "    server.stop_server()"
   ]
  },
  {
   "cell_type": "code",
   "execution_count": 1,
   "metadata": {},
   "outputs": [
    {
     "name": "stderr",
     "output_type": "stream",
     "text": [
      "C:\\Users\\BlueFors\\AppData\\Local\\Packages\\PythonSoftwareFoundation.Python.3.10_qbz5n2kfra8p0\\LocalCache\\local-packages\\Python310\\site-packages\\tqdm\\auto.py:21: TqdmWarning: IProgress not found. Please update jupyter and ipywidgets. See https://ipywidgets.readthedocs.io/en/stable/user_install.html\n",
      "  from .autonotebook import tqdm as notebook_tqdm\n",
      "  0%|          | 2/20100 [00:04<11:39:20,  2.09s/it]\n"
     ]
    },
    {
     "name": "stdout",
     "output_type": "stream",
     "text": [
      "KeyboardInterrupt\n"
     ]
    },
    {
     "ename": "AttributeError",
     "evalue": "'InstrumentGateway' object has no attribute 'magnet'",
     "output_type": "error",
     "traceback": [
      "\u001b[1;31m---------------------------------------------------------------------------\u001b[0m",
      "\u001b[1;31mAttributeError\u001b[0m                            Traceback (most recent call last)",
      "Cell \u001b[1;32mIn[1], line 24\u001b[0m\n\u001b[0;32m     18\u001b[0m script\u001b[38;5;241m.\u001b[39mamplitude \u001b[38;5;241m=\u001b[39m \u001b[38;5;241m.1\u001b[39m\n\u001b[0;32m     19\u001b[0m script\u001b[38;5;241m.\u001b[39mirradiation_study(\n\u001b[0;32m     20\u001b[0m     vna_frequencies \u001b[38;5;241m=\u001b[39m np\u001b[38;5;241m.\u001b[39mlinspace(\u001b[38;5;241m5.5e9\u001b[39m, \u001b[38;5;241m9.5e9\u001b[39m, \u001b[38;5;241m201\u001b[39m),\n\u001b[0;32m     21\u001b[0m     vna_amplitudes \u001b[38;5;241m=\u001b[39m np\u001b[38;5;241m.\u001b[39mlinspace(\u001b[38;5;241m0.01\u001b[39m, \u001b[38;5;241m1\u001b[39m, \u001b[38;5;241m100\u001b[39m),\n\u001b[0;32m     22\u001b[0m )\n\u001b[1;32m---> 24\u001b[0m \u001b[43mscript\u001b[49m\u001b[38;5;241;43m.\u001b[39;49m\u001b[43mclose\u001b[49m\u001b[43m(\u001b[49m\u001b[43m)\u001b[49m\n",
      "File \u001b[1;32mc:\\Users\\BlueFors\\Documents\\p5control-bluefors\\ivscript_2_1.py:120\u001b[0m, in \u001b[0;36mMeasurementScript_v2.close\u001b[1;34m(self)\u001b[0m\n\u001b[0;32m    119\u001b[0m \u001b[38;5;28;01mdef\u001b[39;00m \u001b[38;5;21mclose\u001b[39m(\u001b[38;5;28mself\u001b[39m):\n\u001b[1;32m--> 120\u001b[0m     \u001b[38;5;28;43mself\u001b[39;49m\u001b[38;5;241;43m.\u001b[39;49m\u001b[43msave_state\u001b[49m\u001b[43m(\u001b[49m\u001b[43m)\u001b[49m\n\u001b[0;32m    121\u001b[0m     \u001b[38;5;28mself\u001b[39m\u001b[38;5;241m.\u001b[39mstop_server()\n",
      "File \u001b[1;32mc:\\Users\\BlueFors\\Documents\\p5control-bluefors\\ivscript_2_1.py:147\u001b[0m, in \u001b[0;36mMeasurementScript_v2.save_state\u001b[1;34m(self)\u001b[0m\n\u001b[0;32m    146\u001b[0m \u001b[38;5;28;01mdef\u001b[39;00m \u001b[38;5;21msave_state\u001b[39m(\u001b[38;5;28mself\u001b[39m):\n\u001b[1;32m--> 147\u001b[0m     \u001b[38;5;28;43mself\u001b[39;49m\u001b[38;5;241;43m.\u001b[39;49m\u001b[43mgw\u001b[49m\u001b[38;5;241;43m.\u001b[39;49m\u001b[43mmagnet\u001b[49m\u001b[38;5;241m.\u001b[39mset_rate(\u001b[38;5;241m0\u001b[39m)  \n\u001b[0;32m    148\u001b[0m     \u001b[38;5;28mself\u001b[39m\u001b[38;5;241m.\u001b[39mgw\u001b[38;5;241m.\u001b[39mmagnet\u001b[38;5;241m.\u001b[39mset_target_field(\u001b[38;5;241m0\u001b[39m) \n\u001b[0;32m    149\u001b[0m     \u001b[38;5;28mself\u001b[39m\u001b[38;5;241m.\u001b[39mgw\u001b[38;5;241m.\u001b[39mmagnet\u001b[38;5;241m.\u001b[39mramp() \n",
      "File \u001b[1;32m~\\Documents\\p5control\\p5control\\gateway\\basegw.py:158\u001b[0m, in \u001b[0;36mBaseGateway.__getattr__\u001b[1;34m(self, attr)\u001b[0m\n\u001b[0;32m    156\u001b[0m         \u001b[38;5;28;01mreturn\u001b[39;00m \u001b[38;5;28mgetattr\u001b[39m(\u001b[38;5;28mself\u001b[39m\u001b[38;5;241m.\u001b[39m_connection\u001b[38;5;241m.\u001b[39mroot, attr)\n\u001b[0;32m    157\u001b[0m \u001b[38;5;66;03m# default python implementation\u001b[39;00m\n\u001b[1;32m--> 158\u001b[0m \u001b[38;5;28;01mreturn\u001b[39;00m \u001b[38;5;28;43mself\u001b[39;49m\u001b[38;5;241;43m.\u001b[39;49m\u001b[38;5;21;43m__getattribute__\u001b[39;49m\u001b[43m(\u001b[49m\u001b[43mattr\u001b[49m\u001b[43m)\u001b[49m\n",
      "\u001b[1;31mAttributeError\u001b[0m: 'InstrumentGateway' object has no attribute 'magnet'"
     ]
    }
   ],
   "source": [
    "# Kill it harder!\n",
    "# without logger\n",
    "\n",
    "from ivscript_2_1 import MeasurementScript_v2\n",
    "import numpy as np\n",
    "\n",
    "script = MeasurementScript_v2()\n",
    "script.filename = f'data/OI-24d-10 24-10-01 far beyond sanity irraddiation study with stripline 9.hdf5'\n",
    "script.S='22'\n",
    "\n",
    "script.init()\n",
    "script.femto1_amp = 1000\n",
    "script.femto2_amp = 10000\n",
    "script.period = 106.314/1000\n",
    "script.sweep_time = 107/1000\n",
    "script.offset_time = 2/100\n",
    "\n",
    "script.amplitude = .1\n",
    "script.irradiation_study(\n",
    "    vna_frequencies = np.linspace(5.5e9, 9.5e9, 201),\n",
    "    vna_amplitudes = np.linspace(0.01, 1, 100),\n",
    ")\n",
    "\n",
    "script.close()"
   ]
  },
  {
   "cell_type": "code",
   "execution_count": 1,
   "metadata": {},
   "outputs": [
    {
     "name": "stderr",
     "output_type": "stream",
     "text": [
      "C:\\Users\\BlueFors\\AppData\\Local\\Packages\\PythonSoftwareFoundation.Python.3.10_qbz5n2kfra8p0\\LocalCache\\local-packages\\Python310\\site-packages\\tqdm\\auto.py:21: TqdmWarning: IProgress not found. Please update jupyter and ipywidgets. See https://ipywidgets.readthedocs.io/en/stable/user_install.html\n",
      "  from .autonotebook import tqdm as notebook_tqdm\n"
     ]
    },
    {
     "name": "stdout",
     "output_type": "stream",
     "text": [
      "time elapsed: 0006s\n",
      "KeyboardInterrupt\n"
     ]
    }
   ],
   "source": [
    "# Breaking 12.11.24\n",
    "\n",
    "from ivscript_2_1 import MeasurementScript_v2\n",
    "import numpy as np\n",
    "\n",
    "script = MeasurementScript_v2()\n",
    "script.filename = f'data/OI-24d-10 24-11-12 breaking 0.hdf5'\n",
    "script.manual_mode()\n"
   ]
  },
  {
   "cell_type": "code",
   "execution_count": null,
   "metadata": {},
   "outputs": [],
   "source": []
  }
 ],
 "metadata": {
  "kernelspec": {
   "display_name": "Python 3",
   "language": "python",
   "name": "python3"
  },
  "language_info": {
   "codemirror_mode": {
    "name": "ipython",
    "version": 3
   },
   "file_extension": ".py",
   "mimetype": "text/x-python",
   "name": "python",
   "nbconvert_exporter": "python",
   "pygments_lexer": "ipython3",
   "version": "3.10.11"
  }
 },
 "nbformat": 4,
 "nbformat_minor": 2
}
