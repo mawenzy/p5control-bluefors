{
 "cells": [
  {
   "cell_type": "code",
   "execution_count": 1,
   "metadata": {},
   "outputs": [],
   "source": [
    "%load_ext autoreload\n",
    "%autoreload 2"
   ]
  },
  {
   "cell_type": "markdown",
   "metadata": {},
   "source": [
    "# Test all Scripts"
   ]
  },
  {
   "cell_type": "code",
   "execution_count": 18,
   "metadata": {},
   "outputs": [
    {
     "name": "stderr",
     "output_type": "stream",
     "text": [
      "100%|██████████| 10/10 [00:36<00:00,  3.65s/it]\n",
      "100%|██████████| 5/5 [00:22<00:00,  4.57s/it]\n",
      "100%|██████████| 6/6 [00:21<00:00,  3.60s/it]\n",
      "100%|██████████| 5/5 [00:18<00:00,  3.60s/it]\n",
      "100%|██████████| 5/5 [00:18<00:00,  3.61s/it]\n"
     ]
    }
   ],
   "source": [
    "from ivscript_2 import BlueforsServer_v2, MeasurementScript_v2\n",
    "\n",
    "import numpy as np\n",
    "from time import sleep, time\n",
    "try:\n",
    "    server = BlueforsServer_v2()\n",
    "    server.start_server(\n",
    "        server_name=f'.data/test_{time()}.hdf5',\n",
    "        S='11',\n",
    "    )\n",
    "    \n",
    "    script = MeasurementScript_v2()\n",
    "    script.femto1_amp = 1000\n",
    "    script.femto2_amp = 10000\n",
    "    script.amplitude = .1\n",
    "    script.period = 2\n",
    "    script.sweep_time = 2.1\n",
    "    script.offset_time = .2\n",
    "    script.ramp_cool_down = .5\n",
    "    script.initial_ramp_cool_down = 1\n",
    "\n",
    "    script.single_IV(\n",
    "        gate_voltage = 1e-7,\n",
    "        vna_frequency = 10e9,\n",
    "        vna_amplitude = .01,\n",
    "        magnetic_field = 10e-3,\n",
    "    )\n",
    "\n",
    "    script.gate_study(\n",
    "        gate_voltages = np.linspace(-.02, .02, 10),\n",
    "        vna_frequency = 10e9,\n",
    "        vna_amplitude = .01,\n",
    "        # magnetic_field = 10e-3,\n",
    "    )\n",
    "\n",
    "    script.magnetic_field_study(\n",
    "        magnetic_fields = np.linspace(-.02, .02, 5),\n",
    "        gate_voltage = 1e-3,\n",
    "        # vna_frequency = 10e9,\n",
    "        # vna_amplitude = .01,\n",
    "    )\n",
    "\n",
    "    script.irradiation_study(\n",
    "        vna_frequencies=np.linspace(10e9, 20e9, 3),\n",
    "        vna_amplitudes=np.array([.01, .1]),\n",
    "        magnetic_field=10e-3,\n",
    "        # gate_voltage=1e-3,\n",
    "    )\n",
    "    \n",
    "    script.frequency_study(\n",
    "        vna_frequencies=np.linspace(10e9, 20e9, 5),\n",
    "        vna_amplitude=.1,\n",
    "        gate_voltage=1e-3,\n",
    "        )\n",
    "    script.amplitude_study(\n",
    "        vna_amplitudes=np.linspace(.2, 1, 5),\n",
    "        vna_frequency=10e9,\n",
    "        magnetic_field=10e-3,\n",
    "        )\n",
    "\n",
    "    script.save_state()\n",
    "    server.stop_server()\n",
    "except KeyboardInterrupt:\n",
    "    script.save_state()\n",
    "    server.stop_server()\n",
    "\n",
    "# 2m 34.2s"
   ]
  },
  {
   "cell_type": "markdown",
   "metadata": {},
   "source": [
    "# OI-24d-10 - unbroken"
   ]
  },
  {
   "cell_type": "code",
   "execution_count": 1,
   "metadata": {},
   "outputs": [
    {
     "name": "stderr",
     "output_type": "stream",
     "text": [
      "C:\\Users\\BlueFors\\AppData\\Local\\Packages\\PythonSoftwareFoundation.Python.3.10_qbz5n2kfra8p0\\LocalCache\\local-packages\\Python310\\site-packages\\tqdm\\auto.py:21: TqdmWarning: IProgress not found. Please update jupyter and ipywidgets. See https://ipywidgets.readthedocs.io/en/stable/user_install.html\n",
      "  from .autonotebook import tqdm as notebook_tqdm\n"
     ]
    }
   ],
   "source": [
    "%load_ext autoreload\n",
    "%autoreload 2\n",
    "\n",
    "from ivscript_2 import BlueforsServer_v2, MeasurementScript_v2\n",
    "\n",
    "import numpy as np\n",
    "from time import sleep, time"
   ]
  },
  {
   "cell_type": "code",
   "execution_count": 2,
   "metadata": {},
   "outputs": [
    {
     "name": "stderr",
     "output_type": "stream",
     "text": [
      "100%|██████████| 241/241 [1:58:04<00:00, 29.40s/it]\n"
     ]
    }
   ],
   "source": [
    "# magnetic field study in unbroken state\n",
    "try:\n",
    "    server = BlueforsServer_v2()\n",
    "    server.start_server(\n",
    "        server_name=f'data/OI-24d-10 24-07-22 magnetic field study 2.hdf5',\n",
    "        S='11'\n",
    "    )\n",
    "    \n",
    "    script = MeasurementScript_v2()\n",
    "    script.femto1_amp = 1000\n",
    "    script.femto2_amp = 10000\n",
    "    script.amplitude = .1\n",
    "    script.period = 20\n",
    "    script.sweep_time = 20.5\n",
    "    script.offset_time = 2\n",
    "    script.ramp_cool_down = 5\n",
    "    script.initial_ramp_cool_down = 60\n",
    "\n",
    "    script.magnetic_field_study(\n",
    "        magnetic_fields = np.linspace(-.12, .12, 241),\n",
    "    )\n",
    "\n",
    "    script.save_state()\n",
    "    server.stop_server()\n",
    "except KeyboardInterrupt:\n",
    "    script.save_state()\n",
    "    server.stop_server()\n",
    "\n",
    "# 120m 35.5s "
   ]
  },
  {
   "cell_type": "code",
   "execution_count": 2,
   "metadata": {},
   "outputs": [
    {
     "name": "stderr",
     "output_type": "stream",
     "text": [
      "100%|██████████| 241/241 [1:35:52<00:00, 23.87s/it]\n"
     ]
    }
   ],
   "source": [
    "from ivscript_2 import BlueforsServer_v2, MeasurementScript_v2\n",
    "\n",
    "import numpy as np\n",
    "from time import sleep, time\n",
    "\n",
    "# gate study in unbroken state\n",
    "try:\n",
    "    server = BlueforsServer_v2()\n",
    "    server.start_server(\n",
    "        server_name=f'data/OI-24d-10 24-07-22 gate study A.hdf5',\n",
    "        S='11'\n",
    "    )\n",
    "    \n",
    "    script = MeasurementScript_v2()\n",
    "    script.femto1_amp = 1000\n",
    "    script.femto2_amp = 1000\n",
    "    script.amplitude = .1\n",
    "    script.period = 20\n",
    "    script.sweep_time = 20.5\n",
    "    script.offset_time = 2\n",
    "    script.ramp_cool_down = 5\n",
    "    script.initial_ramp_cool_down = 60\n",
    "\n",
    "    script.gate_study(\n",
    "        gate_voltages = np.linspace(-.12, .12, 241),\n",
    "    )\n",
    "\n",
    "    script.save_state()\n",
    "    server.stop_server()\n",
    "except KeyboardInterrupt:\n",
    "    script.save_state()\n",
    "    server.stop_server()\n",
    "\n",
    "# 96m 21.4s "
   ]
  },
  {
   "cell_type": "code",
   "execution_count": 7,
   "metadata": {},
   "outputs": [
    {
     "name": "stderr",
     "output_type": "stream",
     "text": [
      "100%|██████████| 300/300 [1:58:53<00:00, 23.78s/it]\n",
      "100%|██████████| 240/240 [1:35:07<00:00, 23.78s/it]\n",
      "100%|██████████| 300/300 [1:58:53<00:00, 23.78s/it]\n",
      "100%|██████████| 240/240 [1:35:06<00:00, 23.78s/it]\n"
     ]
    }
   ],
   "source": [
    "from ivscript_2 import BlueforsServer_v2, MeasurementScript_v2\n",
    "\n",
    "import numpy as np\n",
    "from time import sleep, time\n",
    "\n",
    "# irradiation study in unbroken state with antenna\n",
    "try:\n",
    "    server = BlueforsServer_v2()\n",
    "    server.start_server(\n",
    "        server_name=f'data/OI-24d-10 24-07-22 irradiation study with antenna 0.hdf5',\n",
    "        S='11'\n",
    "    )\n",
    "    \n",
    "    script = MeasurementScript_v2()\n",
    "    script.femto1_amp = 1000\n",
    "    script.femto2_amp = 1000\n",
    "    script.amplitude = .1\n",
    "    script.period = 20\n",
    "    script.sweep_time = 20.5\n",
    "    script.offset_time = 2\n",
    "    script.ramp_cool_down = 5\n",
    "    script.initial_ramp_cool_down = 60\n",
    "\n",
    "    script.irradiation_study(\n",
    "        vna_frequencies = np.array([7.8, 15, 19.3]),\n",
    "        vna_amplitudes = np.linspace(0.01, 1.00, 100),\n",
    "        vna_irradiations_name = 'vna_amplitude_study'\n",
    "    )\n",
    "    script.irradiation_study(\n",
    "        vna_frequencies = np.arange(1e9, 25e9, 1e8),\n",
    "        vna_amplitudes=np.array([.1]),\n",
    "        vna_irradiations_name='vna_frequency_study'\n",
    "    )\n",
    "\n",
    "    script.save_state()\n",
    "    server.stop_server()\n",
    "except KeyboardInterrupt:\n",
    "    script.save_state()\n",
    "    server.stop_server()\n",
    "\n",
    "\n",
    "# irradiation study in unbroken state with antenna\n",
    "try:\n",
    "    server = BlueforsServer_v2()\n",
    "    server.start_server(\n",
    "        server_name=f'data/OI-24d-10 24-07-22 irradiation study with stripline 0.hdf5',\n",
    "        S='22'\n",
    "    )\n",
    "    \n",
    "    script = MeasurementScript_v2()\n",
    "    script.femto1_amp = 1000\n",
    "    script.femto2_amp = 1000\n",
    "    script.amplitude = .1\n",
    "    script.period = 20\n",
    "    script.sweep_time = 20.5\n",
    "    script.offset_time = 2\n",
    "    script.ramp_cool_down = 5\n",
    "    script.initial_ramp_cool_down = 60\n",
    "\n",
    "    script.irradiation_study(\n",
    "        vna_frequencies = np.array([7.8, 15, 19.3]),\n",
    "        vna_amplitudes = np.linspace(0.01, 1.00, 100),\n",
    "        vna_irradiations_name = 'vna_amplitude_study'\n",
    "    )\n",
    "    script.irradiation_study(\n",
    "        vna_frequencies = np.arange(1e9, 25e9, 1e8),\n",
    "        vna_amplitudes=np.array([.1]),\n",
    "        vna_irradiations_name='vna_frequency_study'\n",
    "    )\n",
    "\n",
    "    script.save_state()\n",
    "    server.stop_server()\n",
    "except KeyboardInterrupt:\n",
    "    script.save_state()\n",
    "    server.stop_server()\n",
    "# 429m 46.9s"
   ]
  },
  {
   "cell_type": "code",
   "execution_count": 2,
   "metadata": {},
   "outputs": [
    {
     "name": "stderr",
     "output_type": "stream",
     "text": [
      " 53%|█████▎    | 467/880 [3:05:43<2:44:12, 23.86s/it]Exception in thread Thread-7519 (_measuring_thread):\n",
      "Traceback (most recent call last):\n",
      "  File \"C:\\Program Files\\WindowsApps\\PythonSoftwareFoundation.Python.3.10_3.10.3056.0_x64__qbz5n2kfra8p0\\lib\\threading.py\", line 1016, in _bootstrap_inner\n",
      "    self.run()\n",
      "  File \"C:\\Program Files\\WindowsApps\\PythonSoftwareFoundation.Python.3.10_3.10.3056.0_x64__qbz5n2kfra8p0\\lib\\threading.py\", line 953, in run\n",
      "    self._target(*self._args, **self._kwargs)\n",
      "  File \"C:\\Users\\BlueFors\\Documents\\p5control\\p5control\\drivers\\basedriver.py\", line 168, in _measuring_thread\n",
      "    res = self.get_data()\n",
      "  File \"c:\\Users\\BlueFors\\Documents\\p5control-bluefors\\core\\drivers_v2\\yoko_v2.py\", line 74, in get_data\n",
      "    current = float(self.query(':fetch?'))\n",
      "  File \"C:\\Users\\BlueFors\\Documents\\p5control\\p5control\\drivers\\basedriver.py\", line 281, in query\n",
      "    return self._inst.query(message)\n",
      "  File \"C:\\Users\\BlueFors\\AppData\\Local\\Packages\\PythonSoftwareFoundation.Python.3.10_qbz5n2kfra8p0\\LocalCache\\local-packages\\Python310\\site-packages\\pyvisa\\resources\\messagebased.py\", line 648, in query\n",
      "    return self.read()\n",
      "  File \"C:\\Users\\BlueFors\\AppData\\Local\\Packages\\PythonSoftwareFoundation.Python.3.10_qbz5n2kfra8p0\\LocalCache\\local-packages\\Python310\\site-packages\\pyvisa\\resources\\messagebased.py\", line 486, in read\n",
      "    message = self._read_raw().decode(enco)\n",
      "  File \"C:\\Users\\BlueFors\\AppData\\Local\\Packages\\PythonSoftwareFoundation.Python.3.10_qbz5n2kfra8p0\\LocalCache\\local-packages\\Python310\\site-packages\\pyvisa\\resources\\messagebased.py\", line 442, in _read_raw\n",
      "    chunk, status = self.visalib.read(self.session, size)\n",
      "  File \"C:\\Users\\BlueFors\\AppData\\Local\\Packages\\PythonSoftwareFoundation.Python.3.10_qbz5n2kfra8p0\\LocalCache\\local-packages\\Python310\\site-packages\\pyvisa\\ctwrapper\\functions.py\", line 2337, in read\n",
      "    ret = library.viRead(session, buffer, count, byref(return_count))\n",
      "  File \"C:\\Users\\BlueFors\\AppData\\Local\\Packages\\PythonSoftwareFoundation.Python.3.10_qbz5n2kfra8p0\\LocalCache\\local-packages\\Python310\\site-packages\\pyvisa\\ctwrapper\\highlevel.py\", line 226, in _return_handler\n",
      "    return self.handle_return_value(session, ret_value)  # type: ignore\n",
      "  File \"C:\\Users\\BlueFors\\AppData\\Local\\Packages\\PythonSoftwareFoundation.Python.3.10_qbz5n2kfra8p0\\LocalCache\\local-packages\\Python310\\site-packages\\pyvisa\\highlevel.py\", line 251, in handle_return_value\n",
      "    raise errors.VisaIOError(rv)\n",
      "pyvisa.errors.VisaIOError: VI_ERROR_TMO (-1073807339): Timeout expired before operation completed.\n",
      " 53%|█████▎    | 467/880 [3:06:37<2:45:02, 23.98s/it]\n"
     ]
    },
    {
     "ename": "TimeoutError",
     "evalue": "result expired",
     "output_type": "error",
     "traceback": [
      "\u001b[1;31m---------------------------------------------------------------------------\u001b[0m",
      "\u001b[1;31mTimeoutError\u001b[0m                              Traceback (most recent call last)",
      "Cell \u001b[1;32mIn[2], line 24\u001b[0m\n\u001b[0;32m     21\u001b[0m script\u001b[38;5;241m.\u001b[39mramp_cool_down \u001b[38;5;241m=\u001b[39m \u001b[38;5;241m5\u001b[39m\n\u001b[0;32m     22\u001b[0m script\u001b[38;5;241m.\u001b[39minitial_ramp_cool_down \u001b[38;5;241m=\u001b[39m \u001b[38;5;241m60\u001b[39m\n\u001b[1;32m---> 24\u001b[0m \u001b[43mscript\u001b[49m\u001b[38;5;241;43m.\u001b[39;49m\u001b[43mgate_study\u001b[49m\u001b[43m(\u001b[49m\n\u001b[0;32m     25\u001b[0m \u001b[43m    \u001b[49m\u001b[43mgate_voltages\u001b[49m\u001b[43m \u001b[49m\u001b[38;5;241;43m=\u001b[39;49m\u001b[43m \u001b[49m\u001b[43mnp\u001b[49m\u001b[38;5;241;43m.\u001b[39;49m\u001b[43mlinspace\u001b[49m\u001b[43m(\u001b[49m\u001b[38;5;241;43m.121\u001b[39;49m\u001b[43m,\u001b[49m\u001b[43m \u001b[49m\u001b[38;5;241;43m1\u001b[39;49m\u001b[43m,\u001b[49m\u001b[43m \u001b[49m\u001b[38;5;241;43m880\u001b[39;49m\u001b[43m)\u001b[49m\u001b[43m,\u001b[49m\n\u001b[0;32m     26\u001b[0m \u001b[43m\u001b[49m\u001b[43m)\u001b[49m\n\u001b[0;32m     28\u001b[0m script\u001b[38;5;241m.\u001b[39msave_state()\n\u001b[0;32m     29\u001b[0m server\u001b[38;5;241m.\u001b[39mstop_server()\n",
      "File \u001b[1;32mc:\\Users\\BlueFors\\Documents\\p5control-bluefors\\ivscript_2.py:294\u001b[0m, in \u001b[0;36mMeasurementScript_v2.gate_study\u001b[1;34m(self, gate_voltages, gate_voltages_name, amplitude, period, sweep_time, offset_time, sample_rate, femto1_amp, femto2_amp, magnetic_field, vna_amplitude, vna_frequency)\u001b[0m\n\u001b[0;32m    291\u001b[0m     _ \u001b[38;5;241m=\u001b[39m \u001b[38;5;28mself\u001b[39m\u001b[38;5;241m.\u001b[39msetup_gate(\u001b[38;5;28mfloat\u001b[39m(gate_voltage))\n\u001b[0;32m    293\u001b[0m     \u001b[38;5;66;03m# do IV sweep\u001b[39;00m\n\u001b[1;32m--> 294\u001b[0m     \u001b[38;5;28;43mself\u001b[39;49m\u001b[38;5;241;43m.\u001b[39;49m\u001b[43mmeasure_IV\u001b[49m\u001b[43m(\u001b[49m\n\u001b[0;32m    295\u001b[0m \u001b[43m        \u001b[49m\u001b[38;5;124;43mf\u001b[39;49m\u001b[38;5;124;43m\"\u001b[39;49m\u001b[38;5;132;43;01m{\u001b[39;49;00m\u001b[43mgate_voltages_name\u001b[49m\u001b[38;5;132;43;01m}\u001b[39;49;00m\u001b[38;5;124;43m/\u001b[39;49m\u001b[38;5;132;43;01m{\u001b[39;49;00m\u001b[43mfname\u001b[49m\u001b[38;5;132;43;01m}\u001b[39;49;00m\u001b[38;5;124;43m\"\u001b[39;49m\u001b[43m,\u001b[49m\u001b[43m \u001b[49m\n\u001b[0;32m    296\u001b[0m \u001b[43m        \u001b[49m\u001b[43mamplitude\u001b[49m\u001b[38;5;241;43m=\u001b[39;49m\u001b[43mamplitude\u001b[49m\u001b[43m,\u001b[49m\u001b[43m \u001b[49m\n\u001b[0;32m    297\u001b[0m \u001b[43m        \u001b[49m\u001b[43mperiod\u001b[49m\u001b[38;5;241;43m=\u001b[39;49m\u001b[43mperiod\u001b[49m\u001b[43m,\u001b[49m\u001b[43m \u001b[49m\n\u001b[0;32m    298\u001b[0m \u001b[43m        \u001b[49m\u001b[43moffset_time\u001b[49m\u001b[38;5;241;43m=\u001b[39;49m\u001b[43moffset_time\u001b[49m\u001b[43m,\u001b[49m\u001b[43m \u001b[49m\n\u001b[0;32m    299\u001b[0m \u001b[43m        \u001b[49m\u001b[43msweep_time\u001b[49m\u001b[38;5;241;43m=\u001b[39;49m\u001b[43msweep_time\u001b[49m\n\u001b[0;32m    300\u001b[0m \u001b[43m        \u001b[49m\u001b[43m)\u001b[49m\n\u001b[0;32m    301\u001b[0m     \u001b[38;5;28mself\u001b[39m\u001b[38;5;241m.\u001b[39mgw\u001b[38;5;241m.\u001b[39mgate\u001b[38;5;241m.\u001b[39msetOutput(\u001b[38;5;28;01mFalse\u001b[39;00m)\n\u001b[0;32m    303\u001b[0m \u001b[38;5;28mself\u001b[39m\u001b[38;5;241m.\u001b[39msave_state()\n",
      "File \u001b[1;32mc:\\Users\\BlueFors\\Documents\\p5control-bluefors\\ivscript_2.py:208\u001b[0m, in \u001b[0;36mMeasurementScript_v2.measure_IV\u001b[1;34m(self, name, amplitude, period, offset_time, sweep_time)\u001b[0m\n\u001b[0;32m    206\u001b[0m \u001b[38;5;28mself\u001b[39m\u001b[38;5;241m.\u001b[39mgw\u001b[38;5;241m.\u001b[39madwin\u001b[38;5;241m.\u001b[39msetOutput(\u001b[38;5;28;01mTrue\u001b[39;00m)\n\u001b[0;32m    207\u001b[0m sleep(sweep_time)\n\u001b[1;32m--> 208\u001b[0m \u001b[43mm\u001b[49m\u001b[38;5;241;43m.\u001b[39;49m\u001b[43mstop\u001b[49m\u001b[43m(\u001b[49m\u001b[43m)\u001b[49m\n\u001b[0;32m    209\u001b[0m sleep(\u001b[38;5;28mself\u001b[39m\u001b[38;5;241m.\u001b[39msweep_cool_down)\n",
      "File \u001b[1;32m~\\AppData\\Local\\Packages\\PythonSoftwareFoundation.Python.3.10_qbz5n2kfra8p0\\LocalCache\\local-packages\\Python310\\site-packages\\rpyc\\core\\netref.py:240\u001b[0m, in \u001b[0;36m_make_method.<locals>.__call__\u001b[1;34m(_self, *args, **kwargs)\u001b[0m\n\u001b[0;32m    238\u001b[0m \u001b[38;5;28;01mdef\u001b[39;00m \u001b[38;5;21m__call__\u001b[39m(_self, \u001b[38;5;241m*\u001b[39margs, \u001b[38;5;241m*\u001b[39m\u001b[38;5;241m*\u001b[39mkwargs):\n\u001b[0;32m    239\u001b[0m     kwargs \u001b[38;5;241m=\u001b[39m \u001b[38;5;28mtuple\u001b[39m(kwargs\u001b[38;5;241m.\u001b[39mitems())\n\u001b[1;32m--> 240\u001b[0m     \u001b[38;5;28;01mreturn\u001b[39;00m \u001b[43msyncreq\u001b[49m\u001b[43m(\u001b[49m\u001b[43m_self\u001b[49m\u001b[43m,\u001b[49m\u001b[43m \u001b[49m\u001b[43mconsts\u001b[49m\u001b[38;5;241;43m.\u001b[39;49m\u001b[43mHANDLE_CALL\u001b[49m\u001b[43m,\u001b[49m\u001b[43m \u001b[49m\u001b[43margs\u001b[49m\u001b[43m,\u001b[49m\u001b[43m \u001b[49m\u001b[43mkwargs\u001b[49m\u001b[43m)\u001b[49m\n",
      "File \u001b[1;32m~\\AppData\\Local\\Packages\\PythonSoftwareFoundation.Python.3.10_qbz5n2kfra8p0\\LocalCache\\local-packages\\Python310\\site-packages\\rpyc\\core\\netref.py:63\u001b[0m, in \u001b[0;36msyncreq\u001b[1;34m(proxy, handler, *args)\u001b[0m\n\u001b[0;32m     51\u001b[0m \u001b[38;5;250m\u001b[39m\u001b[38;5;124;03m\"\"\"Performs a synchronous request on the given proxy object.\u001b[39;00m\n\u001b[0;32m     52\u001b[0m \u001b[38;5;124;03mNot intended to be invoked directly.\u001b[39;00m\n\u001b[0;32m     53\u001b[0m \n\u001b[1;32m   (...)\u001b[0m\n\u001b[0;32m     60\u001b[0m \u001b[38;5;124;03m:returns: the result of the operation\u001b[39;00m\n\u001b[0;32m     61\u001b[0m \u001b[38;5;124;03m\"\"\"\u001b[39;00m\n\u001b[0;32m     62\u001b[0m conn \u001b[38;5;241m=\u001b[39m \u001b[38;5;28mobject\u001b[39m\u001b[38;5;241m.\u001b[39m\u001b[38;5;21m__getattribute__\u001b[39m(proxy, \u001b[38;5;124m\"\u001b[39m\u001b[38;5;124m____conn__\u001b[39m\u001b[38;5;124m\"\u001b[39m)\n\u001b[1;32m---> 63\u001b[0m \u001b[38;5;28;01mreturn\u001b[39;00m \u001b[43mconn\u001b[49m\u001b[38;5;241;43m.\u001b[39;49m\u001b[43msync_request\u001b[49m\u001b[43m(\u001b[49m\u001b[43mhandler\u001b[49m\u001b[43m,\u001b[49m\u001b[43m \u001b[49m\u001b[43mproxy\u001b[49m\u001b[43m,\u001b[49m\u001b[43m \u001b[49m\u001b[38;5;241;43m*\u001b[39;49m\u001b[43margs\u001b[49m\u001b[43m)\u001b[49m\n",
      "File \u001b[1;32m~\\AppData\\Local\\Packages\\PythonSoftwareFoundation.Python.3.10_qbz5n2kfra8p0\\LocalCache\\local-packages\\Python310\\site-packages\\rpyc\\core\\protocol.py:718\u001b[0m, in \u001b[0;36mConnection.sync_request\u001b[1;34m(self, handler, *args)\u001b[0m\n\u001b[0;32m    715\u001b[0m _async_res \u001b[38;5;241m=\u001b[39m \u001b[38;5;28mself\u001b[39m\u001b[38;5;241m.\u001b[39masync_request(handler, \u001b[38;5;241m*\u001b[39margs, timeout\u001b[38;5;241m=\u001b[39mtimeout)\n\u001b[0;32m    716\u001b[0m \u001b[38;5;66;03m# _async_res is an instance of AsyncResult, the value property invokes Connection.serve via AsyncResult.wait\u001b[39;00m\n\u001b[0;32m    717\u001b[0m \u001b[38;5;66;03m# So, the _recvlock can be acquired multiple times by the owning thread and warrants the use of RLock\u001b[39;00m\n\u001b[1;32m--> 718\u001b[0m \u001b[38;5;28;01mreturn\u001b[39;00m \u001b[43m_async_res\u001b[49m\u001b[38;5;241;43m.\u001b[39;49m\u001b[43mvalue\u001b[49m\n",
      "File \u001b[1;32m~\\AppData\\Local\\Packages\\PythonSoftwareFoundation.Python.3.10_qbz5n2kfra8p0\\LocalCache\\local-packages\\Python310\\site-packages\\rpyc\\core\\async_.py:106\u001b[0m, in \u001b[0;36mAsyncResult.value\u001b[1;34m(self)\u001b[0m\n\u001b[0;32m     98\u001b[0m \u001b[38;5;129m@property\u001b[39m\n\u001b[0;32m     99\u001b[0m \u001b[38;5;28;01mdef\u001b[39;00m \u001b[38;5;21mvalue\u001b[39m(\u001b[38;5;28mself\u001b[39m):\n\u001b[0;32m    100\u001b[0m \u001b[38;5;250m    \u001b[39m\u001b[38;5;124;03m\"\"\"Returns the result of the operation. If the result has not yet\u001b[39;00m\n\u001b[0;32m    101\u001b[0m \u001b[38;5;124;03m    arrived, accessing this property will wait for it. If the result does\u001b[39;00m\n\u001b[0;32m    102\u001b[0m \u001b[38;5;124;03m    not arrive before the expiry time elapses, :class:`AsyncResultTimeout`\u001b[39;00m\n\u001b[0;32m    103\u001b[0m \u001b[38;5;124;03m    is raised. If the returned result is an exception, it will be raised\u001b[39;00m\n\u001b[0;32m    104\u001b[0m \u001b[38;5;124;03m    here. Otherwise, the result is returned directly.\u001b[39;00m\n\u001b[0;32m    105\u001b[0m \u001b[38;5;124;03m    \"\"\"\u001b[39;00m\n\u001b[1;32m--> 106\u001b[0m     \u001b[38;5;28;43mself\u001b[39;49m\u001b[38;5;241;43m.\u001b[39;49m\u001b[43mwait\u001b[49m\u001b[43m(\u001b[49m\u001b[43m)\u001b[49m\n\u001b[0;32m    107\u001b[0m     \u001b[38;5;28;01mif\u001b[39;00m \u001b[38;5;28mself\u001b[39m\u001b[38;5;241m.\u001b[39m_is_exc:\n\u001b[0;32m    108\u001b[0m         \u001b[38;5;28;01mraise\u001b[39;00m \u001b[38;5;28mself\u001b[39m\u001b[38;5;241m.\u001b[39m_obj\n",
      "File \u001b[1;32m~\\AppData\\Local\\Packages\\PythonSoftwareFoundation.Python.3.10_qbz5n2kfra8p0\\LocalCache\\local-packages\\Python310\\site-packages\\rpyc\\core\\async_.py:55\u001b[0m, in \u001b[0;36mAsyncResult.wait\u001b[1;34m(self)\u001b[0m\n\u001b[0;32m     53\u001b[0m \u001b[38;5;66;03m# Check if we timed out before result was ready\u001b[39;00m\n\u001b[0;32m     54\u001b[0m \u001b[38;5;28;01mif\u001b[39;00m \u001b[38;5;129;01mnot\u001b[39;00m \u001b[38;5;28mself\u001b[39m\u001b[38;5;241m.\u001b[39m_is_ready:\n\u001b[1;32m---> 55\u001b[0m     \u001b[38;5;28;01mraise\u001b[39;00m AsyncResultTimeout(\u001b[38;5;124m\"\u001b[39m\u001b[38;5;124mresult expired\u001b[39m\u001b[38;5;124m\"\u001b[39m)\n",
      "\u001b[1;31mTimeoutError\u001b[0m: result expired"
     ]
    }
   ],
   "source": [
    "from ivscript_2 import BlueforsServer_v2, MeasurementScript_v2\n",
    "\n",
    "import numpy as np\n",
    "from time import sleep, time\n",
    "\n",
    "# gate study in unbroken state\n",
    "try:\n",
    "    server = BlueforsServer_v2()\n",
    "    server.start_server(\n",
    "        server_name=f'data/OI-24d-10 24-07-23 long gate study 2.hdf5',\n",
    "        S='11'\n",
    "    )\n",
    "    \n",
    "    script = MeasurementScript_v2()\n",
    "    script.femto1_amp = 1000\n",
    "    script.femto2_amp = 1000\n",
    "    script.amplitude = .15\n",
    "    script.period = 20\n",
    "    script.sweep_time = 20.5\n",
    "    script.offset_time = 2\n",
    "    script.ramp_cool_down = 5\n",
    "    script.initial_ramp_cool_down = 60\n",
    "\n",
    "    script.gate_study(\n",
    "        gate_voltages = np.linspace(.121, 1, 880),\n",
    "    )\n",
    "\n",
    "    script.save_state()\n",
    "    server.stop_server()\n",
    "except KeyboardInterrupt:\n",
    "    script.save_state()\n",
    "    server.stop_server()\n",
    "\n",
    "# 187m 5.6s "
   ]
  },
  {
   "cell_type": "code",
   "execution_count": 5,
   "metadata": {},
   "outputs": [
    {
     "name": "stderr",
     "output_type": "stream",
     "text": [
      "100%|██████████| 101/101 [40:10<00:00, 23.86s/it]\n"
     ]
    }
   ],
   "source": [
    "from ivscript_2 import BlueforsServer_v2, MeasurementScript_v2\n",
    "\n",
    "import numpy as np\n",
    "from time import sleep, time\n",
    "\n",
    "# gate study in unbroken state\n",
    "try:\n",
    "    server = BlueforsServer_v2()\n",
    "    server.start_server(\n",
    "        server_name=f'data/OI-24d-10 24-07-23 fine gate study 0.hdf5',\n",
    "        S='11'\n",
    "    )\n",
    "    \n",
    "    script = MeasurementScript_v2()\n",
    "    script.femto1_amp = 1000\n",
    "    script.femto2_amp = 1000\n",
    "    script.amplitude = .15\n",
    "    script.period = 20\n",
    "    script.sweep_time = 20.5\n",
    "    script.offset_time = 2\n",
    "    script.ramp_cool_down = 5\n",
    "    script.initial_ramp_cool_down = 60\n",
    "\n",
    "    script.gate_study(\n",
    "        gate_voltages = np.linspace(0, .01, 101),\n",
    "    )\n",
    "\n",
    "    script.save_state()\n",
    "    server.stop_server()\n",
    "except KeyboardInterrupt:\n",
    "    script.save_state()\n",
    "    server.stop_server()\n",
    "\n",
    "# 40m 39.2s"
   ]
  },
  {
   "cell_type": "code",
   "execution_count": 1,
   "metadata": {},
   "outputs": [
    {
     "name": "stderr",
     "output_type": "stream",
     "text": [
      "C:\\Users\\BlueFors\\AppData\\Local\\Packages\\PythonSoftwareFoundation.Python.3.10_qbz5n2kfra8p0\\LocalCache\\local-packages\\Python310\\site-packages\\tqdm\\auto.py:21: TqdmWarning: IProgress not found. Please update jupyter and ipywidgets. See https://ipywidgets.readthedocs.io/en/stable/user_install.html\n",
      "  from .autonotebook import tqdm as notebook_tqdm\n",
      "100%|██████████| 400/400 [2:39:08<00:00, 23.87s/it]  \n"
     ]
    }
   ],
   "source": [
    "from ivscript_2 import BlueforsServer_v2, MeasurementScript_v2\n",
    "\n",
    "import numpy as np\n",
    "from time import sleep, time\n",
    "\n",
    "# gate study in unbroken state\n",
    "try:\n",
    "    server = BlueforsServer_v2()\n",
    "    server.start_server(\n",
    "        server_name=f'data/OI-24d-10 24-07-23 long gate study 4.hdf5',\n",
    "        S='11'\n",
    "    )\n",
    "    \n",
    "    script = MeasurementScript_v2()\n",
    "    script.femto1_amp = 1000\n",
    "    script.femto2_amp = 1000\n",
    "    script.amplitude = .15\n",
    "    script.period = 20\n",
    "    script.sweep_time = 20.5\n",
    "    script.offset_time = 2\n",
    "    script.ramp_cool_down = 5\n",
    "    script.initial_ramp_cool_down = 60\n",
    "\n",
    "    script.gate_study(\n",
    "        gate_voltages = np.linspace(.59, 1, 400),\n",
    "    )\n",
    "\n",
    "    script.save_state()\n",
    "    server.stop_server()\n",
    "except KeyboardInterrupt:\n",
    "    script.save_state()\n",
    "    server.stop_server()\n",
    "\n",
    "# 159m 38.2s "
   ]
  },
  {
   "cell_type": "code",
   "execution_count": 2,
   "metadata": {},
   "outputs": [
    {
     "name": "stderr",
     "output_type": "stream",
     "text": [
      "100%|██████████| 100/100 [1:47:09<00:00, 64.30s/it]\n",
      "100%|██████████| 100/100 [1:47:09<00:00, 64.29s/it]\n",
      "100%|██████████| 100/100 [1:47:09<00:00, 64.29s/it]\n",
      "100%|██████████| 191/191 [3:24:40<00:00, 64.30s/it]  \n"
     ]
    }
   ],
   "source": [
    "from ivscript_2 import BlueforsServer_v2, MeasurementScript_v2\n",
    "\n",
    "import numpy as np\n",
    "from time import sleep, time\n",
    "sleep(60)\n",
    "# irradiation study in unbroken state with antenna\n",
    "try:\n",
    "    server = BlueforsServer_v2()\n",
    "    server.start_server(\n",
    "        server_name=f'data/OI-24d-10 24-07-22 irradiation study with antenna 1.hdf5',\n",
    "        S='11'\n",
    "    )\n",
    "    \n",
    "    script = MeasurementScript_v2()\n",
    "    script.femto1_amp = 1000\n",
    "    script.femto2_amp = 1000\n",
    "    script.amplitude = .15\n",
    "    script.period = 60\n",
    "    script.sweep_time = 61\n",
    "    script.offset_time = 2\n",
    "    script.ramp_cool_down = 5\n",
    "    script.initial_ramp_cool_down = 60\n",
    "\n",
    "    script.irradiation_study(\n",
    "        vna_frequencies = np.array([7.8e9]),\n",
    "        vna_amplitudes = np.linspace(0.01, 1.00, 100),\n",
    "        vna_irradiations_name = 'vna_amplitude_study_7.8GHz'\n",
    "    )\n",
    "    script.irradiation_study(\n",
    "        vna_frequencies = np.array([15e9]),\n",
    "        vna_amplitudes = np.linspace(0.01, 1.00, 100),\n",
    "        vna_irradiations_name = 'vna_amplitude_study_15GHz'\n",
    "    )\n",
    "    script.irradiation_study(\n",
    "        vna_frequencies = np.array([19.3e9]),\n",
    "        vna_amplitudes = np.linspace(0.01, 1.00, 100),\n",
    "        vna_irradiations_name = 'vna_amplitude_study_19.3GHz'\n",
    "    )\n",
    "    script.irradiation_study(\n",
    "        vna_frequencies = np.linspace(1e9, 20e9, 191),\n",
    "        vna_amplitudes=np.array([.1]),\n",
    "        vna_irradiations_name='vna_frequency_study'\n",
    "    )\n",
    "\n",
    "    script.save_state()\n",
    "    server.stop_server()\n",
    "except KeyboardInterrupt:\n",
    "    script.save_state()\n",
    "    server.stop_server()\n",
    "# 531m 34.4s"
   ]
  },
  {
   "cell_type": "code",
   "execution_count": 4,
   "metadata": {},
   "outputs": [
    {
     "name": "stderr",
     "output_type": "stream",
     "text": [
      "100%|██████████| 501/501 [3:19:11<00:00, 23.86s/it]  \n"
     ]
    }
   ],
   "source": [
    "from ivscript_2 import BlueforsServer_v2, MeasurementScript_v2\n",
    "\n",
    "import numpy as np\n",
    "from time import sleep, time\n",
    "\n",
    "# gate study in unbroken state\n",
    "try:\n",
    "    server = BlueforsServer_v2()\n",
    "    server.start_server(\n",
    "        server_name=f'data/OI-24d-10 24-07-23 long gate study 4.hdf5',\n",
    "        S='11'\n",
    "    )\n",
    "    \n",
    "    script = MeasurementScript_v2()\n",
    "    script.femto1_amp = 1000\n",
    "    script.femto2_amp = 1000\n",
    "    script.amplitude = .15\n",
    "    script.period = 20\n",
    "    script.sweep_time = 20.5\n",
    "    script.offset_time = 2\n",
    "    script.ramp_cool_down = 5\n",
    "    script.initial_ramp_cool_down = 60\n",
    "\n",
    "    script.gate_study(\n",
    "        gate_voltages = np.linspace(1, 2, 501),\n",
    "    )\n",
    "\n",
    "    script.save_state()\n",
    "    server.stop_server()\n",
    "except KeyboardInterrupt:\n",
    "    script.save_state()\n",
    "    server.stop_server()\n",
    "\n",
    "# 199m 40.3s "
   ]
  },
  {
   "cell_type": "code",
   "execution_count": 6,
   "metadata": {},
   "outputs": [
    {
     "name": "stderr",
     "output_type": "stream",
     "text": [
      "100%|██████████| 199/199 [16:59:18<00:00, 307.33s/it]  \n"
     ]
    }
   ],
   "source": [
    "from ivscript_2 import BlueforsServer_v2, MeasurementScript_v2\n",
    "\n",
    "import numpy as np\n",
    "from time import sleep, time\n",
    "sleep(60)\n",
    "# irradiation study in unbroken state with antenna\n",
    "try:\n",
    "    server = BlueforsServer_v2()\n",
    "    server.start_server(\n",
    "        server_name=f'data/OI-24d-10 24-07-24 long irradiation study at 16Ghz 0.hdf5',\n",
    "        S='11'\n",
    "    )\n",
    "    \n",
    "    script = MeasurementScript_v2()\n",
    "    script.femto1_amp = 1000\n",
    "    script.femto2_amp = 1000\n",
    "    script.amplitude = .18\n",
    "    script.period = 300\n",
    "    script.sweep_time = 301\n",
    "    script.offset_time = 5\n",
    "    script.ramp_cool_down = 5\n",
    "    script.initial_ramp_cool_down = 60\n",
    "\n",
    "    script.irradiation_study(\n",
    "        vna_frequencies = np.array([16e9]),\n",
    "        vna_amplitudes = np.linspace(0.01, 1.00, 199),\n",
    "        vna_irradiations_name = 'vna_amplitude_study_16.0GHz'\n",
    "    )\n",
    "\n",
    "    script.save_state()\n",
    "    server.stop_server()\n",
    "except KeyboardInterrupt:\n",
    "    script.save_state()\n",
    "    server.stop_server()\n",
    "# 1025m 30.3s"
   ]
  },
  {
   "cell_type": "code",
   "execution_count": 7,
   "metadata": {},
   "outputs": [
    {
     "name": "stderr",
     "output_type": "stream",
     "text": [
      "100%|██████████| 400/400 [2:39:03<00:00, 23.86s/it]  \n"
     ]
    }
   ],
   "source": [
    "from ivscript_2 import BlueforsServer_v2, MeasurementScript_v2\n",
    "\n",
    "import numpy as np\n",
    "from time import sleep, time\n",
    "\n",
    "# gate study in unbroken state\n",
    "try:\n",
    "    server = BlueforsServer_v2()\n",
    "    server.start_server(\n",
    "        server_name=f'data/OI-24d-10 24-07-25 long gate study 0.hdf5',\n",
    "        S='11'\n",
    "    )\n",
    "    \n",
    "    script = MeasurementScript_v2()\n",
    "    script.femto1_amp = 1000\n",
    "    script.femto2_amp = 1000\n",
    "    script.amplitude = .15\n",
    "    script.period = 20\n",
    "    script.sweep_time = 20.5\n",
    "    script.offset_time = 2\n",
    "    script.ramp_cool_down = 5\n",
    "    script.initial_ramp_cool_down = 60\n",
    "    script.gw.gate.setCompliance(.01)\n",
    "\n",
    "    script.gate_study(\n",
    "        gate_voltages = np.linspace(.5, 2.5, 400),\n",
    "    )\n",
    "\n",
    "    script.save_state()\n",
    "    server.stop_server()\n",
    "except KeyboardInterrupt:\n",
    "    script.save_state()\n",
    "    server.stop_server()\n",
    "\n",
    "# 159m 38.2s "
   ]
  },
  {
   "cell_type": "code",
   "execution_count": null,
   "metadata": {},
   "outputs": [],
   "source": []
  },
  {
   "cell_type": "markdown",
   "metadata": {},
   "source": [
    "## Gate Study"
   ]
  },
  {
   "cell_type": "code",
   "execution_count": 20,
   "metadata": {},
   "outputs": [
    {
     "name": "stderr",
     "output_type": "stream",
     "text": [
      "100%|██████████| 501/501 [4:42:53<00:00, 33.88s/it]  \n"
     ]
    }
   ],
   "source": [
    "from ivscript_2 import BlueforsServer_v2, MeasurementScript_v2\n",
    "\n",
    "import numpy as np\n",
    "from time import sleep, time\n",
    "\n",
    "# gate study in unbroken state\n",
    "try:\n",
    "    server = BlueforsServer_v2()\n",
    "    server.start_server(\n",
    "        server_name=f'data/OI-24d-10 24-07-26 high gate study 1.hdf5',\n",
    "        S='11'\n",
    "    )\n",
    "    \n",
    "    script = MeasurementScript_v2()\n",
    "    script.femto1_amp = 1000\n",
    "    script.femto2_amp = 1000\n",
    "    script.amplitude = .06\n",
    "    script.period = 60\n",
    "    script.sweep_time = 30.5\n",
    "    script.offset_time = 2\n",
    "    script.ramp_cool_down = 5\n",
    "    script.initial_ramp_cool_down = 60\n",
    "    script.gw.gate.setCompliance(.01)\n",
    "\n",
    "    script.gate_study(\n",
    "        gate_voltages = np.linspace(2.5, 0, 501),\n",
    "    )\n",
    "\n",
    "    script.save_state()\n",
    "    server.stop_server()\n",
    "except KeyboardInterrupt:\n",
    "    script.save_state()\n",
    "    server.stop_server()\n",
    "\n",
    "# 283m 31.6s"
   ]
  },
  {
   "cell_type": "code",
   "execution_count": 21,
   "metadata": {},
   "outputs": [
    {
     "name": "stderr",
     "output_type": "stream",
     "text": [
      "100%|██████████| 500/500 [4:42:17<00:00, 33.87s/it]  \n"
     ]
    }
   ],
   "source": [
    "from ivscript_2 import BlueforsServer_v2, MeasurementScript_v2\n",
    "\n",
    "import numpy as np\n",
    "from time import sleep, time\n",
    "\n",
    "# gate study in unbroken state\n",
    "try:\n",
    "    server = BlueforsServer_v2()\n",
    "    server.start_server(\n",
    "        server_name=f'data/OI-24d-10 24-07-26 high gate study 1.hdf5',\n",
    "        S='11'\n",
    "    )\n",
    "    \n",
    "    script = MeasurementScript_v2()\n",
    "    script.femto1_amp = 1000\n",
    "    script.femto2_amp = 1000\n",
    "    script.amplitude = .06\n",
    "    script.period = 60\n",
    "    script.sweep_time = 30.5\n",
    "    script.offset_time = 2\n",
    "    script.ramp_cool_down = 5\n",
    "    script.initial_ramp_cool_down = 60\n",
    "    script.gw.gate.setCompliance(.01)\n",
    "\n",
    "    script.gate_study(\n",
    "        gate_voltages = np.linspace(-0.005, -2.5, 500),\n",
    "    )\n",
    "\n",
    "    script.save_state()\n",
    "    server.stop_server()\n",
    "except KeyboardInterrupt:\n",
    "    script.save_state()\n",
    "    server.stop_server()\n",
    "\n",
    "# 282m 56.3s"
   ]
  },
  {
   "cell_type": "markdown",
   "metadata": {},
   "source": [
    "# Killer Radiation Study"
   ]
  },
  {
   "cell_type": "code",
   "execution_count": 22,
   "metadata": {},
   "outputs": [
    {
     "name": "stderr",
     "output_type": "stream",
     "text": [
      "100%|██████████| 159/159 [18:49:40<00:00, 426.29s/it]  \n",
      "100%|██████████| 159/159 [2:53:00<00:00, 65.29s/it]  \n",
      "100%|██████████| 159/159 [2:53:02<00:00, 65.30s/it]  \n"
     ]
    }
   ],
   "source": [
    "from ivscript_2 import BlueforsServer_v2, MeasurementScript_v2\n",
    "import numpy as np\n",
    "from time import sleep, time\n",
    "\n",
    "try:\n",
    "    server = BlueforsServer_v2()\n",
    "    server.start_server(\n",
    "        server_name=f'data/OI-24d-10 24-07-26 long irradiation study at 7.8Ghz 0.hdf5',\n",
    "        S='11'\n",
    "    )\n",
    "    \n",
    "    script = MeasurementScript_v2()\n",
    "    script.femto1_amp = 1000\n",
    "    script.femto2_amp = 1000\n",
    "    script.amplitude = .15\n",
    "    script.period = 420\n",
    "    script.sweep_time = 422\n",
    "    script.offset_time = 3\n",
    "\n",
    "    script.amplitude_study(\n",
    "        vna_frequency = 7.8e9,\n",
    "        vna_amplitudes = np.linspace(0.01, .8, 159),\n",
    "    )\n",
    "\n",
    "    script.period = 60\n",
    "    script.sweep_time = 61\n",
    "\n",
    "    script.amplitude_study(\n",
    "        vna_frequency = 7.7e9,\n",
    "        vna_amplitudes = np.linspace(0.01, .8, 159),\n",
    "    )\n",
    "\n",
    "    script.amplitude_study(\n",
    "        vna_frequency = 7.9e9,\n",
    "        vna_amplitudes = np.linspace(0.01, .8, 159),\n",
    "    )\n",
    "\n",
    "    script.save_state()\n",
    "    server.stop_server()\n",
    "except KeyboardInterrupt:\n",
    "    script.save_state()\n",
    "    server.stop_server()\n",
    "# 1485m 7.4s"
   ]
  },
  {
   "cell_type": "code",
   "execution_count": 23,
   "metadata": {},
   "outputs": [
    {
     "name": "stderr",
     "output_type": "stream",
     "text": [
      "100%|██████████| 100/100 [6:00:29<00:00, 216.29s/it] \n",
      "100%|██████████| 100/100 [6:00:29<00:00, 216.29s/it] \n",
      "100%|██████████| 100/100 [6:00:29<00:00, 216.30s/it] \n",
      "100%|██████████| 100/100 [6:00:30<00:00, 216.30s/it] \n",
      "100%|██████████| 100/100 [6:00:30<00:00, 216.30s/it] \n"
     ]
    }
   ],
   "source": [
    "from ivscript_2 import BlueforsServer_v2, MeasurementScript_v2\n",
    "import numpy as np\n",
    "from time import sleep, time\n",
    "\n",
    "try:\n",
    "    server = BlueforsServer_v2()\n",
    "    server.start_server(\n",
    "        server_name=f'data/OI-24d-10 24-07-26 amplitude study at 1e(5-9)Hz 1.hdf5',\n",
    "        S='11'\n",
    "    )\n",
    "    \n",
    "    script = MeasurementScript_v2()\n",
    "    script.femto1_amp = 1000\n",
    "    script.femto2_amp = 1000\n",
    "    script.amplitude = .12\n",
    "    script.period = 420\n",
    "    script.sweep_time = 212\n",
    "    script.offset_time = 3\n",
    "\n",
    "    for vna_frequency in [1e5, 1e6, 1e7, 1e8, 1e9]:\n",
    "        script.amplitude_study(\n",
    "            vna_frequency = vna_frequency,\n",
    "            vna_amplitudes = np.linspace(0.01, 1, 100),\n",
    "        )\n",
    "\n",
    "    script.save_state()\n",
    "    server.stop_server()\n",
    "except KeyboardInterrupt:\n",
    "    script.save_state()\n",
    "    server.stop_server()\n",
    "# 1820m 38.8s"
   ]
  },
  {
   "cell_type": "markdown",
   "metadata": {},
   "source": [
    "# Transistion Gate Study"
   ]
  },
  {
   "cell_type": "code",
   "execution_count": 24,
   "metadata": {},
   "outputs": [
    {
     "name": "stderr",
     "output_type": "stream",
     "text": [
      "100%|██████████| 501/501 [4:42:46<00:00, 33.87s/it]  \n"
     ]
    }
   ],
   "source": [
    "from ivscript_2 import BlueforsServer_v2, MeasurementScript_v2\n",
    "\n",
    "import numpy as np\n",
    "from time import sleep, time\n",
    "\n",
    "# gate study in unbroken state\n",
    "try:\n",
    "    server = BlueforsServer_v2()\n",
    "    server.start_server(\n",
    "        server_name=f'data/OI-24d-10 24-07-26 transistion gate study 0.hdf5',\n",
    "        S='11'\n",
    "    )\n",
    "    \n",
    "    script = MeasurementScript_v2()\n",
    "    script.femto1_amp = 1000\n",
    "    script.femto2_amp = 1000\n",
    "    script.amplitude = .06\n",
    "    script.period = 60\n",
    "    script.sweep_time = 30.5\n",
    "    script.offset_time = 2\n",
    "    script.ramp_cool_down = 5\n",
    "    script.initial_ramp_cool_down = 60\n",
    "    script.gw.gate.setCompliance(.01)\n",
    "\n",
    "    script.gate_study(\n",
    "        gate_voltages = np.linspace(1.15, 1.05, 501),\n",
    "    )\n",
    "\n",
    "    script.save_state()\n",
    "    server.stop_server()\n",
    "except KeyboardInterrupt:\n",
    "    script.save_state()\n",
    "    server.stop_server()\n",
    "\n",
    "# 282m 56.3s"
   ]
  },
  {
   "cell_type": "code",
   "execution_count": 1,
   "metadata": {},
   "outputs": [
    {
     "name": "stderr",
     "output_type": "stream",
     "text": [
      "C:\\Users\\BlueFors\\AppData\\Local\\Packages\\PythonSoftwareFoundation.Python.3.10_qbz5n2kfra8p0\\LocalCache\\local-packages\\Python310\\site-packages\\tqdm\\auto.py:21: TqdmWarning: IProgress not found. Please update jupyter and ipywidgets. See https://ipywidgets.readthedocs.io/en/stable/user_install.html\n",
      "  from .autonotebook import tqdm as notebook_tqdm\n",
      " 32%|███▏      | 160/501 [37:13<1:19:20, 13.96s/it]\n"
     ]
    }
   ],
   "source": [
    "from ivscript_2 import BlueforsServer_v2, MeasurementScript_v2\n",
    "\n",
    "import numpy as np\n",
    "from time import sleep, time\n",
    "\n",
    "# gate study in unbroken state\n",
    "try:\n",
    "    server = BlueforsServer_v2()\n",
    "    server.start_server(\n",
    "        server_name=f'data/OI-24d-10 24-07-29 transistion gate study 1.hdf5',\n",
    "        S='11'\n",
    "    )\n",
    "    \n",
    "    script = MeasurementScript_v2()\n",
    "    script.femto1_amp = 1000\n",
    "    script.femto2_amp = 1000\n",
    "    script.amplitude = .06\n",
    "    script.period = 20\n",
    "    script.sweep_time = 10.5\n",
    "    script.offset_time = 2\n",
    "    script.ramp_cool_down = 5\n",
    "    script.initial_ramp_cool_down = 60\n",
    "    script.gw.gate.setCompliance(.01)\n",
    "\n",
    "    script.gate_study(\n",
    "        gate_voltages = np.linspace(0, 5, 501),\n",
    "    )\n",
    "\n",
    "    script.save_state()\n",
    "    server.stop_server()\n",
    "except KeyboardInterrupt:\n",
    "    script.save_state()\n",
    "    server.stop_server()\n",
    "\n",
    "# 37m 33.3s"
   ]
  },
  {
   "cell_type": "code",
   "execution_count": 2,
   "metadata": {},
   "outputs": [
    {
     "name": "stderr",
     "output_type": "stream",
     "text": [
      " 31%|███       | 31/101 [07:24<16:42, 14.33s/it]\n"
     ]
    }
   ],
   "source": [
    "from ivscript_2 import BlueforsServer_v2, MeasurementScript_v2\n",
    "\n",
    "import numpy as np\n",
    "from time import sleep, time\n",
    "\n",
    "# gate study in unbroken state\n",
    "try:\n",
    "    server = BlueforsServer_v2()\n",
    "    server.start_server(\n",
    "        server_name=f'data/OI-24d-10 24-07-29 transistion gate study 2.hdf5',\n",
    "        S='11'\n",
    "    )\n",
    "    \n",
    "    script = MeasurementScript_v2()\n",
    "    script.femto1_amp = 1000\n",
    "    script.femto2_amp = 1000\n",
    "    script.amplitude = .06\n",
    "    script.period = 20\n",
    "    script.sweep_time = 10.5\n",
    "    script.offset_time = 2\n",
    "    script.ramp_cool_down = 5\n",
    "    script.initial_ramp_cool_down = 60\n",
    "    script.gw.gate.setCompliance(.01)\n",
    "\n",
    "    script.gate_study(\n",
    "        gate_voltages = np.linspace(1.3, 1.5, 101),\n",
    "    )\n",
    "\n",
    "    script.save_state()\n",
    "    server.stop_server()\n",
    "except KeyboardInterrupt:\n",
    "    script.save_state()\n",
    "    server.stop_server()\n",
    "\n",
    "# 100m"
   ]
  },
  {
   "cell_type": "code",
   "execution_count": 3,
   "metadata": {},
   "outputs": [
    {
     "name": "stderr",
     "output_type": "stream",
     "text": [
      " 33%|███▎      | 17/51 [03:58<07:56, 14.01s/it]\n"
     ]
    }
   ],
   "source": [
    "from ivscript_2 import BlueforsServer_v2, MeasurementScript_v2\n",
    "\n",
    "import numpy as np\n",
    "from time import sleep, time\n",
    "\n",
    "# gate study in unbroken state\n",
    "try:\n",
    "    server = BlueforsServer_v2()\n",
    "    server.start_server(\n",
    "        server_name=f'data/OI-24d-10 24-07-29 transistion gate study 3.hdf5',\n",
    "        S='11'\n",
    "    )\n",
    "    \n",
    "    script = MeasurementScript_v2()\n",
    "    script.femto1_amp = 1000\n",
    "    script.femto2_amp = 1000\n",
    "    script.amplitude = .06\n",
    "    script.period = 20\n",
    "    script.sweep_time = 10.5\n",
    "    script.offset_time = 2\n",
    "    script.ramp_cool_down = 5\n",
    "    script.initial_ramp_cool_down = 60\n",
    "    script.gw.gate.setCompliance(.01)\n",
    "\n",
    "    script.gate_study(\n",
    "        gate_voltages = np.linspace(1.35, 1.40, 51),\n",
    "    )\n",
    "\n",
    "    script.save_state()\n",
    "    server.stop_server()\n",
    "except KeyboardInterrupt:\n",
    "    script.save_state()\n",
    "    server.stop_server()\n",
    "\n",
    "# 100m"
   ]
  },
  {
   "cell_type": "code",
   "execution_count": 4,
   "metadata": {},
   "outputs": [
    {
     "name": "stderr",
     "output_type": "stream",
     "text": [
      "100%|██████████| 51/51 [11:47<00:00, 13.87s/it]\n"
     ]
    }
   ],
   "source": [
    "from ivscript_2 import BlueforsServer_v2, MeasurementScript_v2\n",
    "\n",
    "import numpy as np\n",
    "from time import sleep, time\n",
    "\n",
    "# gate study in unbroken state\n",
    "try:\n",
    "    server = BlueforsServer_v2()\n",
    "    server.start_server(\n",
    "        server_name=f'data/OI-24d-10 24-07-29 transistion gate study 4.hdf5',\n",
    "        S='11'\n",
    "    )\n",
    "    \n",
    "    script = MeasurementScript_v2()\n",
    "    script.femto1_amp = 1000\n",
    "    script.femto2_amp = 1000\n",
    "    script.amplitude = .06\n",
    "    script.period = 20\n",
    "    script.sweep_time = 10.5\n",
    "    script.offset_time = 2\n",
    "    script.ramp_cool_down = 5\n",
    "    script.initial_ramp_cool_down = 60\n",
    "    script.gw.gate.setCompliance(.01)\n",
    "\n",
    "    script.gate_study(\n",
    "        gate_voltages = np.linspace(1.352, 1.357, 51),\n",
    "    )\n",
    "\n",
    "    script.save_state()\n",
    "    server.stop_server()\n",
    "except KeyboardInterrupt:\n",
    "    script.save_state()\n",
    "    server.stop_server()\n",
    "\n",
    "# 100m"
   ]
  },
  {
   "cell_type": "markdown",
   "metadata": {},
   "source": [
    "## Radiation Study 7.75 to 7.95 GHz"
   ]
  },
  {
   "cell_type": "code",
   "execution_count": 1,
   "metadata": {},
   "outputs": [
    {
     "name": "stderr",
     "output_type": "stream",
     "text": [
      "C:\\Users\\BlueFors\\AppData\\Local\\Packages\\PythonSoftwareFoundation.Python.3.10_qbz5n2kfra8p0\\LocalCache\\local-packages\\Python310\\site-packages\\tqdm\\auto.py:21: TqdmWarning: IProgress not found. Please update jupyter and ipywidgets. See https://ipywidgets.readthedocs.io/en/stable/user_install.html\n",
      "  from .autonotebook import tqdm as notebook_tqdm\n",
      "100%|██████████| 100/100 [4:20:29<00:00, 156.29s/it] \n",
      "100%|██████████| 100/100 [4:20:29<00:00, 156.30s/it] \n",
      "100%|██████████| 100/100 [4:20:29<00:00, 156.29s/it] \n",
      "100%|██████████| 100/100 [4:20:29<00:00, 156.29s/it] \n",
      "  9%|▉         | 9/100 [26:02<4:23:22, 173.66s/it]\n"
     ]
    }
   ],
   "source": [
    "from ivscript_2 import BlueforsServer_v2, MeasurementScript_v2\n",
    "import numpy as np\n",
    "from time import sleep, time\n",
    "\n",
    "try:\n",
    "    server = BlueforsServer_v2()\n",
    "    server.start_server(\n",
    "        server_name=f'data/OI-24d-10 24-07-29 amplitude study at 1e(5-9)Hz 2.hdf5',\n",
    "        S='11'\n",
    "    )\n",
    "    \n",
    "    script = MeasurementScript_v2()\n",
    "    script.femto1_amp = 1000\n",
    "    script.femto2_amp = 1000\n",
    "    script.amplitude = .12\n",
    "    script.period = 300\n",
    "    script.sweep_time = 152\n",
    "    script.offset_time = 3\n",
    "\n",
    "    for vna_frequency in [1e5, 1e6, 1e7, 1e8, 1e9]:\n",
    "        script.amplitude_study(\n",
    "            vna_frequency = vna_frequency,\n",
    "            vna_amplitudes = np.linspace(0.01, 1, 100),\n",
    "        )\n",
    "\n",
    "    script.save_state()\n",
    "    server.stop_server()\n",
    "except KeyboardInterrupt:\n",
    "    script.save_state()\n",
    "    server.stop_server()\n",
    "# 20h"
   ]
  },
  {
   "cell_type": "code",
   "execution_count": 1,
   "metadata": {},
   "outputs": [
    {
     "name": "stderr",
     "output_type": "stream",
     "text": [
      "C:\\Users\\BlueFors\\AppData\\Local\\Packages\\PythonSoftwareFoundation.Python.3.10_qbz5n2kfra8p0\\LocalCache\\local-packages\\Python310\\site-packages\\tqdm\\auto.py:21: TqdmWarning: IProgress not found. Please update jupyter and ipywidgets. See https://ipywidgets.readthedocs.io/en/stable/user_install.html\n",
      "  from .autonotebook import tqdm as notebook_tqdm\n",
      "100%|██████████| 31/31 [1:51:44<00:00, 216.29s/it]\n"
     ]
    }
   ],
   "source": [
    "from ivscript_2 import BlueforsServer_v2, MeasurementScript_v2\n",
    "import numpy as np\n",
    "from time import sleep, time\n",
    "\n",
    "try:\n",
    "    server = BlueforsServer_v2()\n",
    "    server.start_server(\n",
    "        server_name=f'data/OI-24d-10 24-07-30 frequency study at 0.5V, 7.7 to 8 GHz 2.hdf5',\n",
    "        S='11'\n",
    "    )\n",
    "    \n",
    "    script = MeasurementScript_v2()\n",
    "    script.femto1_amp = 1000\n",
    "    script.femto2_amp = 1000\n",
    "    script.amplitude = .08\n",
    "    script.period = 420\n",
    "    script.sweep_time = 212\n",
    "    script.offset_time = 3\n",
    "\n",
    "    script.frequency_study(\n",
    "        vna_frequencies = np.linspace(7.7e9, 8e9, 31),\n",
    "        vna_amplitude = 0.5,\n",
    "    )\n",
    "\n",
    "    script.save_state()\n",
    "    server.stop_server()\n",
    "except KeyboardInterrupt:\n",
    "    script.save_state()\n",
    "    server.stop_server()\n",
    "# 115m 27.3s"
   ]
  },
  {
   "cell_type": "code",
   "execution_count": 1,
   "metadata": {},
   "outputs": [
    {
     "name": "stderr",
     "output_type": "stream",
     "text": [
      "C:\\Users\\BlueFors\\AppData\\Local\\Packages\\PythonSoftwareFoundation.Python.3.10_qbz5n2kfra8p0\\LocalCache\\local-packages\\Python310\\site-packages\\tqdm\\auto.py:21: TqdmWarning: IProgress not found. Please update jupyter and ipywidgets. See https://ipywidgets.readthedocs.io/en/stable/user_install.html\n",
      "  from .autonotebook import tqdm as notebook_tqdm\n",
      "100%|██████████| 50/50 [3:00:14<00:00, 216.29s/it]  \n"
     ]
    }
   ],
   "source": [
    "from ivscript_2 import BlueforsServer_v2, MeasurementScript_v2\n",
    "import numpy as np\n",
    "from time import sleep, time\n",
    "\n",
    "try:\n",
    "    server = BlueforsServer_v2()\n",
    "    server.start_server(\n",
    "        server_name=f'data/OI-24d-10 24-07-30 frequency study at 0.5V, 8 to 8.5 GHz 2.hdf5',\n",
    "        S='11'\n",
    "    )\n",
    "    \n",
    "    script = MeasurementScript_v2()\n",
    "    script.femto1_amp = 1000\n",
    "    script.femto2_amp = 1000\n",
    "    script.amplitude = .08\n",
    "    script.period = 420\n",
    "    script.sweep_time = 212\n",
    "    script.offset_time = 3\n",
    "\n",
    "    script.frequency_study(\n",
    "        vna_frequencies = np.linspace(8.01e9, 8.5e9, 50),\n",
    "        vna_amplitude = 0.5,\n",
    "    )\n",
    "\n",
    "    script.save_state()\n",
    "    server.stop_server()\n",
    "except KeyboardInterrupt:\n",
    "    script.save_state()\n",
    "    server.stop_server()\n",
    "# 183 56.3s"
   ]
  },
  {
   "cell_type": "code",
   "execution_count": 2,
   "metadata": {},
   "outputs": [],
   "source": []
  },
  {
   "cell_type": "code",
   "execution_count": null,
   "metadata": {},
   "outputs": [],
   "source": [
    "# check disk storge, check update"
   ]
  },
  {
   "cell_type": "code",
   "execution_count": 1,
   "metadata": {},
   "outputs": [
    {
     "name": "stderr",
     "output_type": "stream",
     "text": [
      "C:\\Users\\BlueFors\\AppData\\Local\\Packages\\PythonSoftwareFoundation.Python.3.10_qbz5n2kfra8p0\\LocalCache\\local-packages\\Python310\\site-packages\\tqdm\\auto.py:21: TqdmWarning: IProgress not found. Please update jupyter and ipywidgets. See https://ipywidgets.readthedocs.io/en/stable/user_install.html\n",
      "  from .autonotebook import tqdm as notebook_tqdm\n",
      "100%|██████████| 2480/2480 [127:38:58<00:00, 185.30s/it]   \n"
     ]
    }
   ],
   "source": [
    "from ivscript_2 import BlueforsServer_v2, MeasurementScript_v2\n",
    "import numpy as np\n",
    "from time import sleep, time\n",
    "\n",
    "try:\n",
    "    server = BlueforsServer_v2()\n",
    "    server.start_server(\n",
    "        server_name=f'data/OI-24d-10, 24-07-31, irradiation study, 0-0.80V, 7.75-8.05GHz 0.hdf5',\n",
    "        S='11'\n",
    "    )\n",
    "    \n",
    "    script = MeasurementScript_v2()\n",
    "    script.femto1_amp = 1000\n",
    "    script.femto2_amp = 1000\n",
    "    script.amplitude = .1\n",
    "    script.period = 360\n",
    "    script.sweep_time = 181\n",
    "    script.offset_time = 3\n",
    "\n",
    "    script.irradiation_study(\n",
    "        vna_frequencies = np.linspace(7.75e9, 8.05e9, 31),\n",
    "        vna_amplitudes = np.linspace(0.01, .8, 80),\n",
    "    )\n",
    "\n",
    "    script.save_state()\n",
    "    server.stop_server()\n",
    "except KeyboardInterrupt:\n",
    "    script.save_state()\n",
    "    server.stop_server()\n",
    "# 7662m 15.6s"
   ]
  },
  {
   "cell_type": "code",
   "execution_count": 1,
   "metadata": {},
   "outputs": [
    {
     "name": "stderr",
     "output_type": "stream",
     "text": [
      "C:\\Users\\BlueFors\\AppData\\Local\\Packages\\PythonSoftwareFoundation.Python.3.10_qbz5n2kfra8p0\\LocalCache\\local-packages\\Python310\\site-packages\\tqdm\\auto.py:21: TqdmWarning: IProgress not found. Please update jupyter and ipywidgets. See https://ipywidgets.readthedocs.io/en/stable/user_install.html\n",
      "  from .autonotebook import tqdm as notebook_tqdm\n",
      " 29%|██▉       | 29/100 [1:15:32<3:04:56, 156.28s/it]Exception in thread Thread-9 (_status_measurement_thread):\n",
      "Traceback (most recent call last):\n",
      "  File \"C:\\Program Files\\WindowsApps\\PythonSoftwareFoundation.Python.3.10_3.10.3056.0_x64__qbz5n2kfra8p0\\lib\\threading.py\", line 1016, in _bootstrap_inner\n",
      "    self.run()\n",
      "  File \"C:\\Program Files\\WindowsApps\\PythonSoftwareFoundation.Python.3.10_3.10.3056.0_x64__qbz5n2kfra8p0\\lib\\threading.py\", line 953, in run\n",
      "    self._target(*self._args, **self._kwargs)\n",
      "  File \"C:\\Users\\BlueFors\\Documents\\p5control\\p5control\\measure\\status.py\", line 119, in _status_measurement_thread\n",
      "    res = dev.get_status()\n",
      "  File \"c:\\Users\\BlueFors\\Documents\\p5control-bluefors\\core\\drivers\\faulhaber.py\", line 152, in get_status\n",
      "    self.write_global_position_to_config(int(position))\n",
      "  File \"c:\\Users\\BlueFors\\Documents\\p5control-bluefors\\core\\drivers\\faulhaber.py\", line 234, in write_global_position_to_config\n",
      "    dump_to_config(my_dict)\n",
      "  File \"c:\\Users\\BlueFors\\Documents\\p5control-bluefors\\core\\utilities\\config.py\", line 19, in dump_to_config\n",
      "    with open(dir, 'w') as f:\n",
      "PermissionError: [Errno 13] Permission denied: 'c:\\\\Users\\\\BlueFors\\\\Documents\\\\p5control-bluefors//config.json'\n",
      "100%|██████████| 100/100 [4:20:29<00:00, 156.29s/it] \n",
      "100%|██████████| 100/100 [4:20:27<00:00, 156.28s/it] \n"
     ]
    }
   ],
   "source": [
    "from ivscript_2 import BlueforsServer_v2, MeasurementScript_v2\n",
    "import numpy as np\n",
    "from time import sleep, time\n",
    "\n",
    "try:\n",
    "    server = BlueforsServer_v2()\n",
    "    server.start_server(\n",
    "        server_name=f'data/OI-24d-10 24-07-31 amplitude study at 1e(9-10)Hz 2.hdf5',\n",
    "        S='11'\n",
    "    )\n",
    "    \n",
    "    script = MeasurementScript_v2()\n",
    "    script.femto1_amp = 1000\n",
    "    script.femto2_amp = 1000\n",
    "    script.amplitude = .12\n",
    "    script.period = 300\n",
    "    script.sweep_time = 152\n",
    "    script.offset_time = 3\n",
    "\n",
    "    for vna_frequency in [1e9, 1e10]:\n",
    "        script.amplitude_study(\n",
    "            vna_amplitudes_name='vna_amplitudes',\n",
    "            vna_frequency = vna_frequency,\n",
    "            vna_amplitudes = np.linspace(0.01, 1, 100),\n",
    "        )\n",
    "\n",
    "    script.save_state()\n",
    "    server.stop_server()\n",
    "except KeyboardInterrupt:\n",
    "    script.save_state()\n",
    "    server.stop_server()\n",
    "# 526m 15.4s"
   ]
  },
  {
   "cell_type": "code",
   "execution_count": null,
   "metadata": {},
   "outputs": [],
   "source": []
  },
  {
   "cell_type": "markdown",
   "metadata": {},
   "source": [
    "# Bias to Gate"
   ]
  },
  {
   "cell_type": "code",
   "execution_count": 1,
   "metadata": {},
   "outputs": [
    {
     "name": "stderr",
     "output_type": "stream",
     "text": [
      "C:\\Users\\BlueFors\\AppData\\Local\\Packages\\PythonSoftwareFoundation.Python.3.10_qbz5n2kfra8p0\\LocalCache\\local-packages\\Python310\\site-packages\\tqdm\\auto.py:21: TqdmWarning: IProgress not found. Please update jupyter and ipywidgets. See https://ipywidgets.readthedocs.io/en/stable/user_install.html\n",
      "  from .autonotebook import tqdm as notebook_tqdm\n"
     ]
    }
   ],
   "source": [
    "from ivscript_2 import BlueforsServer_v2, MeasurementScript_v2\n",
    "\n",
    "import numpy as np\n",
    "from time import sleep, time\n",
    "\n",
    "server = BlueforsServer_v2()\n",
    "server.start_server(\n",
    "    server_name=f'data/OI-24d-10 24-08-07 Bias_over_Gate 0.hdf5',\n",
    "    S='11',\n",
    ")\n",
    "\n",
    "script = MeasurementScript_v2()"
   ]
  },
  {
   "cell_type": "code",
   "execution_count": 10,
   "metadata": {},
   "outputs": [],
   "source": [
    "\n",
    "script.femto1_amp = 1000\n",
    "script.femto2_amp = 10000\n",
    "script.amplitude = .1\n",
    "script.period = 130\n",
    "script.sweep_time = 131\n",
    "script.offset_time = 5\n",
    "script.ramp_cool_down = .5\n",
    "script.initial_ramp_cool_down = 1\n",
    "script.adwin_sample_rate = 400\n",
    "script.initialize_devices()"
   ]
  },
  {
   "cell_type": "code",
   "execution_count": 11,
   "metadata": {},
   "outputs": [],
   "source": [
    "\n",
    "script.single_IV(\n",
    "    iv_name='Bias B2- to G 2'\n",
    ")"
   ]
  },
  {
   "cell_type": "code",
   "execution_count": 12,
   "metadata": {},
   "outputs": [],
   "source": [
    "\n",
    "script.save_state()\n",
    "server.stop_server()"
   ]
  },
  {
   "cell_type": "markdown",
   "metadata": {},
   "source": [
    "# Temperature Study"
   ]
  },
  {
   "cell_type": "code",
   "execution_count": 1,
   "metadata": {},
   "outputs": [
    {
     "name": "stderr",
     "output_type": "stream",
     "text": [
      "C:\\Users\\BlueFors\\AppData\\Local\\Packages\\PythonSoftwareFoundation.Python.3.10_qbz5n2kfra8p0\\LocalCache\\local-packages\\Python310\\site-packages\\tqdm\\auto.py:21: TqdmWarning: IProgress not found. Please update jupyter and ipywidgets. See https://ipywidgets.readthedocs.io/en/stable/user_install.html\n",
      "  from .autonotebook import tqdm as notebook_tqdm\n",
      "c:\\Users\\BlueFors\\Documents\\p5control-bluefors\\ivscript_2.py:622: RuntimeWarning: divide by zero encountered in log\n",
      "  heater_powers = np.exp(2.479 * np.log(temperatures * 0.06515603))\n",
      "100%|██████████| 48/48 [1:00:16<00:00, 75.34s/it]\n"
     ]
    }
   ],
   "source": [
    "from ivscript_2 import BlueforsServer_v2, MeasurementScript_v2\n",
    "import numpy as np\n",
    "from time import sleep, time\n",
    "\n",
    "try:\n",
    "    server = BlueforsServer_v2()\n",
    "    server.start_server(\n",
    "        server_name=f'data/OI-24d-10 24-08-13 temperature study 3.hdf5',\n",
    "        S='11'\n",
    "    )\n",
    "    \n",
    "    script = MeasurementScript_v2()\n",
    "    script.femto1_amp = 1000\n",
    "    script.femto2_amp = 10000\n",
    "    script.amplitude = .12\n",
    "    script.period = 30\n",
    "    script.sweep_time = 31\n",
    "    script.offset_time = 3\n",
    "    script.heater_cool_down = 10\n",
    "\n",
    "    script.temperature_study(\n",
    "        temperatures= np.linspace(0.01, 1.3, 130),\n",
    "        relaxation_turns = None,\n",
    "    )\n",
    "\n",
    "    script.save_state()\n",
    "    server.stop_server()\n",
    "except KeyboardInterrupt:\n",
    "    script.save_state()\n",
    "    server.stop_server()\n",
    "# 526m 15.4s"
   ]
  },
  {
   "cell_type": "code",
   "execution_count": 12,
   "metadata": {},
   "outputs": [
    {
     "data": {
      "text/plain": [
       "1.336111111111111"
      ]
     },
     "execution_count": 12,
     "metadata": {},
     "output_type": "execute_result"
    }
   ],
   "source": [
    "74*65/3600"
   ]
  },
  {
   "cell_type": "code",
   "execution_count": 10,
   "metadata": {},
   "outputs": [
    {
     "ename": "ModuleNotFoundError",
     "evalue": "No module named 'matplotlib'",
     "output_type": "error",
     "traceback": [
      "\u001b[1;31m---------------------------------------------------------------------------\u001b[0m",
      "\u001b[1;31mModuleNotFoundError\u001b[0m                       Traceback (most recent call last)",
      "Cell \u001b[1;32mIn[10], line 1\u001b[0m\n\u001b[1;32m----> 1\u001b[0m \u001b[38;5;28;01mimport\u001b[39;00m \u001b[38;5;21;01mmatplotlib\u001b[39;00m\u001b[38;5;21;01m.\u001b[39;00m\u001b[38;5;21;01mpyplot\u001b[39;00m \u001b[38;5;28;01mas\u001b[39;00m \u001b[38;5;21;01mplt\u001b[39;00m\n\u001b[0;32m      2\u001b[0m plt\u001b[38;5;241m.\u001b[39mplot(\u001b[38;5;241m100000\u001b[39m\u001b[38;5;241m/\u001b[39mnp\u001b[38;5;241m.\u001b[39marange(\u001b[38;5;241m1\u001b[39m,\u001b[38;5;241m100001\u001b[39m))\n",
      "\u001b[1;31mModuleNotFoundError\u001b[0m: No module named 'matplotlib'"
     ]
    }
   ],
   "source": [
    "import matplotlib.pyplot as plt\n",
    "plt.plot(100000/np.arange(1,100001))"
   ]
  }
 ],
 "metadata": {
  "kernelspec": {
   "display_name": "Python 3",
   "language": "python",
   "name": "python3"
  },
  "language_info": {
   "codemirror_mode": {
    "name": "ipython",
    "version": 3
   },
   "file_extension": ".py",
   "mimetype": "text/x-python",
   "name": "python",
   "nbconvert_exporter": "python",
   "pygments_lexer": "ipython3",
   "version": "3.10.11"
  }
 },
 "nbformat": 4,
 "nbformat_minor": 2
}
