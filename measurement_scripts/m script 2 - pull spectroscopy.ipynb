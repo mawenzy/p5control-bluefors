{
 "cells": [
  {
   "cell_type": "markdown",
   "metadata": {},
   "source": [
    "imports (check ivscripts.py)"
   ]
  },
  {
   "cell_type": "code",
   "execution_count": 7,
   "metadata": {},
   "outputs": [],
   "source": [
    "%load_ext autoreload\n",
    "%autoreload 2\n",
    "from ivscript import BlueforsServer, MeasurementScript\n",
    "import numpy as np\n",
    "from time import sleep\n",
    "        "
   ]
  },
  {
   "cell_type": "markdown",
   "metadata": {},
   "source": [
    "test ivscript measurement functions (4min)"
   ]
  },
  {
   "cell_type": "code",
   "execution_count": 3,
   "metadata": {},
   "outputs": [
    {
     "name": "stderr",
     "output_type": "stream",
     "text": [
      "100%|██████████| 11/11 [00:48<00:00,  4.42s/it]\n",
      "100%|██████████| 10/10 [00:41<00:00,  4.13s/it]\n",
      "100%|██████████| 8/8 [00:33<00:00,  4.16s/it]\n",
      "100%|██████████| 8/8 [00:33<00:00,  4.22s/it]\n",
      "100%|██████████| 8/8 [00:33<00:00,  4.21s/it]\n"
     ]
    }
   ],
   "source": [
    "try:\n",
    "    bluefors_server = BlueforsServer()\n",
    "    bluefors_server.start_server(\n",
    "        server_name='.data/test123456789.hdf5',\n",
    "        S='22'\n",
    "    )\n",
    "    \n",
    "    measurement_script = MeasurementScript()\n",
    "\n",
    "    measurement_script.femto1_amp = 10000\n",
    "    measurement_script.femto2_amp = 1000\n",
    "\n",
    "    measurement_script.magnetic_field_study(\n",
    "        magnetic_fields = np.linspace(-30, 30, 11),\n",
    "        amplitude = 0.9,\n",
    "        period = 1,\n",
    "        sweep_time = 1,\n",
    "        offset_time = .5,\n",
    "        magnetic_field_name = None,\n",
    "        ramp_cool_down = 1,\n",
    "        meas_cool_down = .1,\n",
    "        vna_power = None,\n",
    "        vna_frequency = None,\n",
    "                        )\n",
    "    sleep(5)\n",
    "\n",
    "    measurement_script.frequency_study(\n",
    "        vna_frequencies=np.linspace(2,20,10),\n",
    "        vna_power=-25,\n",
    "        amplitude=.85,\n",
    "        period=1,\n",
    "        sweep_time=1,\n",
    "        offset_time = .5,\n",
    "        vna_frequencies_name = None,\n",
    "        ramp_cool_down = None,\n",
    "        meas_cool_down = .1,\n",
    "        magnetic_field = None,\n",
    "                            )\n",
    "    sleep(5)\n",
    "\n",
    "    for freq in [1, 5, 15]:\n",
    "        measurement_script.power_study(\n",
    "            vna_powers=np.linspace(-35,0,8),\n",
    "            vna_frequency=freq,\n",
    "            amplitude=.85,\n",
    "            period=1,\n",
    "            sweep_time=1,\n",
    "            offset_time = .5,\n",
    "            vna_powers_name = None,\n",
    "            ramp_cool_down = None,\n",
    "            meas_cool_down = .1,\n",
    "            magnetic_field = None,\n",
    "                                )    \n",
    "        sleep(5)\n",
    "\n",
    "    measurement_script.save_state()\n",
    "    bluefors_server.stop_server()\n",
    "except KeyboardInterrupt:\n",
    "    measurement_script.save_state()\n",
    "    bluefors_server.stop_server()"
   ]
  },
  {
   "cell_type": "markdown",
   "metadata": {},
   "source": [
    "Ready to measure ahead!"
   ]
  },
  {
   "cell_type": "markdown",
   "metadata": {},
   "source": [
    "- test breaking"
   ]
  },
  {
   "cell_type": "code",
   "execution_count": 2,
   "metadata": {},
   "outputs": [],
   "source": [
    "try:\n",
    "    bluefors_server = BlueforsServer()\n",
    "    bluefors_server.start_server(\n",
    "        server_name='.data/23_11_30_S22_test_breaking_0.hdf5',\n",
    "        S='22'\n",
    "    )\n",
    "    while True:\n",
    "        sleep(.1)\n",
    "except KeyboardInterrupt:\n",
    "    bluefors_server.stop_server()"
   ]
  },
  {
   "cell_type": "code",
   "execution_count": 3,
   "metadata": {},
   "outputs": [
    {
     "data": {
      "text/plain": [
       "0"
      ]
     },
     "execution_count": 3,
     "metadata": {},
     "output_type": "execute_result"
    }
   ],
   "source": [
    "np.min([0, 10])"
   ]
  },
  {
   "cell_type": "markdown",
   "metadata": {},
   "source": [
    "- real breaking"
   ]
  },
  {
   "cell_type": "code",
   "execution_count": 5,
   "metadata": {},
   "outputs": [
    {
     "name": "stderr",
     "output_type": "stream",
     "text": [
      "100%|██████████| 4999/4999 [69:06:09<00:00, 49.76s/it]   \n"
     ]
    }
   ],
   "source": [
    "\n",
    "try:\n",
    "    bluefors_server = BlueforsServer()\n",
    "    bluefors_server.start_server(\n",
    "        server_name='.data/23_11_10_S22_breaking_0.hdf5',\n",
    "        S='22'\n",
    "    )\n",
    "    measurement_script = MeasurementScript()\n",
    "    measurement_script.position_study(\n",
    "            pos_inc = 1e-4,\n",
    "            pos_end = 0.5,\n",
    "            save_amp = 0.1,\n",
    "            voltage = 0.0012,\n",
    "            motor_speed = 20,\n",
    "    )\n",
    "except KeyboardInterrupt:\n",
    "    bluefors_server.stop_server()\n",
    "#4616m equals "
   ]
  },
  {
   "cell_type": "code",
   "execution_count": null,
   "metadata": {},
   "outputs": [],
   "source": [
    "from ivscript import BlueforsServer, MeasurementScript\n",
    "import numpy as np\n",
    "from time import sleep\n",
    "\n",
    "try:\n",
    "    bluefors_server = BlueforsServer()\n",
    "    bluefors_server.start_server(\n",
    "        server_name='.data/23_11_10_S22_breaking_0.hdf5',\n",
    "        S='22'\n",
    "    )\n",
    "    while True:\n",
    "        sleep(.1)\n",
    "except KeyboardInterrupt:\n",
    "    bluefors_server.stop_server()"
   ]
  },
  {
   "cell_type": "code",
   "execution_count": 3,
   "metadata": {},
   "outputs": [
    {
     "name": "stderr",
     "output_type": "stream",
     "text": [
      "100%|██████████| 4999/4999 [69:27:44<00:00, 50.02s/it]   \n"
     ]
    },
    {
     "ename": "pyvisa.errors.VisaIOError",
     "evalue": "VI_ERROR_INV_OBJECT (-1073807346): The given session or object reference is invalid.\n\n========= Remote Traceback (1) =========\nTraceback (most recent call last):\n  File \"C:\\Users\\BlueFors\\AppData\\Local\\Packages\\PythonSoftwareFoundation.Python.3.10_qbz5n2kfra8p0\\LocalCache\\local-packages\\Python310\\site-packages\\rpyc\\core\\protocol.py\", line 359, in _dispatch_request\n    res = self._HANDLERS[handler](self, *args)\n  File \"C:\\Users\\BlueFors\\AppData\\Local\\Packages\\PythonSoftwareFoundation.Python.3.10_qbz5n2kfra8p0\\LocalCache\\local-packages\\Python310\\site-packages\\rpyc\\core\\protocol.py\", line 837, in _handle_call\n    return obj(*args, **dict(kwargs))\n  File \"c:\\Users\\BlueFors\\Documents\\p5control-bluefors\\core\\drivers\\znb40.py\", line 319, in setOutput\n    self.write(f'OUTput{self.output_channel}:STATe {int(output)}')\n  File \"c:\\Users\\BlueFors\\Documents\\p5control-bluefors\\core\\drivers\\znb40.py\", line 68, in write\n    self._inst.write(writing)\n  File \"C:\\Users\\BlueFors\\AppData\\Local\\Packages\\PythonSoftwareFoundation.Python.3.10_qbz5n2kfra8p0\\LocalCache\\local-packages\\Python310\\site-packages\\pyvisa\\resources\\messagebased.py\", line 197, in write\n    count = self.write_raw(message.encode(enco))\n  File \"C:\\Users\\BlueFors\\AppData\\Local\\Packages\\PythonSoftwareFoundation.Python.3.10_qbz5n2kfra8p0\\LocalCache\\local-packages\\Python310\\site-packages\\pyvisa\\resources\\messagebased.py\", line 157, in write_raw\n    return self.visalib.write(self.session, message)[0]\n  File \"C:\\Users\\BlueFors\\AppData\\Local\\Packages\\PythonSoftwareFoundation.Python.3.10_qbz5n2kfra8p0\\LocalCache\\local-packages\\Python310\\site-packages\\pyvisa\\ctwrapper\\functions.py\", line 2796, in write\n    ret = library.viWrite(session, data, len(data), byref(return_count))\n  File \"C:\\Users\\BlueFors\\AppData\\Local\\Packages\\PythonSoftwareFoundation.Python.3.10_qbz5n2kfra8p0\\LocalCache\\local-packages\\Python310\\site-packages\\pyvisa\\ctwrapper\\highlevel.py\", line 226, in _return_handler\n    return self.handle_return_value(session, ret_value)  # type: ignore\n  File \"C:\\Users\\BlueFors\\AppData\\Local\\Packages\\PythonSoftwareFoundation.Python.3.10_qbz5n2kfra8p0\\LocalCache\\local-packages\\Python310\\site-packages\\pyvisa\\highlevel.py\", line 251, in handle_return_value\n    raise errors.VisaIOError(rv)\npyvisa.errors.VisaIOError: VI_ERROR_INV_OBJECT (-1073807346): The given session or object reference is invalid.\n",
     "output_type": "error",
     "traceback": [
      "\u001b[1;31m---------------------------------------------------------------------------\u001b[0m",
      "\u001b[1;31mpyvisa.errors.VisaIOError\u001b[0m                 Traceback (most recent call last)",
      "\u001b[1;32mc:\\Users\\BlueFors\\Documents\\p5control-bluefors\\m script 2 - pull spectroscopy.ipynb Cell 12\u001b[0m line \u001b[0;36m8\n\u001b[0;32m      <a href='vscode-notebook-cell:/c%3A/Users/BlueFors/Documents/p5control-bluefors/m%20script%202%20-%20pull%20spectroscopy.ipynb#X16sZmlsZQ%3D%3D?line=2'>3</a>\u001b[0m bluefors_server\u001b[39m.\u001b[39mstart_server(\n\u001b[0;32m      <a href='vscode-notebook-cell:/c%3A/Users/BlueFors/Documents/p5control-bluefors/m%20script%202%20-%20pull%20spectroscopy.ipynb#X16sZmlsZQ%3D%3D?line=3'>4</a>\u001b[0m     server_name\u001b[39m=\u001b[39m\u001b[39m'\u001b[39m\u001b[39m.data/23_12_08_S22_breaking_1.hdf5\u001b[39m\u001b[39m'\u001b[39m,\n\u001b[0;32m      <a href='vscode-notebook-cell:/c%3A/Users/BlueFors/Documents/p5control-bluefors/m%20script%202%20-%20pull%20spectroscopy.ipynb#X16sZmlsZQ%3D%3D?line=4'>5</a>\u001b[0m     S\u001b[39m=\u001b[39m\u001b[39m'\u001b[39m\u001b[39m22\u001b[39m\u001b[39m'\u001b[39m\n\u001b[0;32m      <a href='vscode-notebook-cell:/c%3A/Users/BlueFors/Documents/p5control-bluefors/m%20script%202%20-%20pull%20spectroscopy.ipynb#X16sZmlsZQ%3D%3D?line=5'>6</a>\u001b[0m )\n\u001b[0;32m      <a href='vscode-notebook-cell:/c%3A/Users/BlueFors/Documents/p5control-bluefors/m%20script%202%20-%20pull%20spectroscopy.ipynb#X16sZmlsZQ%3D%3D?line=6'>7</a>\u001b[0m measurement_script \u001b[39m=\u001b[39m MeasurementScript()\n\u001b[1;32m----> <a href='vscode-notebook-cell:/c%3A/Users/BlueFors/Documents/p5control-bluefors/m%20script%202%20-%20pull%20spectroscopy.ipynb#X16sZmlsZQ%3D%3D?line=7'>8</a>\u001b[0m measurement_script\u001b[39m.\u001b[39;49mposition_study(\n\u001b[0;32m      <a href='vscode-notebook-cell:/c%3A/Users/BlueFors/Documents/p5control-bluefors/m%20script%202%20-%20pull%20spectroscopy.ipynb#X16sZmlsZQ%3D%3D?line=8'>9</a>\u001b[0m         pos_inc \u001b[39m=\u001b[39;49m \u001b[39m1e-4\u001b[39;49m,\n\u001b[0;32m     <a href='vscode-notebook-cell:/c%3A/Users/BlueFors/Documents/p5control-bluefors/m%20script%202%20-%20pull%20spectroscopy.ipynb#X16sZmlsZQ%3D%3D?line=9'>10</a>\u001b[0m         pos_end \u001b[39m=\u001b[39;49m \u001b[39m0.5\u001b[39;49m,\n\u001b[0;32m     <a href='vscode-notebook-cell:/c%3A/Users/BlueFors/Documents/p5control-bluefors/m%20script%202%20-%20pull%20spectroscopy.ipynb#X16sZmlsZQ%3D%3D?line=10'>11</a>\u001b[0m         save_amp \u001b[39m=\u001b[39;49m \u001b[39m0.1\u001b[39;49m,\n\u001b[0;32m     <a href='vscode-notebook-cell:/c%3A/Users/BlueFors/Documents/p5control-bluefors/m%20script%202%20-%20pull%20spectroscopy.ipynb#X16sZmlsZQ%3D%3D?line=11'>12</a>\u001b[0m         voltage \u001b[39m=\u001b[39;49m \u001b[39m0.0012\u001b[39;49m,\n\u001b[0;32m     <a href='vscode-notebook-cell:/c%3A/Users/BlueFors/Documents/p5control-bluefors/m%20script%202%20-%20pull%20spectroscopy.ipynb#X16sZmlsZQ%3D%3D?line=12'>13</a>\u001b[0m         motor_speed \u001b[39m=\u001b[39;49m \u001b[39m20\u001b[39;49m,\n\u001b[0;32m     <a href='vscode-notebook-cell:/c%3A/Users/BlueFors/Documents/p5control-bluefors/m%20script%202%20-%20pull%20spectroscopy.ipynb#X16sZmlsZQ%3D%3D?line=13'>14</a>\u001b[0m )\n\u001b[0;32m     <a href='vscode-notebook-cell:/c%3A/Users/BlueFors/Documents/p5control-bluefors/m%20script%202%20-%20pull%20spectroscopy.ipynb#X16sZmlsZQ%3D%3D?line=14'>15</a>\u001b[0m bluefors_server\u001b[39m.\u001b[39mstop_server()\n\u001b[0;32m     <a href='vscode-notebook-cell:/c%3A/Users/BlueFors/Documents/p5control-bluefors/m%20script%202%20-%20pull%20spectroscopy.ipynb#X16sZmlsZQ%3D%3D?line=15'>16</a>\u001b[0m bluefors_server\u001b[39m.\u001b[39mstop_server()\n",
      "File \u001b[1;32mc:\\Users\\BlueFors\\Documents\\p5control-bluefors\\ivscript.py:625\u001b[0m, in \u001b[0;36mMeasurementScript.position_study\u001b[1;34m(self, pos_inc, pos_end, motor_speed, save_amp, voltage, period, sweep_time, offset_time, position_name, ramp_cool_down, meas_cool_down)\u001b[0m\n\u001b[0;32m    623\u001b[0m         \u001b[39mbreak\u001b[39;00m\n\u001b[0;32m    624\u001b[0m     i \u001b[39m-\u001b[39m\u001b[39m=\u001b[39m \u001b[39m1\u001b[39m\n\u001b[1;32m--> 625\u001b[0m \u001b[39mif\u001b[39;00m \u001b[39miter\u001b[39m \u001b[39m>\u001b[39m\u001b[39m=\u001b[39m \u001b[39m10\u001b[39m:\n\u001b[0;32m    626\u001b[0m     \u001b[39mbreak\u001b[39;00m\n\u001b[0;32m    627\u001b[0m \u001b[39miter\u001b[39m \u001b[39m+\u001b[39m\u001b[39m=\u001b[39m \u001b[39m1\u001b[39m\n",
      "File \u001b[1;32mc:\\Users\\BlueFors\\Documents\\p5control-bluefors\\ivscript.py:116\u001b[0m, in \u001b[0;36mMeasurementScript.save_state\u001b[1;34m(self)\u001b[0m\n\u001b[0;32m    113\u001b[0m \u001b[39mself\u001b[39m\u001b[39m.\u001b[39mgw\u001b[39m.\u001b[39mmagnet\u001b[39m.\u001b[39mset_rate(\u001b[39m0\u001b[39m)  \n\u001b[0;32m    114\u001b[0m \u001b[39mself\u001b[39m\u001b[39m.\u001b[39mgw\u001b[39m.\u001b[39mmagnet\u001b[39m.\u001b[39mgoto_zero() \n\u001b[1;32m--> 116\u001b[0m \u001b[39mself\u001b[39;49m\u001b[39m.\u001b[39;49mgw\u001b[39m.\u001b[39;49mvna\u001b[39m.\u001b[39;49msetOutput(\u001b[39mFalse\u001b[39;49;00m)\n\u001b[0;32m    118\u001b[0m \u001b[39mself\u001b[39m\u001b[39m.\u001b[39mgw\u001b[39m.\u001b[39madwin\u001b[39m.\u001b[39msetAmplitude(\u001b[39m0\u001b[39m)\n\u001b[0;32m    119\u001b[0m \u001b[39mself\u001b[39m\u001b[39m.\u001b[39mgw\u001b[39m.\u001b[39madwin\u001b[39m.\u001b[39msetSweeping(\u001b[39mFalse\u001b[39;00m)\n",
      "File \u001b[1;32m~\\AppData\\Local\\Packages\\PythonSoftwareFoundation.Python.3.10_qbz5n2kfra8p0\\LocalCache\\local-packages\\Python310\\site-packages\\rpyc\\core\\netref.py:240\u001b[0m, in \u001b[0;36m_make_method.<locals>.__call__\u001b[1;34m(_self, *args, **kwargs)\u001b[0m\n\u001b[0;32m    238\u001b[0m \u001b[39mdef\u001b[39;00m \u001b[39m__call__\u001b[39m(_self, \u001b[39m*\u001b[39margs, \u001b[39m*\u001b[39m\u001b[39m*\u001b[39mkwargs):\n\u001b[0;32m    239\u001b[0m     kwargs \u001b[39m=\u001b[39m \u001b[39mtuple\u001b[39m(kwargs\u001b[39m.\u001b[39mitems())\n\u001b[1;32m--> 240\u001b[0m     \u001b[39mreturn\u001b[39;00m syncreq(_self, consts\u001b[39m.\u001b[39;49mHANDLE_CALL, args, kwargs)\n",
      "File \u001b[1;32m~\\AppData\\Local\\Packages\\PythonSoftwareFoundation.Python.3.10_qbz5n2kfra8p0\\LocalCache\\local-packages\\Python310\\site-packages\\rpyc\\core\\netref.py:63\u001b[0m, in \u001b[0;36msyncreq\u001b[1;34m(proxy, handler, *args)\u001b[0m\n\u001b[0;32m     51\u001b[0m \u001b[39m\u001b[39m\u001b[39m\"\"\"Performs a synchronous request on the given proxy object.\u001b[39;00m\n\u001b[0;32m     52\u001b[0m \u001b[39mNot intended to be invoked directly.\u001b[39;00m\n\u001b[0;32m     53\u001b[0m \n\u001b[1;32m   (...)\u001b[0m\n\u001b[0;32m     60\u001b[0m \u001b[39m:returns: the result of the operation\u001b[39;00m\n\u001b[0;32m     61\u001b[0m \u001b[39m\"\"\"\u001b[39;00m\n\u001b[0;32m     62\u001b[0m conn \u001b[39m=\u001b[39m \u001b[39mobject\u001b[39m\u001b[39m.\u001b[39m\u001b[39m__getattribute__\u001b[39m(proxy, \u001b[39m\"\u001b[39m\u001b[39m____conn__\u001b[39m\u001b[39m\"\u001b[39m)\n\u001b[1;32m---> 63\u001b[0m \u001b[39mreturn\u001b[39;00m conn\u001b[39m.\u001b[39;49msync_request(handler, proxy, \u001b[39m*\u001b[39;49margs)\n",
      "File \u001b[1;32m~\\AppData\\Local\\Packages\\PythonSoftwareFoundation.Python.3.10_qbz5n2kfra8p0\\LocalCache\\local-packages\\Python310\\site-packages\\rpyc\\core\\protocol.py:718\u001b[0m, in \u001b[0;36mConnection.sync_request\u001b[1;34m(self, handler, *args)\u001b[0m\n\u001b[0;32m    715\u001b[0m _async_res \u001b[39m=\u001b[39m \u001b[39mself\u001b[39m\u001b[39m.\u001b[39masync_request(handler, \u001b[39m*\u001b[39margs, timeout\u001b[39m=\u001b[39mtimeout)\n\u001b[0;32m    716\u001b[0m \u001b[39m# _async_res is an instance of AsyncResult, the value property invokes Connection.serve via AsyncResult.wait\u001b[39;00m\n\u001b[0;32m    717\u001b[0m \u001b[39m# So, the _recvlock can be acquired multiple times by the owning thread and warrants the use of RLock\u001b[39;00m\n\u001b[1;32m--> 718\u001b[0m \u001b[39mreturn\u001b[39;00m _async_res\u001b[39m.\u001b[39;49mvalue\n",
      "File \u001b[1;32m~\\AppData\\Local\\Packages\\PythonSoftwareFoundation.Python.3.10_qbz5n2kfra8p0\\LocalCache\\local-packages\\Python310\\site-packages\\rpyc\\core\\async_.py:108\u001b[0m, in \u001b[0;36mAsyncResult.value\u001b[1;34m(self)\u001b[0m\n\u001b[0;32m    106\u001b[0m \u001b[39mself\u001b[39m\u001b[39m.\u001b[39mwait()\n\u001b[0;32m    107\u001b[0m \u001b[39mif\u001b[39;00m \u001b[39mself\u001b[39m\u001b[39m.\u001b[39m_is_exc:\n\u001b[1;32m--> 108\u001b[0m     \u001b[39mraise\u001b[39;00m \u001b[39mself\u001b[39m\u001b[39m.\u001b[39m_obj\n\u001b[0;32m    109\u001b[0m \u001b[39melse\u001b[39;00m:\n\u001b[0;32m    110\u001b[0m     \u001b[39mreturn\u001b[39;00m \u001b[39mself\u001b[39m\u001b[39m.\u001b[39m_obj\n",
      "\u001b[1;31mpyvisa.errors.VisaIOError\u001b[0m: VI_ERROR_INV_OBJECT (-1073807346): The given session or object reference is invalid.\n\n========= Remote Traceback (1) =========\nTraceback (most recent call last):\n  File \"C:\\Users\\BlueFors\\AppData\\Local\\Packages\\PythonSoftwareFoundation.Python.3.10_qbz5n2kfra8p0\\LocalCache\\local-packages\\Python310\\site-packages\\rpyc\\core\\protocol.py\", line 359, in _dispatch_request\n    res = self._HANDLERS[handler](self, *args)\n  File \"C:\\Users\\BlueFors\\AppData\\Local\\Packages\\PythonSoftwareFoundation.Python.3.10_qbz5n2kfra8p0\\LocalCache\\local-packages\\Python310\\site-packages\\rpyc\\core\\protocol.py\", line 837, in _handle_call\n    return obj(*args, **dict(kwargs))\n  File \"c:\\Users\\BlueFors\\Documents\\p5control-bluefors\\core\\drivers\\znb40.py\", line 319, in setOutput\n    self.write(f'OUTput{self.output_channel}:STATe {int(output)}')\n  File \"c:\\Users\\BlueFors\\Documents\\p5control-bluefors\\core\\drivers\\znb40.py\", line 68, in write\n    self._inst.write(writing)\n  File \"C:\\Users\\BlueFors\\AppData\\Local\\Packages\\PythonSoftwareFoundation.Python.3.10_qbz5n2kfra8p0\\LocalCache\\local-packages\\Python310\\site-packages\\pyvisa\\resources\\messagebased.py\", line 197, in write\n    count = self.write_raw(message.encode(enco))\n  File \"C:\\Users\\BlueFors\\AppData\\Local\\Packages\\PythonSoftwareFoundation.Python.3.10_qbz5n2kfra8p0\\LocalCache\\local-packages\\Python310\\site-packages\\pyvisa\\resources\\messagebased.py\", line 157, in write_raw\n    return self.visalib.write(self.session, message)[0]\n  File \"C:\\Users\\BlueFors\\AppData\\Local\\Packages\\PythonSoftwareFoundation.Python.3.10_qbz5n2kfra8p0\\LocalCache\\local-packages\\Python310\\site-packages\\pyvisa\\ctwrapper\\functions.py\", line 2796, in write\n    ret = library.viWrite(session, data, len(data), byref(return_count))\n  File \"C:\\Users\\BlueFors\\AppData\\Local\\Packages\\PythonSoftwareFoundation.Python.3.10_qbz5n2kfra8p0\\LocalCache\\local-packages\\Python310\\site-packages\\pyvisa\\ctwrapper\\highlevel.py\", line 226, in _return_handler\n    return self.handle_return_value(session, ret_value)  # type: ignore\n  File \"C:\\Users\\BlueFors\\AppData\\Local\\Packages\\PythonSoftwareFoundation.Python.3.10_qbz5n2kfra8p0\\LocalCache\\local-packages\\Python310\\site-packages\\pyvisa\\highlevel.py\", line 251, in handle_return_value\n    raise errors.VisaIOError(rv)\npyvisa.errors.VisaIOError: VI_ERROR_INV_OBJECT (-1073807346): The given session or object reference is invalid.\n"
     ]
    }
   ],
   "source": [
    "\n",
    "try:\n",
    "    bluefors_server = BlueforsServer()\n",
    "    bluefors_server.start_server(\n",
    "        server_name='.data/23_12_08_S22_breaking_1.hdf5',\n",
    "        S='22'\n",
    "    )\n",
    "    measurement_script = MeasurementScript()\n",
    "    measurement_script.position_study(\n",
    "            pos_inc = 1e-4,\n",
    "            pos_end = 0.5,\n",
    "            save_amp = 0.1,\n",
    "            voltage = 0.0012,\n",
    "            motor_speed = 20,\n",
    "    )\n",
    "    measurement_script.save_state()\n",
    "    bluefors_server.stop_server()\n",
    "    # while True:\n",
    "    #     sleep(.1)\n",
    "except KeyboardInterrupt:\n",
    "    measurement_script.save_state()\n",
    "    bluefors_server.stop_server()\n",
    "#4167m equals 70h"
   ]
  },
  {
   "cell_type": "code",
   "execution_count": 4,
   "metadata": {},
   "outputs": [
    {
     "name": "stderr",
     "output_type": "stream",
     "text": [
      "100%|██████████| 4999/4999 [66:09:23<00:00, 47.64s/it]   \n"
     ]
    }
   ],
   "source": [
    "\n",
    "try:\n",
    "    bluefors_server = BlueforsServer()\n",
    "    bluefors_server.start_server(\n",
    "        server_name='.data/23_12_08_S22_breaking_4.hdf5',\n",
    "        S='22'\n",
    "    )\n",
    "    measurement_script = MeasurementScript()\n",
    "    measurement_script.position_study(\n",
    "            pos_inc = 1e-4,\n",
    "            pos_end = 0.5,\n",
    "            save_amp = 0.1,\n",
    "            voltage = 0.0012,\n",
    "            motor_speed = 20,\n",
    "    )\n",
    "    measurement_script.save_state()\n",
    "    bluefors_server.stop_server()\n",
    "    # while True:\n",
    "    #     sleep(.1)\n",
    "except KeyboardInterrupt:\n",
    "    measurement_script.save_state()\n",
    "    bluefors_server.stop_server()\n",
    "#4167m equals 70h"
   ]
  },
  {
   "cell_type": "code",
   "execution_count": 5,
   "metadata": {},
   "outputs": [],
   "source": [
    "from ivscript import BlueforsServer, MeasurementScript\n",
    "import numpy as np\n",
    "from time import sleep\n",
    "\n",
    "try:\n",
    "    bluefors_server = BlueforsServer()\n",
    "    bluefors_server.start_server(\n",
    "        server_name='.data/tester.hdf5',\n",
    "        S='22'\n",
    "    )\n",
    "    while True:\n",
    "        sleep(.1)\n",
    "except KeyboardInterrupt:\n",
    "    bluefors_server.stop_server()"
   ]
  },
  {
   "cell_type": "markdown",
   "metadata": {},
   "source": [
    "# Time Study"
   ]
  },
  {
   "cell_type": "code",
   "execution_count": 17,
   "metadata": {},
   "outputs": [
    {
     "name": "stderr",
     "output_type": "stream",
     "text": [
      "while loop: 5468it [56:34:19, 37.25s/it]\n"
     ]
    }
   ],
   "source": [
    "from ivscript import BlueforsServer, MeasurementScript\n",
    "bluefors_server = BlueforsServer()\n",
    "bluefors_server.start_server(\n",
    "    server_name='.data/23_12_22_time_evolution_over_warm_up_0.hdf5',\n",
    "    S='22'\n",
    ")\n",
    "measurement_script = MeasurementScript()\n",
    "measurement_script.time_study(\n",
    "    femto1_amp=1000,\n",
    "    femto2_amp=1000,\n",
    "    amplitude=.25,\n",
    ")\n",
    "bluefors_server.stop_server()\n",
    "# 3394m"
   ]
  },
  {
   "cell_type": "code",
   "execution_count": 18,
   "metadata": {},
   "outputs": [
    {
     "ename": "BaseServerError",
     "evalue": "Can't stop the rpyc server at port 42068 because there isn't one running.",
     "output_type": "error",
     "traceback": [
      "\u001b[1;31m---------------------------------------------------------------------------\u001b[0m",
      "\u001b[1;31mBaseServerError\u001b[0m                           Traceback (most recent call last)",
      "\u001b[1;32mc:\\Users\\BlueFors\\Documents\\p5control-bluefors\\m script 2 - pull spectroscopy.ipynb Cell 17\u001b[0m line \u001b[0;36m1\n\u001b[1;32m----> <a href='vscode-notebook-cell:/c%3A/Users/BlueFors/Documents/p5control-bluefors/m%20script%202%20-%20pull%20spectroscopy.ipynb#X25sZmlsZQ%3D%3D?line=0'>1</a>\u001b[0m bluefors_server\u001b[39m.\u001b[39;49mstop_server()\n",
      "File \u001b[1;32mc:\\Users\\BlueFors\\Documents\\p5control-bluefors\\ivscript.py:51\u001b[0m, in \u001b[0;36mBlueforsServer.stop_server\u001b[1;34m(self)\u001b[0m\n\u001b[0;32m     50\u001b[0m \u001b[39mdef\u001b[39;00m \u001b[39mstop_server\u001b[39m(\u001b[39mself\u001b[39m):        \n\u001b[1;32m---> 51\u001b[0m     \u001b[39mself\u001b[39;49m\u001b[39m.\u001b[39;49minserv\u001b[39m.\u001b[39;49mstop()\n\u001b[0;32m     52\u001b[0m     \u001b[39mself\u001b[39m\u001b[39m.\u001b[39minserv\u001b[39m.\u001b[39m_remove(\u001b[39m'\u001b[39m\u001b[39mfemtos\u001b[39m\u001b[39m'\u001b[39m)\n\u001b[0;32m     53\u001b[0m     \u001b[39mself\u001b[39m\u001b[39m.\u001b[39minserv\u001b[39m.\u001b[39m_remove(\u001b[39m'\u001b[39m\u001b[39mmotor\u001b[39m\u001b[39m'\u001b[39m)\n",
      "File \u001b[1;32m~\\Documents\\p5control\\p5control\\server\\inserv.py:169\u001b[0m, in \u001b[0;36mInstrumentServer.stop\u001b[1;34m(self)\u001b[0m\n\u001b[0;32m    167\u001b[0m \u001b[39m# stop the RPyC server\u001b[39;00m\n\u001b[0;32m    168\u001b[0m logger\u001b[39m.\u001b[39mdebug(\u001b[39m'\u001b[39m\u001b[39mstopping instrument server\u001b[39m\u001b[39m'\u001b[39m)\n\u001b[1;32m--> 169\u001b[0m \u001b[39msuper\u001b[39;49m()\u001b[39m.\u001b[39;49mstop()\n",
      "File \u001b[1;32m~\\Documents\\p5control\\p5control\\server\\baseserv.py:73\u001b[0m, in \u001b[0;36mBaseServer.stop\u001b[1;34m(self)\u001b[0m\n\u001b[0;32m     71\u001b[0m \u001b[39m\u001b[39m\u001b[39m\"\"\"Stop the RPyC server\"\"\"\u001b[39;00m\n\u001b[0;32m     72\u001b[0m \u001b[39mif\u001b[39;00m \u001b[39mnot\u001b[39;00m \u001b[39mself\u001b[39m\u001b[39m.\u001b[39m_rpyc_server:\n\u001b[1;32m---> 73\u001b[0m     \u001b[39mraise\u001b[39;00m BaseServerError(\n\u001b[0;32m     74\u001b[0m         \u001b[39mf\u001b[39m\u001b[39m'\u001b[39m\u001b[39mCan\u001b[39m\u001b[39m\\'\u001b[39;00m\u001b[39mt stop the rpyc server at port \u001b[39m\u001b[39m{\u001b[39;00m\u001b[39mself\u001b[39m\u001b[39m.\u001b[39m_port\u001b[39m}\u001b[39;00m\u001b[39m because there isn\u001b[39m\u001b[39m\\'\u001b[39;00m\u001b[39mt one \u001b[39m\u001b[39m'\u001b[39m\n\u001b[0;32m     75\u001b[0m         \u001b[39m'\u001b[39m\u001b[39mrunning.\u001b[39m\u001b[39m'\u001b[39m\n\u001b[0;32m     76\u001b[0m     )\n\u001b[0;32m     78\u001b[0m \u001b[39mself\u001b[39m\u001b[39m.\u001b[39m_rpyc_server\u001b[39m.\u001b[39mclose()\n\u001b[0;32m     80\u001b[0m \u001b[39m# block until the server is actually closed\u001b[39;00m\n",
      "\u001b[1;31mBaseServerError\u001b[0m: Can't stop the rpyc server at port 42068 because there isn't one running."
     ]
    }
   ],
   "source": [
    "bluefors_server.stop_server()"
   ]
  },
  {
   "cell_type": "code",
   "execution_count": null,
   "metadata": {},
   "outputs": [],
   "source": []
  },
  {
   "cell_type": "code",
   "execution_count": null,
   "metadata": {},
   "outputs": [],
   "source": []
  },
  {
   "cell_type": "code",
   "execution_count": null,
   "metadata": {},
   "outputs": [],
   "source": []
  },
  {
   "cell_type": "code",
   "execution_count": null,
   "metadata": {},
   "outputs": [],
   "source": []
  },
  {
   "cell_type": "code",
   "execution_count": null,
   "metadata": {},
   "outputs": [],
   "source": []
  },
  {
   "cell_type": "code",
   "execution_count": null,
   "metadata": {},
   "outputs": [],
   "source": []
  },
  {
   "cell_type": "code",
   "execution_count": null,
   "metadata": {},
   "outputs": [],
   "source": []
  },
  {
   "cell_type": "code",
   "execution_count": null,
   "metadata": {},
   "outputs": [],
   "source": []
  },
  {
   "cell_type": "code",
   "execution_count": null,
   "metadata": {},
   "outputs": [],
   "source": []
  },
  {
   "cell_type": "code",
   "execution_count": null,
   "metadata": {},
   "outputs": [],
   "source": []
  },
  {
   "cell_type": "code",
   "execution_count": null,
   "metadata": {},
   "outputs": [],
   "source": []
  },
  {
   "cell_type": "code",
   "execution_count": null,
   "metadata": {},
   "outputs": [],
   "source": []
  },
  {
   "cell_type": "code",
   "execution_count": null,
   "metadata": {},
   "outputs": [],
   "source": []
  },
  {
   "cell_type": "code",
   "execution_count": null,
   "metadata": {},
   "outputs": [],
   "source": []
  },
  {
   "cell_type": "code",
   "execution_count": null,
   "metadata": {},
   "outputs": [],
   "source": []
  },
  {
   "cell_type": "code",
   "execution_count": null,
   "metadata": {},
   "outputs": [],
   "source": []
  },
  {
   "cell_type": "code",
   "execution_count": null,
   "metadata": {},
   "outputs": [],
   "source": []
  }
 ],
 "metadata": {
  "kernelspec": {
   "display_name": "Python 3",
   "language": "python",
   "name": "python3"
  },
  "language_info": {
   "codemirror_mode": {
    "name": "ipython",
    "version": 3
   },
   "file_extension": ".py",
   "mimetype": "text/x-python",
   "name": "python",
   "nbconvert_exporter": "python",
   "pygments_lexer": "ipython3",
   "version": "3.10.11"
  },
  "orig_nbformat": 4,
  "vscode": {
   "interpreter": {
    "hash": "6503cd861863795121444284ce5de1fadc188475919aa428c27aff8d89af2b26"
   }
  }
 },
 "nbformat": 4,
 "nbformat_minor": 2
}
