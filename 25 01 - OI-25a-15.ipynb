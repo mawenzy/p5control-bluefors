{
 "cells": [
  {
   "cell_type": "code",
   "execution_count": 1,
   "metadata": {},
   "outputs": [
    {
     "name": "stderr",
     "output_type": "stream",
     "text": [
      "C:\\Users\\BlueFors\\AppData\\Local\\Packages\\PythonSoftwareFoundation.Python.3.10_qbz5n2kfra8p0\\LocalCache\\local-packages\\Python310\\site-packages\\tqdm\\auto.py:21: TqdmWarning: IProgress not found. Please update jupyter and ipywidgets. See https://ipywidgets.readthedocs.io/en/stable/user_install.html\n",
      "  from .autonotebook import tqdm as notebook_tqdm\n"
     ]
    }
   ],
   "source": [
    "# init stuff\n",
    "%load_ext autoreload\n",
    "%autoreload 2\n",
    "from ivscript_2 import BlueforsServer_v2, MeasurementScript_v2\n",
    "\n",
    "import numpy as np\n",
    "from time import sleep, time"
   ]
  },
  {
   "cell_type": "code",
   "execution_count": 2,
   "metadata": {},
   "outputs": [
    {
     "name": "stderr",
     "output_type": "stream",
     "text": [
      "C:\\Users\\BlueFors\\AppData\\Local\\Packages\\PythonSoftwareFoundation.Python.3.10_qbz5n2kfra8p0\\LocalCache\\local-packages\\Python310\\site-packages\\tqdm\\auto.py:21: TqdmWarning: IProgress not found. Please update jupyter and ipywidgets. See https://ipywidgets.readthedocs.io/en/stable/user_install.html\n",
      "  from .autonotebook import tqdm as notebook_tqdm\n",
      "100%|██████████| 5/5 [01:08<00:00, 13.66s/it]\n",
      "100%|██████████| 10/10 [00:37<00:00,  3.70s/it]\n",
      "100%|██████████| 5/5 [00:23<00:00,  4.69s/it]\n",
      "100%|██████████| 6/6 [00:21<00:00,  3.61s/it]\n",
      "100%|██████████| 5/5 [00:18<00:00,  3.64s/it]\n",
      "100%|██████████| 5/5 [00:18<00:00,  3.62s/it]\n"
     ]
    }
   ],
   "source": [
    "# Test Script (4min)\n",
    "from ivscript_2 import BlueforsServer_v2, MeasurementScript_v2\n",
    "\n",
    "import numpy as np\n",
    "from time import sleep, time\n",
    "try:\n",
    "    server = BlueforsServer_v2()\n",
    "    server.start_server(\n",
    "        server_name=f'.data/test_{time()}.hdf5',\n",
    "        S='11',\n",
    "    )\n",
    "    \n",
    "    script = MeasurementScript_v2()\n",
    "    script.femto1_amp = 1000\n",
    "    script.femto2_amp = 10000\n",
    "    script.amplitude = .1\n",
    "    script.period = 2\n",
    "    script.sweep_time = 2.1\n",
    "    script.offset_time = .2\n",
    "    script.ramp_cool_down = .5\n",
    "    script.initial_ramp_cool_down = 1\n",
    "\n",
    "    script.single_IV(\n",
    "        gate_voltage = 1e-7,\n",
    "        vna_frequency = 10e9,\n",
    "        vna_amplitude = .01,\n",
    "        magnetic_field = 10e-3,\n",
    "    )\n",
    "\n",
    "    script.gate_study(\n",
    "        gate_voltages = np.linspace(-.02, .02, 10),\n",
    "        vna_frequency = 10e9,\n",
    "        vna_amplitude = .01,\n",
    "        # magnetic_field = 10e-3,\n",
    "    )\n",
    "\n",
    "    script.magnetic_field_study(\n",
    "        magnetic_fields = np.linspace(-.02, .02, 5),\n",
    "        gate_voltage = 1e-3,\n",
    "        # vna_frequency = 10e9,\n",
    "        # vna_amplitude = .01,\n",
    "    )\n",
    "\n",
    "    script.irradiation_study(\n",
    "        vna_frequencies=np.linspace(10e9, 20e9, 3),\n",
    "        vna_amplitudes=np.array([.01, .1]),\n",
    "        magnetic_field=10e-3,\n",
    "        # gate_voltage=1e-3,\n",
    "    )\n",
    "    \n",
    "    script.frequency_study(\n",
    "        vna_frequencies=np.linspace(10e9, 20e9, 5),\n",
    "        vna_amplitude=.1,\n",
    "        gate_voltage=1e-3,\n",
    "        )\n",
    "    script.amplitude_study(\n",
    "        vna_amplitudes=np.linspace(.2, 1, 5),\n",
    "        vna_frequency=10e9,\n",
    "        magnetic_field=10e-3,\n",
    "        )\n",
    "    \n",
    "    script.temperature_study(\n",
    "        temperatures= np.linspace(0.01, 0.21, 5),\n",
    "        relaxation_turns = None,\n",
    "    )\n",
    "\n",
    "    script.save_state()\n",
    "    server.stop_server()\n",
    "except KeyboardInterrupt:\n",
    "    script.save_state()\n",
    "    server.stop_server()\n",
    "\n",
    "# 4m 0.4s"
   ]
  },
  {
   "cell_type": "markdown",
   "metadata": {},
   "source": [
    "# OI-25a-15 cool down"
   ]
  },
  {
   "cell_type": "code",
   "execution_count": null,
   "metadata": {},
   "outputs": [
    {
     "name": "stderr",
     "output_type": "stream",
     "text": [
      "C:\\Users\\BlueFors\\AppData\\Local\\Packages\\PythonSoftwareFoundation.Python.3.10_qbz5n2kfra8p0\\LocalCache\\local-packages\\Python310\\site-packages\\tqdm\\auto.py:21: TqdmWarning: IProgress not found. Please update jupyter and ipywidgets. See https://ipywidgets.readthedocs.io/en/stable/user_install.html\n",
      "  from .autonotebook import tqdm as notebook_tqdm\n"
     ]
    },
    {
     "name": "stdout",
     "output_type": "stream",
     "text": [
      "time elapsed: 66899s\n",
      "KeyboardInterrupt\n"
     ]
    }
   ],
   "source": [
    "# CoolDown 17.12.2024\n",
    "\n",
    "from ivscript_2_1 import MeasurementScript_v2\n",
    "\n",
    "script = MeasurementScript_v2()\n",
    "script.filename = f'data/OI-25a-15 24-12-17 cooldown 0.hdf5'\n",
    "script.manual_mode()"
   ]
  },
  {
   "cell_type": "code",
   "execution_count": null,
   "metadata": {},
   "outputs": [],
   "source": [
    "# Sample bond ripped of during build in"
   ]
  },
  {
   "cell_type": "markdown",
   "metadata": {},
   "source": [
    "# OI-25a-16 cool down"
   ]
  },
  {
   "cell_type": "code",
   "execution_count": 2,
   "metadata": {},
   "outputs": [
    {
     "name": "stdout",
     "output_type": "stream",
     "text": [
      "time elapsed: 0001s\n",
      "KeyboardInterrupt\n"
     ]
    }
   ],
   "source": [
    "# CoolDown 18.12.2024\n",
    "\n",
    "from ivscript_2_1 import MeasurementScript_v2\n",
    "\n",
    "script = MeasurementScript_v2()\n",
    "script.filename = f'data/OI-25a-16 24-12-18 cooldown 0.hdf5'\n",
    "script.manual_mode()"
   ]
  },
  {
   "cell_type": "code",
   "execution_count": null,
   "metadata": {},
   "outputs": [],
   "source": []
  },
  {
   "cell_type": "code",
   "execution_count": null,
   "metadata": {},
   "outputs": [],
   "source": []
  },
  {
   "cell_type": "code",
   "execution_count": null,
   "metadata": {},
   "outputs": [],
   "source": []
  },
  {
   "cell_type": "code",
   "execution_count": null,
   "metadata": {},
   "outputs": [],
   "source": []
  },
  {
   "cell_type": "code",
   "execution_count": null,
   "metadata": {},
   "outputs": [],
   "source": []
  },
  {
   "cell_type": "code",
   "execution_count": null,
   "metadata": {},
   "outputs": [],
   "source": []
  },
  {
   "cell_type": "code",
   "execution_count": null,
   "metadata": {},
   "outputs": [],
   "source": []
  },
  {
   "cell_type": "code",
   "execution_count": 3,
   "metadata": {},
   "outputs": [
    {
     "name": "stderr",
     "output_type": "stream",
     "text": [
      "100%|██████████| 241/241 [6:53:16<00:00, 102.89s/it]  \n"
     ]
    }
   ],
   "source": [
    "# magnetic field study in unbroken state\n",
    "from ivscript_2 import BlueforsServer_v2, MeasurementScript_v2\n",
    "\n",
    "import numpy as np\n",
    "from time import sleep, time\n",
    "try:\n",
    "    server = BlueforsServer_v2()\n",
    "    server.start_server(\n",
    "        server_name=f'data/OI-24d-10 24-09-05 magnetic field study 0.hdf5',\n",
    "        S='11'\n",
    "    )\n",
    "    \n",
    "    script = MeasurementScript_v2()\n",
    "    script.femto1_amp = 1000\n",
    "    script.femto2_amp = 10000\n",
    "    script.amplitude = .1\n",
    "    script.period = 92\n",
    "    script.sweep_time = 93\n",
    "    script.offset_time = 3\n",
    "    script.ramp_cool_down = 5\n",
    "    script.initial_ramp_cool_down = 60\n",
    "\n",
    "    script.magnetic_field_study(\n",
    "        magnetic_fields = np.linspace(-.12, .12, 241),\n",
    "    )\n",
    "\n",
    "    script.save_state()\n",
    "    server.stop_server()\n",
    "except KeyboardInterrupt:\n",
    "    script.save_state()\n",
    "    server.stop_server()\n",
    "\n",
    "# 6.47h"
   ]
  },
  {
   "cell_type": "code",
   "execution_count": 4,
   "metadata": {},
   "outputs": [
    {
     "name": "stderr",
     "output_type": "stream",
     "text": [
      "100%|██████████| 159/159 [16:10:38<00:00, 366.28s/it]  \n",
      "100%|██████████| 159/159 [16:10:41<00:00, 366.30s/it]  \n",
      "100%|██████████| 159/159 [2:53:01<00:00, 65.29s/it]  \n",
      "100%|██████████| 159/159 [2:53:03<00:00, 65.30s/it]  \n",
      "100%|██████████| 159/159 [2:53:03<00:00, 65.30s/it]  \n",
      "100%|██████████| 159/159 [2:53:02<00:00, 65.30s/it]  \n"
     ]
    }
   ],
   "source": [
    "# Test the 7.8 GHz\n",
    "from ivscript_2 import BlueforsServer_v2, MeasurementScript_v2\n",
    "import numpy as np\n",
    "from time import sleep, time\n",
    "femto1_amp = 1000\n",
    "femto2_amp = 10000\n",
    "amplitude = .1\n",
    "offset_time = 3\n",
    "short_period = 60\n",
    "short_sweep_time = 61\n",
    "long_period = 360\n",
    "long_sweep_time = 362\n",
    "\n",
    "try:\n",
    "    server = BlueforsServer_v2()\n",
    "    server.start_server(\n",
    "        server_name=f'data/OI-24d-10 24-09-05 amplitude study at 7.8GHz with antenna 0.hdf5',\n",
    "        S='11'\n",
    "    )\n",
    "    \n",
    "    script = MeasurementScript_v2()\n",
    "    script.femto1_amp = femto1_amp\n",
    "    script.femto2_amp = femto2_amp\n",
    "    script.amplitude = amplitude\n",
    "    script.offset_time = offset_time\n",
    "\n",
    "    script.period = long_period\n",
    "    script.sweep_time = long_sweep_time\n",
    "\n",
    "    script.amplitude_study(\n",
    "        vna_frequency = 7.8e9,\n",
    "        vna_amplitudes = np.linspace(0.01, .8, 159),\n",
    "    )\n",
    "    script.save_state()\n",
    "    server.stop_server()\n",
    "\n",
    "    \n",
    "    server = BlueforsServer_v2()\n",
    "    server.start_server(\n",
    "        server_name=f'data/OI-24d-10 24-09-05 amplitude study at 7.8GHz with stripline 0.hdf5',\n",
    "        S='22'\n",
    "    )\n",
    "    \n",
    "    script = MeasurementScript_v2()\n",
    "    script.femto1_amp = femto1_amp\n",
    "    script.femto2_amp = femto2_amp\n",
    "    script.amplitude = amplitude\n",
    "    script.offset_time = offset_time\n",
    "\n",
    "    script.period = long_period\n",
    "    script.sweep_time = long_sweep_time\n",
    "\n",
    "    script.amplitude_study(\n",
    "        vna_frequency = 7.8e9,\n",
    "        vna_amplitudes = np.linspace(0.01, .8, 159),\n",
    "    )\n",
    "    script.save_state()\n",
    "    server.stop_server()\n",
    "\n",
    "    \n",
    "    server = BlueforsServer_v2()\n",
    "    server.start_server(\n",
    "        server_name=f'data/OI-24d-10 24-09-05 amplitude study at 7.8GHz with antenna 0.hdf5',\n",
    "        S='11'\n",
    "    )\n",
    "    \n",
    "    script = MeasurementScript_v2()\n",
    "    script.femto1_amp = femto1_amp\n",
    "    script.femto2_amp = femto2_amp\n",
    "    script.amplitude = amplitude\n",
    "    script.offset_time = offset_time\n",
    "\n",
    "    script.period = short_period\n",
    "    script.sweep_time = short_sweep_time\n",
    "\n",
    "    script.amplitude_study(\n",
    "        vna_frequency = 7.7e9,\n",
    "        vna_amplitudes = np.linspace(0.01, .8, 159),\n",
    "    )\n",
    "\n",
    "    script.amplitude_study(\n",
    "        vna_frequency = 7.9e9,\n",
    "        vna_amplitudes = np.linspace(0.01, .8, 159),\n",
    "    )\n",
    "    script.save_state()\n",
    "    server.stop_server()\n",
    "    \n",
    "    server = BlueforsServer_v2()\n",
    "    server.start_server(\n",
    "        server_name=f'data/OI-24d-10 24-09-05 amplitude study at 7.8GHz with stripline 0.hdf5',\n",
    "        S='22'\n",
    "    )\n",
    "    \n",
    "    script = MeasurementScript_v2()\n",
    "    script.femto1_amp = femto1_amp\n",
    "    script.femto2_amp = femto2_amp\n",
    "    script.amplitude = amplitude\n",
    "    script.offset_time = offset_time\n",
    "\n",
    "    script.period = short_period\n",
    "    script.sweep_time = short_sweep_time\n",
    "\n",
    "    script.amplitude_study(\n",
    "        vna_frequency = 7.7e9,\n",
    "        vna_amplitudes = np.linspace(0.01, .8, 159),\n",
    "    )\n",
    "\n",
    "    script.amplitude_study(\n",
    "        vna_frequency = 7.9e9,\n",
    "        vna_amplitudes = np.linspace(0.01, .8, 159),\n",
    "    )\n",
    "    script.save_state()\n",
    "    server.stop_server()\n",
    "\n",
    "except KeyboardInterrupt:\n",
    "    script.save_state()\n",
    "    server.stop_server()"
   ]
  },
  {
   "cell_type": "code",
   "execution_count": 8,
   "metadata": {},
   "outputs": [
    {
     "name": "stderr",
     "output_type": "stream",
     "text": [
      "100%|██████████| 191/191 [19:03:44<00:00, 359.29s/it]  \n"
     ]
    }
   ],
   "source": [
    "# Frequency Study at 0.4V amplitude\n",
    "from ivscript_2 import BlueforsServer_v2, MeasurementScript_v2\n",
    "\n",
    "import numpy as np\n",
    "from time import sleep, time\n",
    "try:\n",
    "    server = BlueforsServer_v2()\n",
    "    server.start_server(\n",
    "        server_name=f'data/OI-24d-10 24-09-11 frequency study 0.hdf5',\n",
    "        S='11'\n",
    "    )\n",
    "    \n",
    "    script = MeasurementScript_v2()\n",
    "    script.femto1_amp = 1000\n",
    "    script.femto2_amp = 10000\n",
    "    script.amplitude = .13\n",
    "    script.period = 175\n",
    "    script.sweep_time = 355\n",
    "    script.offset_time = 3\n",
    "\n",
    "    script.frequency_study(\n",
    "        vna_frequencies= np.linspace(1e9, 20e9, 191),\n",
    "        vna_amplitude=0.4,\n",
    "    )\n",
    "\n",
    "    script.save_state()\n",
    "    server.stop_server()\n",
    "except KeyboardInterrupt:\n",
    "    script.save_state()\n",
    "    server.stop_server()\n"
   ]
  },
  {
   "cell_type": "code",
   "execution_count": 1,
   "metadata": {},
   "outputs": [
    {
     "name": "stderr",
     "output_type": "stream",
     "text": [
      "C:\\Users\\BlueFors\\AppData\\Local\\Packages\\PythonSoftwareFoundation.Python.3.10_qbz5n2kfra8p0\\LocalCache\\local-packages\\Python310\\site-packages\\tqdm\\auto.py:21: TqdmWarning: IProgress not found. Please update jupyter and ipywidgets. See https://ipywidgets.readthedocs.io/en/stable/user_install.html\n",
      "  from .autonotebook import tqdm as notebook_tqdm\n"
     ]
    },
    {
     "name": "stdout",
     "output_type": "stream",
     "text": [
      "time elapsed: 0035s\r"
     ]
    }
   ],
   "source": [
    "# Breaking\n",
    "from ivscript_2 import BlueforsServer_v2, MeasurementScript_v2\n",
    "\n",
    "import numpy as np\n",
    "from time import sleep, time\n",
    "try:\n",
    "    server = BlueforsServer_v2()\n",
    "    server.start_server(\n",
    "        server_name=f'data/OI-24d-10 24-09-12 breaking 0.hdf5',\n",
    "        S='11'\n",
    "    )\n",
    "    i=0\n",
    "    while True:\n",
    "        sleep(1)\n",
    "        print(f\"time elapsed: {i:04d}s\", end=\"\\r\")\n",
    "        i += 1\n",
    "except KeyboardInterrupt:\n",
    "    server.stop_server()"
   ]
  },
  {
   "cell_type": "code",
   "execution_count": 1,
   "metadata": {},
   "outputs": [
    {
     "name": "stderr",
     "output_type": "stream",
     "text": [
      "C:\\Users\\BlueFors\\AppData\\Local\\Packages\\PythonSoftwareFoundation.Python.3.10_qbz5n2kfra8p0\\LocalCache\\local-packages\\Python310\\site-packages\\tqdm\\auto.py:21: TqdmWarning: IProgress not found. Please update jupyter and ipywidgets. See https://ipywidgets.readthedocs.io/en/stable/user_install.html\n",
      "  from .autonotebook import tqdm as notebook_tqdm\n",
      "100%|██████████| 191/191 [19:03:50<00:00, 359.32s/it]  \n"
     ]
    }
   ],
   "source": [
    "# Frequency Study at 0.4V amplitude\n",
    "from ivscript_2 import BlueforsServer_v2, MeasurementScript_v2\n",
    "\n",
    "import numpy as np\n",
    "from time import sleep, time\n",
    "try:\n",
    "    server = BlueforsServer_v2()\n",
    "    server.start_server(\n",
    "        server_name=f'data/OI-24d-10 24-09-13 frequency study with stripline 1.hdf5',\n",
    "        S='22'\n",
    "    )\n",
    "    \n",
    "    script = MeasurementScript_v2()\n",
    "    script.femto1_amp = 1000\n",
    "    script.femto2_amp = 10000\n",
    "    script.amplitude = .13\n",
    "    script.period = 175\n",
    "    script.sweep_time = 355\n",
    "    script.offset_time = 3\n",
    "\n",
    "    script.frequency_study(\n",
    "        vna_frequencies= np.linspace(1e9, 20e9, 191),\n",
    "        vna_amplitude=0.4,\n",
    "    )\n",
    "\n",
    "    script.save_state()\n",
    "    server.stop_server()\n",
    "except KeyboardInterrupt:\n",
    "    script.save_state()\n",
    "    server.stop_server()\n"
   ]
  },
  {
   "cell_type": "code",
   "execution_count": 2,
   "metadata": {},
   "outputs": [
    {
     "name": "stderr",
     "output_type": "stream",
     "text": [
      "100%|██████████| 199/199 [13:36:55<00:00, 246.31s/it]  \n"
     ]
    }
   ],
   "source": [
    "# Test the 12.1 GHz\n",
    "from ivscript_2 import BlueforsServer_v2, MeasurementScript_v2\n",
    "import numpy as np\n",
    "from time import sleep, time\n",
    "try:\n",
    "    server = BlueforsServer_v2()\n",
    "    server.start_server(\n",
    "        server_name=f'data/OI-24d-10 24-09-13 amplitude study at 12.1GHz with antenna 0.hdf5',\n",
    "        S='11'\n",
    "    )\n",
    "    \n",
    "    script = MeasurementScript_v2()\n",
    "    script.femto1_amp = 1000\n",
    "    script.femto2_amp = 10000\n",
    "    script.amplitude = .2\n",
    "    script.offset_time = 3\n",
    "\n",
    "    script.period = 240\n",
    "    script.sweep_time = 242\n",
    "\n",
    "    script.amplitude_study(\n",
    "        vna_frequency = 12.1e9,\n",
    "        vna_amplitudes = np.linspace(0.01, 1, 199),\n",
    "    )\n",
    "    script.save_state()\n",
    "    server.stop_server()\n",
    "except KeyboardInterrupt:\n",
    "    script.save_state()\n",
    "    server.stop_server()"
   ]
  },
  {
   "cell_type": "code",
   "execution_count": 3,
   "metadata": {},
   "outputs": [
    {
     "name": "stderr",
     "output_type": "stream",
     "text": [
      "100%|██████████| 199/199 [13:36:56<00:00, 246.31s/it]  \n"
     ]
    }
   ],
   "source": [
    "# Test the 3.5 GHz\n",
    "from ivscript_2 import BlueforsServer_v2, MeasurementScript_v2\n",
    "import numpy as np\n",
    "from time import sleep, time\n",
    "try:\n",
    "    server = BlueforsServer_v2()\n",
    "    server.start_server(\n",
    "        server_name=f'data/OI-24d-10 24-09-13 amplitude study at 3.5GHz with antenna 0.hdf5',\n",
    "        S='11'\n",
    "    )\n",
    "    \n",
    "    script = MeasurementScript_v2()\n",
    "    script.femto1_amp = 1000\n",
    "    script.femto2_amp = 10000\n",
    "    script.amplitude = .1\n",
    "    script.offset_time = 3\n",
    "\n",
    "    script.period = 240\n",
    "    script.sweep_time = 242\n",
    "\n",
    "    script.amplitude_study(\n",
    "        vna_frequency = 12.1e9,\n",
    "        vna_amplitudes = np.linspace(0.01, 1, 199),\n",
    "    )\n",
    "    script.save_state()\n",
    "    server.stop_server()\n",
    "except KeyboardInterrupt:\n",
    "    script.save_state()\n",
    "    server.stop_server()"
   ]
  },
  {
   "cell_type": "code",
   "execution_count": 4,
   "metadata": {},
   "outputs": [
    {
     "name": "stderr",
     "output_type": "stream",
     "text": [
      "100%|██████████| 199/199 [13:36:56<00:00, 246.31s/it]  \n"
     ]
    }
   ],
   "source": [
    "# Test the 19 GHz\n",
    "from ivscript_2 import BlueforsServer_v2, MeasurementScript_v2\n",
    "import numpy as np\n",
    "from time import sleep, time\n",
    "try:\n",
    "    server = BlueforsServer_v2()\n",
    "    server.start_server(\n",
    "        server_name=f'data/OI-24d-10 24-09-13 amplitude study at 19GHz with antenna 0.hdf5',\n",
    "        S='11'\n",
    "    )\n",
    "    \n",
    "    script = MeasurementScript_v2()\n",
    "    script.femto1_amp = 1000\n",
    "    script.femto2_amp = 10000\n",
    "    script.amplitude = .15\n",
    "    script.offset_time = 3\n",
    "\n",
    "    script.period = 240\n",
    "    script.sweep_time = 242\n",
    "\n",
    "    script.amplitude_study(\n",
    "        vna_frequency = 19e9,\n",
    "        vna_amplitudes = np.linspace(0.01, 1, 199),\n",
    "    )\n",
    "    script.save_state()\n",
    "    server.stop_server()\n",
    "except KeyboardInterrupt:\n",
    "    script.save_state()\n",
    "    server.stop_server()"
   ]
  },
  {
   "cell_type": "code",
   "execution_count": 5,
   "metadata": {},
   "outputs": [
    {
     "name": "stderr",
     "output_type": "stream",
     "text": [
      "100%|██████████| 199/199 [13:36:53<00:00, 246.30s/it]  \n"
     ]
    }
   ],
   "source": [
    "# Test the 3.5 GHz\n",
    "from ivscript_2 import BlueforsServer_v2, MeasurementScript_v2\n",
    "import numpy as np\n",
    "from time import sleep, time\n",
    "try:\n",
    "    server = BlueforsServer_v2()\n",
    "    server.start_server(\n",
    "        server_name=f'data/OI-24d-10 24-09-13 amplitude study at 3.5GHz with antenna 1.hdf5',\n",
    "        S='11'\n",
    "    )\n",
    "    \n",
    "    script = MeasurementScript_v2()\n",
    "    script.femto1_amp = 1000\n",
    "    script.femto2_amp = 10000\n",
    "    script.amplitude = .1\n",
    "    script.offset_time = 3\n",
    "\n",
    "    script.period = 240\n",
    "    script.sweep_time = 242\n",
    "\n",
    "    script.amplitude_study(\n",
    "        vna_frequency = 3.5e9,\n",
    "        vna_amplitudes = np.linspace(0.01, 1, 199),\n",
    "    )\n",
    "    script.save_state()\n",
    "    server.stop_server()\n",
    "except KeyboardInterrupt:\n",
    "    script.save_state()\n",
    "    server.stop_server()"
   ]
  },
  {
   "cell_type": "code",
   "execution_count": 3,
   "metadata": {},
   "outputs": [
    {
     "name": "stderr",
     "output_type": "stream",
     "text": [
      "100%|██████████| 191/191 [9:33:54<00:00, 180.28s/it]  \n",
      "100%|██████████| 191/191 [9:33:56<00:00, 180.30s/it]  \n",
      "100%|██████████| 139/139 [6:57:41<00:00, 180.30s/it]  \n",
      "100%|██████████| 139/139 [6:57:40<00:00, 180.29s/it]  \n",
      "100%|██████████| 199/199 [9:57:58<00:00, 180.30s/it]  \n",
      "100%|██████████| 159/159 [7:57:46<00:00, 180.30s/it]  \n",
      "100%|██████████| 191/191 [9:33:56<00:00, 180.30s/it]  \n",
      "100%|██████████| 191/191 [9:33:57<00:00, 180.30s/it]  \n",
      "100%|██████████| 139/139 [6:57:41<00:00, 180.30s/it]  \n",
      "100%|██████████| 139/139 [6:57:45<00:00, 180.32s/it]  \n",
      "100%|██████████| 199/199 [9:58:02<00:00, 180.31s/it]  \n",
      "100%|██████████| 159/159 [7:57:50<00:00, 180.32s/it]  \n",
      "100%|██████████| 159/159 [7:57:51<00:00, 180.32s/it]  \n",
      "100%|██████████| 159/159 [7:57:49<00:00, 180.31s/it]  \n",
      " 51%|█████     | 1670/3280 [83:38:36<80:37:18, 180.27s/it] Exception in thread Thread-37937 (_status_measurement_thread):\n",
      "Traceback (most recent call last):\n",
      "  File \"C:\\Users\\BlueFors\\AppData\\Local\\Packages\\PythonSoftwareFoundation.Python.3.10_qbz5n2kfra8p0\\LocalCache\\local-packages\\Python310\\site-packages\\urllib3\\connection.py\", line 203, in _new_conn\n",
      "    sock = connection.create_connection(\n",
      "  File \"C:\\Users\\BlueFors\\AppData\\Local\\Packages\\PythonSoftwareFoundation.Python.3.10_qbz5n2kfra8p0\\LocalCache\\local-packages\\Python310\\site-packages\\urllib3\\util\\connection.py\", line 85, in create_connection\n",
      "    raise err\n",
      "  File \"C:\\Users\\BlueFors\\AppData\\Local\\Packages\\PythonSoftwareFoundation.Python.3.10_qbz5n2kfra8p0\\LocalCache\\local-packages\\Python310\\site-packages\\urllib3\\util\\connection.py\", line 73, in create_connection\n",
      "    sock.connect(sa)\n",
      "OSError: [WinError 10055] Ein Socketvorgang konnte nicht ausgeführt werden, da dem System Pufferspeicher fehlte oder eine Warteschlange voll war\n",
      "\n",
      "The above exception was the direct cause of the following exception:\n",
      "\n",
      "Traceback (most recent call last):\n",
      "  File \"C:\\Users\\BlueFors\\AppData\\Local\\Packages\\PythonSoftwareFoundation.Python.3.10_qbz5n2kfra8p0\\LocalCache\\local-packages\\Python310\\site-packages\\urllib3\\connectionpool.py\", line 790, in urlopen\n",
      "    response = self._make_request(\n",
      "  File \"C:\\Users\\BlueFors\\AppData\\Local\\Packages\\PythonSoftwareFoundation.Python.3.10_qbz5n2kfra8p0\\LocalCache\\local-packages\\Python310\\site-packages\\urllib3\\connectionpool.py\", line 496, in _make_request\n",
      "    conn.request(\n",
      "  File \"C:\\Users\\BlueFors\\AppData\\Local\\Packages\\PythonSoftwareFoundation.Python.3.10_qbz5n2kfra8p0\\LocalCache\\local-packages\\Python310\\site-packages\\urllib3\\connection.py\", line 395, in request\n",
      "    self.endheaders()\n",
      "  File \"C:\\Program Files\\WindowsApps\\PythonSoftwareFoundation.Python.3.10_3.10.3056.0_x64__qbz5n2kfra8p0\\lib\\http\\client.py\", line 1278, in endheaders\n",
      "    self._send_output(message_body, encode_chunked=encode_chunked)\n",
      "  File \"C:\\Program Files\\WindowsApps\\PythonSoftwareFoundation.Python.3.10_3.10.3056.0_x64__qbz5n2kfra8p0\\lib\\http\\client.py\", line 1038, in _send_output\n",
      "    self.send(msg)\n",
      "  File \"C:\\Program Files\\WindowsApps\\PythonSoftwareFoundation.Python.3.10_3.10.3056.0_x64__qbz5n2kfra8p0\\lib\\http\\client.py\", line 976, in send\n",
      "    self.connect()\n",
      "  File \"C:\\Users\\BlueFors\\AppData\\Local\\Packages\\PythonSoftwareFoundation.Python.3.10_qbz5n2kfra8p0\\LocalCache\\local-packages\\Python310\\site-packages\\urllib3\\connection.py\", line 243, in connect\n",
      "    self.sock = self._new_conn()\n",
      "  File \"C:\\Users\\BlueFors\\AppData\\Local\\Packages\\PythonSoftwareFoundation.Python.3.10_qbz5n2kfra8p0\\LocalCache\\local-packages\\Python310\\site-packages\\urllib3\\connection.py\", line 218, in _new_conn\n",
      "    raise NewConnectionError(\n",
      "urllib3.exceptions.NewConnectionError: <urllib3.connection.HTTPConnection object at 0x0000020921338D90>: Failed to establish a new connection: [WinError 10055] Ein Socketvorgang konnte nicht ausgeführt werden, da dem System Pufferspeicher fehlte oder eine Warteschlange voll war\n",
      "\n",
      "The above exception was the direct cause of the following exception:\n",
      "\n",
      "Traceback (most recent call last):\n",
      "  File \"C:\\Users\\BlueFors\\AppData\\Local\\Packages\\PythonSoftwareFoundation.Python.3.10_qbz5n2kfra8p0\\LocalCache\\local-packages\\Python310\\site-packages\\requests\\adapters.py\", line 486, in send\n",
      "    resp = conn.urlopen(\n",
      "  File \"C:\\Users\\BlueFors\\AppData\\Local\\Packages\\PythonSoftwareFoundation.Python.3.10_qbz5n2kfra8p0\\LocalCache\\local-packages\\Python310\\site-packages\\urllib3\\connectionpool.py\", line 844, in urlopen\n",
      "    retries = retries.increment(\n",
      "  File \"C:\\Users\\BlueFors\\AppData\\Local\\Packages\\PythonSoftwareFoundation.Python.3.10_qbz5n2kfra8p0\\LocalCache\\local-packages\\Python310\\site-packages\\urllib3\\util\\retry.py\", line 515, in increment\n",
      "    raise MaxRetryError(_pool, url, reason) from reason  # type: ignore[arg-type]\n",
      "urllib3.exceptions.MaxRetryError: HTTPConnectionPool(host='localhost', port=49099): Max retries exceeded with url: /values/ (Caused by NewConnectionError('<urllib3.connection.HTTPConnection object at 0x0000020921338D90>: Failed to establish a new connection: [WinError 10055] Ein Socketvorgang konnte nicht ausgeführt werden, da dem System Pufferspeicher fehlte oder eine Warteschlange voll war'))\n",
      "\n",
      "During handling of the above exception, another exception occurred:\n",
      "\n",
      "Traceback (most recent call last):\n",
      "  File \"C:\\Program Files\\WindowsApps\\PythonSoftwareFoundation.Python.3.10_3.10.3056.0_x64__qbz5n2kfra8p0\\lib\\threading.py\", line 1016, in _bootstrap_inner\n",
      "    self.run()\n",
      "  File \"C:\\Program Files\\WindowsApps\\PythonSoftwareFoundation.Python.3.10_3.10.3056.0_x64__qbz5n2kfra8p0\\lib\\threading.py\", line 953, in run\n",
      "    self._target(*self._args, **self._kwargs)\n",
      "  File \"C:\\Users\\BlueFors\\Documents\\p5control\\p5control\\measure\\status.py\", line 119, in _status_measurement_thread\n",
      "    res = dev.get_status()\n",
      "  File \"c:\\Users\\BlueFors\\Documents\\p5control-bluefors\\core\\drivers_v2\\blueforsapi_v2.py\", line 214, in get_status\n",
      "    _ = requests.post(self.url, json=post, timeout=1)\n",
      "  File \"C:\\Users\\BlueFors\\AppData\\Local\\Packages\\PythonSoftwareFoundation.Python.3.10_qbz5n2kfra8p0\\LocalCache\\local-packages\\Python310\\site-packages\\requests\\api.py\", line 115, in post\n",
      "    return request(\"post\", url, data=data, json=json, **kwargs)\n",
      "  File \"C:\\Users\\BlueFors\\AppData\\Local\\Packages\\PythonSoftwareFoundation.Python.3.10_qbz5n2kfra8p0\\LocalCache\\local-packages\\Python310\\site-packages\\requests\\api.py\", line 59, in request\n",
      "    return session.request(method=method, url=url, **kwargs)\n",
      "  File \"C:\\Users\\BlueFors\\AppData\\Local\\Packages\\PythonSoftwareFoundation.Python.3.10_qbz5n2kfra8p0\\LocalCache\\local-packages\\Python310\\site-packages\\requests\\sessions.py\", line 589, in request\n",
      "    resp = self.send(prep, **send_kwargs)\n",
      "  File \"C:\\Users\\BlueFors\\AppData\\Local\\Packages\\PythonSoftwareFoundation.Python.3.10_qbz5n2kfra8p0\\LocalCache\\local-packages\\Python310\\site-packages\\requests\\sessions.py\", line 703, in send\n",
      "    r = adapter.send(request, **kwargs)\n",
      "  File \"C:\\Users\\BlueFors\\AppData\\Local\\Packages\\PythonSoftwareFoundation.Python.3.10_qbz5n2kfra8p0\\LocalCache\\local-packages\\Python310\\site-packages\\requests\\adapters.py\", line 519, in send\n",
      "    raise ConnectionError(e, request=request)\n",
      "requests.exceptions.ConnectionError: HTTPConnectionPool(host='localhost', port=49099): Max retries exceeded with url: /values/ (Caused by NewConnectionError('<urllib3.connection.HTTPConnection object at 0x0000020921338D90>: Failed to establish a new connection: [WinError 10055] Ein Socketvorgang konnte nicht ausgeführt werden, da dem System Pufferspeicher fehlte oder eine Warteschlange voll war'))\n",
      "100%|██████████| 3280/3280 [164:16:08<00:00, 180.30s/it]   \n"
     ]
    }
   ],
   "source": [
    "# Kill it!\n",
    "from ivscript_2 import BlueforsServer_v2, MeasurementScript_v2\n",
    "\n",
    "import numpy as np\n",
    "from time import sleep, time\n",
    "try:\n",
    "    server = BlueforsServer_v2()\n",
    "    server.start_server(\n",
    "        server_name=f'data/OI-24d-10 24-09-17 irraddiation study with magnetic field and antenna 1.hdf5',\n",
    "        S='11'\n",
    "    )\n",
    "    \n",
    "    script = MeasurementScript_v2()\n",
    "    script.femto1_amp = 1000\n",
    "    script.femto2_amp = 10000\n",
    "    script.period = 175\n",
    "    script.sweep_time = 176\n",
    "    script.offset_time = 3\n",
    "\n",
    "    for magnetic_field in [.02, .03]:\n",
    "        script.amplitude = .13\n",
    "        script.frequency_study(\n",
    "            vna_frequencies= np.linspace(1e9, 20e9, 191),\n",
    "            vna_amplitude=0.4,\n",
    "            magnetic_field=magnetic_field,\n",
    "        )\n",
    "        script.amplitude = .13\n",
    "        script.frequency_study(\n",
    "            vna_frequencies= np.linspace(1e9, 20e9, 191),\n",
    "            vna_amplitude=0.1,\n",
    "            magnetic_field=magnetic_field,\n",
    "        )\n",
    "        script.amplitude = .15\n",
    "        script.amplitude_study(\n",
    "            vna_frequency = 19e9,\n",
    "            vna_amplitudes = np.linspace(0.01, .7, 139),\n",
    "            magnetic_field=magnetic_field,\n",
    "        )\n",
    "        script.amplitude = .2\n",
    "        script.amplitude_study(\n",
    "            vna_frequency = 12.1e9,\n",
    "            vna_amplitudes = np.linspace(0.01, .7, 139),\n",
    "            magnetic_field=magnetic_field,\n",
    "        )\n",
    "        script.amplitude = .1\n",
    "        script.amplitude_study(\n",
    "            vna_frequency = 3.5e9,\n",
    "            vna_amplitudes = np.linspace(0.01, 1, 199),\n",
    "            magnetic_field=magnetic_field,\n",
    "        )\n",
    "        script.amplitude = .1\n",
    "        script.amplitude_study(\n",
    "            vna_frequency = 7.9e9,\n",
    "            vna_amplitudes = np.linspace(0.01, .8, 159),\n",
    "            magnetic_field=magnetic_field,\n",
    "        )\n",
    "    script.save_state()\n",
    "    server.stop_server()\n",
    "    \n",
    "    server = BlueforsServer_v2()\n",
    "    server.start_server(\n",
    "        server_name=f'data/OI-24d-10 24-09-17 irraddiation study with magnetic field and stripline.hdf5',\n",
    "        S='22'\n",
    "    )\n",
    "    \n",
    "    script = MeasurementScript_v2()\n",
    "    script.femto1_amp = 1000\n",
    "    script.femto2_amp = 10000\n",
    "    script.period = 175\n",
    "    script.sweep_time = 176\n",
    "    script.offset_time = 3\n",
    "\n",
    "    for magnetic_field in [.02, .03]:\n",
    "        script.amplitude = .1\n",
    "        script.amplitude_study(\n",
    "            vna_frequency = 7.9e9,\n",
    "            vna_amplitudes = np.linspace(0.01, .8, 159),\n",
    "            magnetic_field=magnetic_field,\n",
    "        )\n",
    "\n",
    "    script.save_state()\n",
    "    server.stop_server()\n",
    "\n",
    "    \n",
    "    server = BlueforsServer_v2()\n",
    "    server.start_server(\n",
    "        server_name=f'data/OI-24d-10 24-09-17 irraddiation study 7.6-8.1 GHz and 0-0.8V with stripline.hdf5',\n",
    "        S='22'\n",
    "    )\n",
    "    \n",
    "    script = MeasurementScript_v2()\n",
    "    script.femto1_amp = 1000\n",
    "    script.femto2_amp = 10000\n",
    "    script.period = 175\n",
    "    script.sweep_time = 176\n",
    "    script.offset_time = 3\n",
    "    \n",
    "    script.amplitude = .1\n",
    "    script.irradiation_study(\n",
    "        vna_frequencies = np.linspace(7.6e9, 8.1e9, 41),\n",
    "        vna_amplitudes = np.linspace(0.01, .8, 80),\n",
    "    )\n",
    "\n",
    "    script.save_state()\n",
    "    server.stop_server()\n",
    "except KeyboardInterrupt:\n",
    "    script.save_state()\n",
    "    server.stop_server()"
   ]
  },
  {
   "cell_type": "code",
   "execution_count": 3,
   "metadata": {},
   "outputs": [
    {
     "name": "stderr",
     "output_type": "stream",
     "text": [
      "100%|██████████| 20100/20100 [8:14:06<00:00,  1.47s/it]  \n"
     ]
    }
   ],
   "source": [
    "# Kill it harder!\n",
    "# without logger\n",
    "\n",
    "try:\n",
    "    server = BlueforsServer_v2()\n",
    "    server.start_server(\n",
    "        server_name=f'data/OI-24d-10 24-10-01 far beyond sanity irraddiation study with stripline 5.hdf5',\n",
    "        S='22'\n",
    "    )\n",
    "    \n",
    "    script = MeasurementScript_v2()\n",
    "    script.femto1_amp = 1000\n",
    "    script.femto2_amp = 10000\n",
    "    script.period = 106.314/1000\n",
    "    script.sweep_time = 107/1000\n",
    "    script.offset_time = 2/100\n",
    "    \n",
    "    script.amplitude = .1\n",
    "    script.irradiation_study(\n",
    "        vna_frequencies = np.linspace(5.5e9, 9.5e9, 201),\n",
    "        vna_amplitudes = np.linspace(0.01, 1, 100),\n",
    "    )\n",
    "\n",
    "    script.save_state()\n",
    "    server.stop_server()\n",
    "except KeyboardInterrupt as err:\n",
    "    script.save_state()\n",
    "    server.stop_server()\n",
    "except Exception as err:\n",
    "    print('Error: ', err)\n",
    "    server.stop_server()"
   ]
  },
  {
   "cell_type": "code",
   "execution_count": 1,
   "metadata": {},
   "outputs": [
    {
     "name": "stderr",
     "output_type": "stream",
     "text": [
      "C:\\Users\\BlueFors\\AppData\\Local\\Packages\\PythonSoftwareFoundation.Python.3.10_qbz5n2kfra8p0\\LocalCache\\local-packages\\Python310\\site-packages\\tqdm\\auto.py:21: TqdmWarning: IProgress not found. Please update jupyter and ipywidgets. See https://ipywidgets.readthedocs.io/en/stable/user_install.html\n",
      "  from .autonotebook import tqdm as notebook_tqdm\n",
      "  0%|          | 2/20100 [00:04<11:39:20,  2.09s/it]\n"
     ]
    },
    {
     "name": "stdout",
     "output_type": "stream",
     "text": [
      "KeyboardInterrupt\n"
     ]
    },
    {
     "ename": "AttributeError",
     "evalue": "'InstrumentGateway' object has no attribute 'magnet'",
     "output_type": "error",
     "traceback": [
      "\u001b[1;31m---------------------------------------------------------------------------\u001b[0m",
      "\u001b[1;31mAttributeError\u001b[0m                            Traceback (most recent call last)",
      "Cell \u001b[1;32mIn[1], line 24\u001b[0m\n\u001b[0;32m     18\u001b[0m script\u001b[38;5;241m.\u001b[39mamplitude \u001b[38;5;241m=\u001b[39m \u001b[38;5;241m.1\u001b[39m\n\u001b[0;32m     19\u001b[0m script\u001b[38;5;241m.\u001b[39mirradiation_study(\n\u001b[0;32m     20\u001b[0m     vna_frequencies \u001b[38;5;241m=\u001b[39m np\u001b[38;5;241m.\u001b[39mlinspace(\u001b[38;5;241m5.5e9\u001b[39m, \u001b[38;5;241m9.5e9\u001b[39m, \u001b[38;5;241m201\u001b[39m),\n\u001b[0;32m     21\u001b[0m     vna_amplitudes \u001b[38;5;241m=\u001b[39m np\u001b[38;5;241m.\u001b[39mlinspace(\u001b[38;5;241m0.01\u001b[39m, \u001b[38;5;241m1\u001b[39m, \u001b[38;5;241m100\u001b[39m),\n\u001b[0;32m     22\u001b[0m )\n\u001b[1;32m---> 24\u001b[0m \u001b[43mscript\u001b[49m\u001b[38;5;241;43m.\u001b[39;49m\u001b[43mclose\u001b[49m\u001b[43m(\u001b[49m\u001b[43m)\u001b[49m\n",
      "File \u001b[1;32mc:\\Users\\BlueFors\\Documents\\p5control-bluefors\\ivscript_2_1.py:120\u001b[0m, in \u001b[0;36mMeasurementScript_v2.close\u001b[1;34m(self)\u001b[0m\n\u001b[0;32m    119\u001b[0m \u001b[38;5;28;01mdef\u001b[39;00m \u001b[38;5;21mclose\u001b[39m(\u001b[38;5;28mself\u001b[39m):\n\u001b[1;32m--> 120\u001b[0m     \u001b[38;5;28;43mself\u001b[39;49m\u001b[38;5;241;43m.\u001b[39;49m\u001b[43msave_state\u001b[49m\u001b[43m(\u001b[49m\u001b[43m)\u001b[49m\n\u001b[0;32m    121\u001b[0m     \u001b[38;5;28mself\u001b[39m\u001b[38;5;241m.\u001b[39mstop_server()\n",
      "File \u001b[1;32mc:\\Users\\BlueFors\\Documents\\p5control-bluefors\\ivscript_2_1.py:147\u001b[0m, in \u001b[0;36mMeasurementScript_v2.save_state\u001b[1;34m(self)\u001b[0m\n\u001b[0;32m    146\u001b[0m \u001b[38;5;28;01mdef\u001b[39;00m \u001b[38;5;21msave_state\u001b[39m(\u001b[38;5;28mself\u001b[39m):\n\u001b[1;32m--> 147\u001b[0m     \u001b[38;5;28;43mself\u001b[39;49m\u001b[38;5;241;43m.\u001b[39;49m\u001b[43mgw\u001b[49m\u001b[38;5;241;43m.\u001b[39;49m\u001b[43mmagnet\u001b[49m\u001b[38;5;241m.\u001b[39mset_rate(\u001b[38;5;241m0\u001b[39m)  \n\u001b[0;32m    148\u001b[0m     \u001b[38;5;28mself\u001b[39m\u001b[38;5;241m.\u001b[39mgw\u001b[38;5;241m.\u001b[39mmagnet\u001b[38;5;241m.\u001b[39mset_target_field(\u001b[38;5;241m0\u001b[39m) \n\u001b[0;32m    149\u001b[0m     \u001b[38;5;28mself\u001b[39m\u001b[38;5;241m.\u001b[39mgw\u001b[38;5;241m.\u001b[39mmagnet\u001b[38;5;241m.\u001b[39mramp() \n",
      "File \u001b[1;32m~\\Documents\\p5control\\p5control\\gateway\\basegw.py:158\u001b[0m, in \u001b[0;36mBaseGateway.__getattr__\u001b[1;34m(self, attr)\u001b[0m\n\u001b[0;32m    156\u001b[0m         \u001b[38;5;28;01mreturn\u001b[39;00m \u001b[38;5;28mgetattr\u001b[39m(\u001b[38;5;28mself\u001b[39m\u001b[38;5;241m.\u001b[39m_connection\u001b[38;5;241m.\u001b[39mroot, attr)\n\u001b[0;32m    157\u001b[0m \u001b[38;5;66;03m# default python implementation\u001b[39;00m\n\u001b[1;32m--> 158\u001b[0m \u001b[38;5;28;01mreturn\u001b[39;00m \u001b[38;5;28;43mself\u001b[39;49m\u001b[38;5;241;43m.\u001b[39;49m\u001b[38;5;21;43m__getattribute__\u001b[39;49m\u001b[43m(\u001b[49m\u001b[43mattr\u001b[49m\u001b[43m)\u001b[49m\n",
      "\u001b[1;31mAttributeError\u001b[0m: 'InstrumentGateway' object has no attribute 'magnet'"
     ]
    }
   ],
   "source": [
    "# Kill it harder!\n",
    "# without logger\n",
    "\n",
    "from ivscript_2_1 import MeasurementScript_v2\n",
    "import numpy as np\n",
    "\n",
    "script = MeasurementScript_v2()\n",
    "script.filename = f'data/OI-24d-10 24-10-01 far beyond sanity irraddiation study with stripline 9.hdf5'\n",
    "script.S='22'\n",
    "\n",
    "script.init()\n",
    "script.femto1_amp = 1000\n",
    "script.femto2_amp = 10000\n",
    "script.period = 106.314/1000\n",
    "script.sweep_time = 107/1000\n",
    "script.offset_time = 2/100\n",
    "\n",
    "script.amplitude = .1\n",
    "script.irradiation_study(\n",
    "    vna_frequencies = np.linspace(5.5e9, 9.5e9, 201),\n",
    "    vna_amplitudes = np.linspace(0.01, 1, 100),\n",
    ")\n",
    "\n",
    "script.close()"
   ]
  },
  {
   "cell_type": "code",
   "execution_count": 1,
   "metadata": {},
   "outputs": [
    {
     "name": "stderr",
     "output_type": "stream",
     "text": [
      "C:\\Users\\BlueFors\\AppData\\Local\\Packages\\PythonSoftwareFoundation.Python.3.10_qbz5n2kfra8p0\\LocalCache\\local-packages\\Python310\\site-packages\\tqdm\\auto.py:21: TqdmWarning: IProgress not found. Please update jupyter and ipywidgets. See https://ipywidgets.readthedocs.io/en/stable/user_install.html\n",
      "  from .autonotebook import tqdm as notebook_tqdm\n"
     ]
    },
    {
     "name": "stdout",
     "output_type": "stream",
     "text": [
      "time elapsed: 0006s\n",
      "KeyboardInterrupt\n"
     ]
    }
   ],
   "source": [
    "# Breaking 12.11.24\n",
    "\n",
    "from ivscript_2_1 import MeasurementScript_v2\n",
    "import numpy as np\n",
    "\n",
    "script = MeasurementScript_v2()\n",
    "script.filename = f'data/OI-24d-10 24-11-12 breaking 0.hdf5'\n",
    "script.manual_mode()\n"
   ]
  },
  {
   "cell_type": "code",
   "execution_count": null,
   "metadata": {},
   "outputs": [],
   "source": []
  }
 ],
 "metadata": {
  "kernelspec": {
   "display_name": "Python 3",
   "language": "python",
   "name": "python3"
  },
  "language_info": {
   "codemirror_mode": {
    "name": "ipython",
    "version": 3
   },
   "file_extension": ".py",
   "mimetype": "text/x-python",
   "name": "python",
   "nbconvert_exporter": "python",
   "pygments_lexer": "ipython3",
   "version": "3.10.11"
  }
 },
 "nbformat": 4,
 "nbformat_minor": 2
}
