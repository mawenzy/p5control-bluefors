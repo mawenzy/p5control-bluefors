{
 "cells": [
  {
   "cell_type": "code",
   "execution_count": 103,
   "metadata": {},
   "outputs": [],
   "source": [
    "import numpy as np\n",
    "import pyvisa"
   ]
  },
  {
   "cell_type": "code",
   "execution_count": 104,
   "metadata": {},
   "outputs": [],
   "source": [
    "rm = pyvisa.ResourceManager()\n",
    "source = rm.open_resource(\"TCPIP0::192.168.1.113::INSTR\")"
   ]
  },
  {
   "cell_type": "code",
   "execution_count": 181,
   "metadata": {},
   "outputs": [
    {
     "data": {
      "text/plain": [
       "'1\\n'"
      ]
     },
     "execution_count": 181,
     "metadata": {},
     "output_type": "execute_result"
    }
   ],
   "source": [
    "source.write(\"*CLS\") # clear status command\n",
    "source.write(\"*RST\") # reset the instrument for SCPI operation\n",
    "source.query(\"*OPC?\") # wait for the operation to complete"
   ]
  },
  {
   "cell_type": "code",
   "execution_count": 182,
   "metadata": {},
   "outputs": [
    {
     "data": {
      "text/plain": [
       "41"
      ]
     },
     "execution_count": 182,
     "metadata": {},
     "output_type": "execute_result"
    }
   ],
   "source": [
    "\n",
    "source.write(f':SENSe1:FUNCtion:ON \"CURR\"')\n",
    "source.write(f':SENSe2:FUNCtion:ON \"CURR\"')\n",
    "source.write(f\":SENSe1:CURR:DC:PROTection:LEVel:BOTH 1\") # Keysight B2962A SCPI, p76, 2-36, table 2-5\n",
    "source.write(f\":SENSe2:CURR:DC:PROTection:LEVel:BOTH 1\")"
   ]
  },
  {
   "cell_type": "code",
   "execution_count": 183,
   "metadata": {},
   "outputs": [
    {
     "data": {
      "text/plain": [
       "24"
      ]
     },
     "execution_count": 183,
     "metadata": {},
     "output_type": "execute_result"
    }
   ],
   "source": [
    "\n",
    "source.write(f\":sour2:func:mode volt\")\n",
    "source.write(f\":sour1:volt:mode arb\")\n",
    "source.write(f\":sour2:volt:mode arb\")\n",
    "source.write(f\":sour1:arb:func tri\")\n",
    "source.write(f\":sour2:arb:func tri\")\n",
    "# source.write(f\":sour1:arb:count inf\")\n",
    "# source.write(f\":sour2:arb:count inf\")\n",
    "source.write(f\":sour1:arb:volt:tri:star:time 0\")\n",
    "source.write(f\":sour2:arb:volt:tri:star:time 0\")\n",
    "source.write(f\":sour1:arb:volt:tri:end:time 0\")\n",
    "source.write(f\":sour2:arb:volt:tri:end:time 0\")\n",
    "source.write(f\":trig1:tran:sour aint\")\n",
    "source.write(f\":trig2:tran:sour aint\")\n",
    "source.write(f\":trig1:tran:coun 10000\")\n",
    "source.write(f\":trig2:tran:coun 10000\")"
   ]
  },
  {
   "cell_type": "code",
   "execution_count": 184,
   "metadata": {},
   "outputs": [
    {
     "data": {
      "text/plain": [
       "30"
      ]
     },
     "execution_count": 184,
     "metadata": {},
     "output_type": "execute_result"
    }
   ],
   "source": [
    "amplitude=1.2\n",
    "period = 1\n",
    "\n",
    "source.write(f\":sour1:volt {amplitude}\")\n",
    "source.write(f\":sour2:volt {-amplitude}\")\n",
    "source.write(f\":sour1:arb:volt:tri:star {amplitude}\")\n",
    "source.write(f\":sour2:arb:volt:tri:star {-amplitude}\")\n",
    "source.write(f\":sour1:arb:volt:tri:top {-amplitude}\")\n",
    "source.write(f\":sour2:arb:volt:tri:top {amplitude}\")\n",
    "source.write(f\":sour1:arb:volt:tri:rtim {period/2}\")\n",
    "source.write(f\":sour2:arb:volt:tri:rtim {period/2}\")\n",
    "source.write(f\":sour1:arb:volt:tri:ftim {period/2}\")\n",
    "source.write(f\":sour2:arb:volt:tri:ftim {period/2}\")"
   ]
  },
  {
   "cell_type": "code",
   "execution_count": 185,
   "metadata": {},
   "outputs": [
    {
     "data": {
      "text/plain": [
       "10"
      ]
     },
     "execution_count": 185,
     "metadata": {},
     "output_type": "execute_result"
    }
   ],
   "source": [
    "source.write(\"outp1 on\")\n",
    "source.write(\"outp2 on\")"
   ]
  },
  {
   "cell_type": "code",
   "execution_count": 188,
   "metadata": {},
   "outputs": [
    {
     "data": {
      "text/plain": [
       "11"
      ]
     },
     "execution_count": 188,
     "metadata": {},
     "output_type": "execute_result"
    }
   ],
   "source": [
    "source.write(\"outp1 off\")\n",
    "source.write(\"outp2 off\")"
   ]
  },
  {
   "cell_type": "code",
   "execution_count": 50,
   "metadata": {},
   "outputs": [
    {
     "data": {
      "text/plain": [
       "'1\\n'"
      ]
     },
     "execution_count": 50,
     "metadata": {},
     "output_type": "execute_result"
    }
   ],
   "source": [
    "source.query(\"outp1:STAT?\")"
   ]
  },
  {
   "cell_type": "code",
   "execution_count": 54,
   "metadata": {},
   "outputs": [
    {
     "data": {
      "text/plain": [
       "20"
      ]
     },
     "execution_count": 54,
     "metadata": {},
     "output_type": "execute_result"
    }
   ],
   "source": [
    "\n",
    "source.write(f\":trig1:tran:coun 1\")\n",
    "source.write(f\":trig2:tran:coun 1\")"
   ]
  },
  {
   "cell_type": "code",
   "execution_count": 186,
   "metadata": {},
   "outputs": [
    {
     "data": {
      "text/plain": [
       "13"
      ]
     },
     "execution_count": 186,
     "metadata": {},
     "output_type": "execute_result"
    }
   ],
   "source": [
    "source.write(\"INIT (@1,2)\")"
   ]
  },
  {
   "cell_type": "code",
   "execution_count": 87,
   "metadata": {},
   "outputs": [
    {
     "data": {
      "text/plain": [
       "'-1.00000000E-001\\n'"
      ]
     },
     "execution_count": 87,
     "metadata": {},
     "output_type": "execute_result"
    }
   ],
   "source": [
    "\n",
    "# source.query(f\":sour1:func:mode volt\")\n",
    "# source.write(f\":sour2:func:mode volt\")\n",
    "source.write(f\":sour1:volt {amplitude}\")\n",
    "source.query(f\":sour2:volt?\")"
   ]
  },
  {
   "cell_type": "code",
   "execution_count": 59,
   "metadata": {},
   "outputs": [
    {
     "data": {
      "text/plain": [
       "6"
      ]
     },
     "execution_count": 59,
     "metadata": {},
     "output_type": "execute_result"
    }
   ],
   "source": [
    "source.write(\"*TRG\")"
   ]
  },
  {
   "cell_type": "code",
   "execution_count": 40,
   "metadata": {},
   "outputs": [
    {
     "data": {
      "text/plain": [
       "6"
      ]
     },
     "execution_count": 40,
     "metadata": {},
     "output_type": "execute_result"
    }
   ],
   "source": [
    "source.write(\"*CLS\") # clear status command"
   ]
  },
  {
   "cell_type": "code",
   "execution_count": 114,
   "metadata": {},
   "outputs": [
    {
     "name": "stdout",
     "output_type": "stream",
     "text": [
      "1\n",
      "2\n"
     ]
    }
   ],
   "source": [
    "t=1\n",
    "V=10\n",
    "N=10\n",
    "source.write(\"*RST\") # reset the instrument for SCPI operation\n",
    "for c in [1,2]:\n",
    "    print(c)\n",
    "    source.write(f\":sour{c}:func:mode volt\")\n",
    "    source.write(f\":sour{c}:volt:mode arb\")\n",
    "    source.write(f\":sour{c}:arb:func tri\")\n",
    "    source.write(f\":sour{c}:arb:volt:tri:star:time 0\")\n",
    "    source.write(f\":sour{c}:arb:volt:tri:end:time 0\")\n",
    "    source.write(f\":trig{c}:tran:sour aint\")\n",
    "    source.write(f\":sour{c}:arb:volt:tri:rtim {t}\")\n",
    "    source.write(f\":sour{c}:arb:volt:tri:ftim {t}\")\n",
    "    source.write(f\":sour{c}:volt {V}\")\n",
    "    source.write(f\":sour{c}:arb:volt:tri:top {-V}\")\n",
    "    source.write(f\":sour{c}:arb:volt:tri:star {V}\")\n",
    "    source.write(f\":trig{c}:tran:coun {N}\")\n",
    "    source.write(f\":outp{c} ON\")"
   ]
  },
  {
   "cell_type": "code",
   "execution_count": 108,
   "metadata": {},
   "outputs": [
    {
     "data": {
      "text/plain": [
       "6"
      ]
     },
     "execution_count": 108,
     "metadata": {},
     "output_type": "execute_result"
    }
   ],
   "source": [
    "\n",
    "source.write(\"*RCL\") "
   ]
  },
  {
   "cell_type": "code",
   "execution_count": 111,
   "metadata": {},
   "outputs": [
    {
     "data": {
      "text/plain": [
       "13"
      ]
     },
     "execution_count": 111,
     "metadata": {},
     "output_type": "execute_result"
    }
   ],
   "source": [
    "source.write('INIT (@1,2)')"
   ]
  },
  {
   "cell_type": "code",
   "execution_count": 119,
   "metadata": {},
   "outputs": [],
   "source": [
    "for c in [1,2]:\n",
    "    source.write(f\":outp{c} OFF\")"
   ]
  }
 ],
 "metadata": {
  "kernelspec": {
   "display_name": "Python 3",
   "language": "python",
   "name": "python3"
  },
  "language_info": {
   "codemirror_mode": {
    "name": "ipython",
    "version": 3
   },
   "file_extension": ".py",
   "mimetype": "text/x-python",
   "name": "python",
   "nbconvert_exporter": "python",
   "pygments_lexer": "ipython3",
   "version": "3.11.0"
  },
  "orig_nbformat": 4
 },
 "nbformat": 4,
 "nbformat_minor": 2
}
