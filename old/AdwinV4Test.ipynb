{
 "cells": [
  {
   "cell_type": "code",
   "execution_count": 1,
   "metadata": {},
   "outputs": [],
   "source": [
    "from p5control import InstrumentGateway\n",
    "\n",
    "gw = InstrumentGateway()\n",
    "\n",
    "gw.connect()"
   ]
  },
  {
   "cell_type": "code",
   "execution_count": 7,
   "metadata": {},
   "outputs": [],
   "source": [
    "gw.adwin.stop_lockin()"
   ]
  },
  {
   "cell_type": "code",
   "execution_count": 9,
   "metadata": {},
   "outputs": [],
   "source": [
    "gw.adwin.setAveraging(63)"
   ]
  },
  {
   "cell_type": "code",
   "execution_count": 22,
   "metadata": {},
   "outputs": [],
   "source": [
    "gw.adwin.setRange(2.5, 2)\n"
   ]
  },
  {
   "cell_type": "code",
   "execution_count": 25,
   "metadata": {},
   "outputs": [
    {
     "name": "stdout",
     "output_type": "stream",
     "text": [
      "2 3\n"
     ]
    }
   ],
   "source": [
    "import numpy as np\n",
    "ranges = np.array([10, 5, 2.5, 1.25])\n",
    "index_ch1 = int(np.argmin(np.abs(ranges-2)))\n",
    "index_ch2 = int(np.argmin(np.abs(ranges-1)))\n",
    "print(index_ch1, index_ch2)"
   ]
  },
  {
   "cell_type": "code",
   "execution_count": 28,
   "metadata": {},
   "outputs": [],
   "source": [
    "gw.adwin.setLocking(True)"
   ]
  },
  {
   "cell_type": "code",
   "execution_count": null,
   "metadata": {},
   "outputs": [],
   "source": []
  },
  {
   "cell_type": "code",
   "execution_count": 25,
   "metadata": {},
   "outputs": [
    {
     "data": {
      "text/plain": [
       "('/m000000', b'/m000000')"
      ]
     },
     "execution_count": 25,
     "metadata": {},
     "output_type": "execute_result"
    }
   ],
   "source": [
    "string = u'/m000000'\n",
    "\n",
    "string, string.encode()"
   ]
  },
  {
   "cell_type": "code",
   "execution_count": 58,
   "metadata": {},
   "outputs": [
    {
     "data": {
      "text/plain": [
       "(array('tesasedafrgeffffffffffffffffffffffffargt', dtype='<U64'), ())"
      ]
     },
     "execution_count": 58,
     "metadata": {},
     "output_type": "execute_result"
    }
   ],
   "source": [
    "import numpy as np\n",
    "strArr = np.array('tesasedafrgeffffffffffffffffffffffffargt', dtype = '<U64')\n",
    "strArr, np.shape(strArr)"
   ]
  },
  {
   "cell_type": "code",
   "execution_count": null,
   "metadata": {},
   "outputs": [],
   "source": []
  },
  {
   "cell_type": "code",
   "execution_count": 33,
   "metadata": {},
   "outputs": [
    {
     "data": {
      "text/plain": [
       "b'/m000000'"
      ]
     },
     "execution_count": 33,
     "metadata": {},
     "output_type": "execute_result"
    }
   ],
   "source": [
    "string.encode(\"ascii\")"
   ]
  },
  {
   "cell_type": "code",
   "execution_count": 15,
   "metadata": {},
   "outputs": [
    {
     "data": {
      "text/plain": [
       "array([('/measurement/m000000',      0,   3019,  0),\n",
       "       ('/measurement/m000000',   3020,   6039,  0),\n",
       "       ('/measurement/m000000',   6040,   9059,  0),\n",
       "       ('/measurement/m000000',   9060,  12079,  0),\n",
       "       ('/measurement/m000000',  12080,  15099,  0),\n",
       "       ('/measurement/m000000',  15100,  18119,  0),\n",
       "       ('/measurement/m000000',  18120,  21139,  0),\n",
       "       ('/measurement/m000000',  21140,  24159,  0),\n",
       "       ('/measurement/m000000',  24160,  27179,  0),\n",
       "       ('/measurement/m000000',  27180,  30199,  0),\n",
       "       ('/measurement/m000000',  30200,  33219,  0),\n",
       "       ('/measurement/m000000',  33220,  36239,  0),\n",
       "       ('/measurement/m000000',  36240,  36402,  0),\n",
       "       ('/measurement/m000000',  36403,  39422, -1),\n",
       "       ('/measurement/m000000',  39423,  42442, -1),\n",
       "       ('/measurement/m000000',  42443,  45462, -1),\n",
       "       ('/measurement/m000000',  45463,  48482, -1),\n",
       "       ('/measurement/m000000',  48483,  51502, -1),\n",
       "       ('/measurement/m000000',  51503,  54522, -1),\n",
       "       ('/measurement/m000000',  54523,  57542, -1),\n",
       "       ('/measurement/m000000',  57543,  60562, -1),\n",
       "       ('/measurement/m000000',  60563,  63582, -1),\n",
       "       ('/measurement/m000000',  63583,  66602, -1),\n",
       "       ('/measurement/m000000',  66603,  69622, -1),\n",
       "       ('/measurement/m000000',  69623,  72642, -1),\n",
       "       ('/measurement/m000000',  72643,  75662, -1),\n",
       "       ('/measurement/m000000',  75663,  78682, -1),\n",
       "       ('/measurement/m000000',  78683,  81702, -1),\n",
       "       ('/measurement/m000000',  81703,  83723, -1),\n",
       "       ('/measurement/m000000',  83724,  85244,  1),\n",
       "       ('/measurement/m000000',  85245,  86766,  2),\n",
       "       ('/measurement/m000000',  86767,  88288,  3),\n",
       "       ('/measurement/m000000',  88289,  89810,  4),\n",
       "       ('/measurement/m000000',  89811,  91332,  5),\n",
       "       ('/measurement/m000000',  91333,  92854,  6),\n",
       "       ('/measurement/m000000',  92855,  94376,  7),\n",
       "       ('/measurement/m000000',  94377,  95898,  8),\n",
       "       ('/measurement/m000000',  95899,  97420,  9),\n",
       "       ('/measurement/m000000',  97421,  98942, 10),\n",
       "       ('/measurement/m000000',  98943, 100464, 11),\n",
       "       ('/measurement/m000000', 100465, 101986, 12),\n",
       "       ('/measurement/m000000', 101987, 103508, 13),\n",
       "       ('/measurement/m000000', 103509, 105030, 14),\n",
       "       ('/measurement/m000000', 105031, 106552, 15),\n",
       "       ('/measurement/m000000', 106553, 108074, 16),\n",
       "       ('/measurement/m000000', 108075, 829834, 17),\n",
       "       ('/measurement/m000000', 829835, 837444, 18),\n",
       "       ('/measurement/m000000', 837445, 845053, 19),\n",
       "       ('/measurement/m000000', 845054, 852664, 20),\n",
       "       ('/measurement/m000000', 852665, 860273, 21),\n",
       "       ('/measurement/m000000', 860274, 867883, 22),\n",
       "       ('/measurement/m000001', 867884, 871608, 23),\n",
       "       ('/measurement/m000001', 871609, 871609, 26),\n",
       "       ('/measurement/m000001', 871610,   7608, 27),\n",
       "       ('/measurement/m000001',   7609,  15219, 28),\n",
       "       ('/measurement/m000001',  15220,  22828, 29),\n",
       "       ('/measurement/m000001',  22829,  30438, 30),\n",
       "       ('/measurement/m000001',  30439,  38047, 31),\n",
       "       ('/measurement/m000001',  38048,  45658, 32),\n",
       "       ('/measurement/m000001',  45659,  53267, 33),\n",
       "       ('/measurement/m000001',  53268,  60877, 34),\n",
       "       ('/measurement/m000001',  60878,  68486, 35),\n",
       "       ('/measurement/m000001',  68487,  76097, 36),\n",
       "       ('/measurement/m000001',  76098,  83706, 37),\n",
       "       ('/measurement/m000001',  83707,  91316, 38),\n",
       "       ('/measurement/m000001',  91317,  98925, 39),\n",
       "       ('/measurement/m000001',  98926, 106536, 40),\n",
       "       ('/measurement/m000001', 106537, 114145, 41),\n",
       "       ('/measurement/m000001', 114146, 121755, 42),\n",
       "       ('/measurement/m000001', 121756, 129364, 43),\n",
       "       ('/measurement/m000001', 129365, 136975, 44),\n",
       "       ('/measurement/m000001', 136976, 144583, 45),\n",
       "       ('/measurement/m000001', 144584, 152194, 46),\n",
       "       ('/measurement/m000001', 152195, 159803, 47),\n",
       "       ('/measurement/m000001', 159804, 167414, 48),\n",
       "       ('/measurement/m000001', 167415, 175022, 49),\n",
       "       ('/measurement/m000001', 175023, 182633, 50),\n",
       "       ('/measurement/m000001', 182634, 190242, 51),\n",
       "       ('/measurement/m000001', 190243, 197853, 52),\n",
       "       ('/measurement/m000001', 197854, 205461, 53),\n",
       "       ('/measurement/m000001', 205462, 213072, 54),\n",
       "       ('/measurement/m000001', 213073, 220681, 55),\n",
       "       ('/measurement/m000001', 220682, 228291, 56),\n",
       "       ('/measurement/m000001', 228292, 228668, 57),\n",
       "       ('/measurement/m000001', 228669, 236277, 59),\n",
       "       ('/measurement/m000001', 236278, 243888, 60),\n",
       "       ('/measurement/m000001', 243889, 251497, 61),\n",
       "       ('/measurement/m000001', 251498, 259107, 62),\n",
       "       ('/measurement/m000001', 259108, 266716, 63),\n",
       "       ('/measurement/m000001', 266717, 274327, 64),\n",
       "       ('/measurement/m000003', 274328, 280459, 65),\n",
       "       ('/measurement/m000003', 280460,   7608, 69)],\n",
       "      dtype=[('path', '<U64'), ('start', '<i8'), ('stop', '<i8'), ('case', '<i4')])"
      ]
     },
     "execution_count": 15,
     "metadata": {},
     "output_type": "execute_result"
    }
   ],
   "source": [
    "from p5control import InstrumentGateway\n",
    "\n",
    "gw = InstrumentGateway()\n",
    "gw.connect()\n",
    "\n",
    "gw.adwin.test"
   ]
  },
  {
   "cell_type": "code",
   "execution_count": 74,
   "metadata": {},
   "outputs": [
    {
     "data": {
      "text/plain": [
       "array([('Reyfdddddddddddddddddddddddddddddddddddddddddddddddddddddddddddd', 9, 810000000),\n",
       "       ('Fido', 3,        27)],\n",
       "      dtype=[('path', '<U64'), ('start', '<i8'), ('value', '<i4')])"
      ]
     },
     "execution_count": 74,
     "metadata": {},
     "output_type": "execute_result"
    }
   ],
   "source": [
    "x = np.array([('sdgf', 9, 810000000.0), ('Fido', 3, 27.0)],\n",
    "             dtype=[('path', 'U64'), ('start', 'i8'), ('value', 'i4')])\n",
    "x"
   ]
  },
  {
   "cell_type": "code",
   "execution_count": 6,
   "metadata": {},
   "outputs": [
    {
     "data": {
      "text/plain": [
       "0"
      ]
     },
     "execution_count": 6,
     "metadata": {},
     "output_type": "execute_result"
    }
   ],
   "source": [
    "int(False)"
   ]
  }
 ],
 "metadata": {
  "kernelspec": {
   "display_name": "Python 3",
   "language": "python",
   "name": "python3"
  },
  "language_info": {
   "codemirror_mode": {
    "name": "ipython",
    "version": 3
   },
   "file_extension": ".py",
   "mimetype": "text/x-python",
   "name": "python",
   "nbconvert_exporter": "python",
   "pygments_lexer": "ipython3",
   "version": "3.11.0"
  },
  "orig_nbformat": 4,
  "vscode": {
   "interpreter": {
    "hash": "6503cd861863795121444284ce5de1fadc188475919aa428c27aff8d89af2b26"
   }
  }
 },
 "nbformat": 4,
 "nbformat_minor": 2
}
