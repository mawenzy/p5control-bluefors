{
 "cells": [
  {
   "cell_type": "code",
   "execution_count": 10,
   "metadata": {},
   "outputs": [
    {
     "ename": "TimeoutError",
     "evalue": "result expired",
     "output_type": "error",
     "traceback": [
      "\u001b[1;31m---------------------------------------------------------------------------\u001b[0m",
      "\u001b[1;31mTimeoutError\u001b[0m                              Traceback (most recent call last)",
      "\u001b[1;32mc:\\Users\\BlueFors\\Documents\\p5control-bluefors\\First_I-V_Analysis_2.ipynb Cell 1\u001b[0m in \u001b[0;36m1\n\u001b[0;32m      <a href='vscode-notebook-cell:/c%3A/Users/BlueFors/Documents/p5control-bluefors/First_I-V_Analysis_2.ipynb#W0sZmlsZQ%3D%3D?line=8'>9</a>\u001b[0m sweep_name \u001b[39m=\u001b[39m \u001b[39m'\u001b[39m\u001b[39msweep\u001b[39m\u001b[39m'\u001b[39m\n\u001b[0;32m     <a href='vscode-notebook-cell:/c%3A/Users/BlueFors/Documents/p5control-bluefors/First_I-V_Analysis_2.ipynb#W0sZmlsZQ%3D%3D?line=10'>11</a>\u001b[0m offset \u001b[39m=\u001b[39m dgw\u001b[39m.\u001b[39mget_data(\u001b[39m\"\u001b[39m\u001b[39m/measurement/iv_sweep_100Ohm/offset/adwin\u001b[39m\u001b[39m\"\u001b[39m)\n\u001b[1;32m---> <a href='vscode-notebook-cell:/c%3A/Users/BlueFors/Documents/p5control-bluefors/First_I-V_Analysis_2.ipynb#W0sZmlsZQ%3D%3D?line=11'>12</a>\u001b[0m sweep \u001b[39m=\u001b[39m dgw\u001b[39m.\u001b[39;49mget_data(\u001b[39m\"\u001b[39;49m\u001b[39m/measurement/iv_sweep_100Ohm/sweep/adwin\u001b[39;49m\u001b[39m\"\u001b[39;49m)\n\u001b[0;32m     <a href='vscode-notebook-cell:/c%3A/Users/BlueFors/Documents/p5control-bluefors/First_I-V_Analysis_2.ipynb#W0sZmlsZQ%3D%3D?line=12'>13</a>\u001b[0m \u001b[39m#offset = dgw.get_data(f\"/measurement/{name}/{offset_name}/adwin\")\u001b[39;00m\n\u001b[0;32m     <a href='vscode-notebook-cell:/c%3A/Users/BlueFors/Documents/p5control-bluefors/First_I-V_Analysis_2.ipynb#W0sZmlsZQ%3D%3D?line=13'>14</a>\u001b[0m \u001b[39m#sweep = dgw.get_data(f\"/measurement/{name}/{sweep_name}_1/adwin\")\u001b[39;00m\n\u001b[0;32m     <a href='vscode-notebook-cell:/c%3A/Users/BlueFors/Documents/p5control-bluefors/First_I-V_Analysis_2.ipynb#W0sZmlsZQ%3D%3D?line=15'>16</a>\u001b[0m \u001b[39mimport\u001b[39;00m \u001b[39mmatplotlib\u001b[39;00m\u001b[39m.\u001b[39;00m\u001b[39mpyplot\u001b[39;00m \u001b[39mas\u001b[39;00m \u001b[39mplt\u001b[39;00m\n",
      "File \u001b[1;32m~\\Documents\\p5control\\p5control\\gateway\\datagw.py:50\u001b[0m, in \u001b[0;36mDataGateway.get_data\u001b[1;34m(self, path, indices, field)\u001b[0m\n\u001b[0;32m     46\u001b[0m \u001b[39m\"\"\"Wraps ``self._connection.root.get_data`` to use ``obtain`` on the result\u001b[39;00m\n\u001b[0;32m     47\u001b[0m \u001b[39min order to transfer the data to a local object.\u001b[39;00m\n\u001b[0;32m     48\u001b[0m \u001b[39m\"\"\"\u001b[39;00m\n\u001b[0;32m     49\u001b[0m logger\u001b[39m.\u001b[39mdebug(\u001b[39m'\u001b[39m\u001b[39mobtaining result for \u001b[39m\u001b[39m\"\u001b[39m\u001b[39m%s\u001b[39;00m\u001b[39m\"\u001b[39m\u001b[39m, \u001b[39m\u001b[39m%s\u001b[39;00m\u001b[39m, \u001b[39m\u001b[39m%s\u001b[39;00m\u001b[39m'\u001b[39m, path, indices, field)\n\u001b[1;32m---> 50\u001b[0m \u001b[39mreturn\u001b[39;00m obtain(\u001b[39mself\u001b[39;49m\u001b[39m.\u001b[39;49m_connection\u001b[39m.\u001b[39;49mroot\u001b[39m.\u001b[39;49mget_data(path, indices \u001b[39m=\u001b[39;49m indices, field \u001b[39m=\u001b[39;49m field))\n",
      "File \u001b[1;32mc:\\Users\\BlueFors\\AppData\\Local\\Programs\\Python\\Python311\\Lib\\site-packages\\rpyc\\utils\\classic.py:296\u001b[0m, in \u001b[0;36mobtain\u001b[1;34m(proxy)\u001b[0m\n\u001b[0;32m    285\u001b[0m \u001b[39mdef\u001b[39;00m \u001b[39mobtain\u001b[39m(proxy):\n\u001b[0;32m    286\u001b[0m     \u001b[39m\"\"\"obtains (copies) a remote object from a proxy object. the object is\u001b[39;00m\n\u001b[0;32m    287\u001b[0m \u001b[39m    ``pickled`` on the remote side and ``unpickled`` locally, thus moved\u001b[39;00m\n\u001b[0;32m    288\u001b[0m \u001b[39m    **by value**. changes made to the local object will not reflect remotely.\u001b[39;00m\n\u001b[1;32m   (...)\u001b[0m\n\u001b[0;32m    294\u001b[0m \u001b[39m    :returns: a copy of the remote object\u001b[39;00m\n\u001b[0;32m    295\u001b[0m \u001b[39m    \"\"\"\u001b[39;00m\n\u001b[1;32m--> 296\u001b[0m     \u001b[39mreturn\u001b[39;00m pickle\u001b[39m.\u001b[39mloads(pickle\u001b[39m.\u001b[39;49mdumps(proxy))\n",
      "File \u001b[1;32mc:\\Users\\BlueFors\\AppData\\Local\\Programs\\Python\\Python311\\Lib\\site-packages\\rpyc\\core\\netref.py:206\u001b[0m, in \u001b[0;36mBaseNetref.__reduce_ex__\u001b[1;34m(self, proto)\u001b[0m\n\u001b[0;32m    204\u001b[0m \u001b[39mdef\u001b[39;00m \u001b[39m__reduce_ex__\u001b[39m(\u001b[39mself\u001b[39m, proto):\n\u001b[0;32m    205\u001b[0m     \u001b[39m# support for pickling netrefs\u001b[39;00m\n\u001b[1;32m--> 206\u001b[0m     \u001b[39mreturn\u001b[39;00m pickle\u001b[39m.\u001b[39mloads, (syncreq(\u001b[39mself\u001b[39;49m, consts\u001b[39m.\u001b[39;49mHANDLE_PICKLE, proto),)\n",
      "File \u001b[1;32mc:\\Users\\BlueFors\\AppData\\Local\\Programs\\Python\\Python311\\Lib\\site-packages\\rpyc\\core\\netref.py:63\u001b[0m, in \u001b[0;36msyncreq\u001b[1;34m(proxy, handler, *args)\u001b[0m\n\u001b[0;32m     51\u001b[0m \u001b[39m\"\"\"Performs a synchronous request on the given proxy object.\u001b[39;00m\n\u001b[0;32m     52\u001b[0m \u001b[39mNot intended to be invoked directly.\u001b[39;00m\n\u001b[0;32m     53\u001b[0m \n\u001b[1;32m   (...)\u001b[0m\n\u001b[0;32m     60\u001b[0m \u001b[39m:returns: the result of the operation\u001b[39;00m\n\u001b[0;32m     61\u001b[0m \u001b[39m\"\"\"\u001b[39;00m\n\u001b[0;32m     62\u001b[0m conn \u001b[39m=\u001b[39m \u001b[39mobject\u001b[39m\u001b[39m.\u001b[39m\u001b[39m__getattribute__\u001b[39m(proxy, \u001b[39m\"\u001b[39m\u001b[39m____conn__\u001b[39m\u001b[39m\"\u001b[39m)\n\u001b[1;32m---> 63\u001b[0m \u001b[39mreturn\u001b[39;00m conn\u001b[39m.\u001b[39;49msync_request(handler, proxy, \u001b[39m*\u001b[39;49margs)\n",
      "File \u001b[1;32mc:\\Users\\BlueFors\\AppData\\Local\\Programs\\Python\\Python311\\Lib\\site-packages\\rpyc\\core\\protocol.py:718\u001b[0m, in \u001b[0;36mConnection.sync_request\u001b[1;34m(self, handler, *args)\u001b[0m\n\u001b[0;32m    715\u001b[0m _async_res \u001b[39m=\u001b[39m \u001b[39mself\u001b[39m\u001b[39m.\u001b[39masync_request(handler, \u001b[39m*\u001b[39margs, timeout\u001b[39m=\u001b[39mtimeout)\n\u001b[0;32m    716\u001b[0m \u001b[39m# _async_res is an instance of AsyncResult, the value property invokes Connection.serve via AsyncResult.wait\u001b[39;00m\n\u001b[0;32m    717\u001b[0m \u001b[39m# So, the _recvlock can be acquired multiple times by the owning thread and warrants the use of RLock\u001b[39;00m\n\u001b[1;32m--> 718\u001b[0m \u001b[39mreturn\u001b[39;00m _async_res\u001b[39m.\u001b[39;49mvalue\n",
      "File \u001b[1;32mc:\\Users\\BlueFors\\AppData\\Local\\Programs\\Python\\Python311\\Lib\\site-packages\\rpyc\\core\\async_.py:106\u001b[0m, in \u001b[0;36mAsyncResult.value\u001b[1;34m(self)\u001b[0m\n\u001b[0;32m     98\u001b[0m \u001b[39m@property\u001b[39m\n\u001b[0;32m     99\u001b[0m \u001b[39mdef\u001b[39;00m \u001b[39mvalue\u001b[39m(\u001b[39mself\u001b[39m):\n\u001b[0;32m    100\u001b[0m     \u001b[39m\"\"\"Returns the result of the operation. If the result has not yet\u001b[39;00m\n\u001b[0;32m    101\u001b[0m \u001b[39m    arrived, accessing this property will wait for it. If the result does\u001b[39;00m\n\u001b[0;32m    102\u001b[0m \u001b[39m    not arrive before the expiry time elapses, :class:`AsyncResultTimeout`\u001b[39;00m\n\u001b[0;32m    103\u001b[0m \u001b[39m    is raised. If the returned result is an exception, it will be raised\u001b[39;00m\n\u001b[0;32m    104\u001b[0m \u001b[39m    here. Otherwise, the result is returned directly.\u001b[39;00m\n\u001b[0;32m    105\u001b[0m \u001b[39m    \"\"\"\u001b[39;00m\n\u001b[1;32m--> 106\u001b[0m     \u001b[39mself\u001b[39;49m\u001b[39m.\u001b[39;49mwait()\n\u001b[0;32m    107\u001b[0m     \u001b[39mif\u001b[39;00m \u001b[39mself\u001b[39m\u001b[39m.\u001b[39m_is_exc:\n\u001b[0;32m    108\u001b[0m         \u001b[39mraise\u001b[39;00m \u001b[39mself\u001b[39m\u001b[39m.\u001b[39m_obj\n",
      "File \u001b[1;32mc:\\Users\\BlueFors\\AppData\\Local\\Programs\\Python\\Python311\\Lib\\site-packages\\rpyc\\core\\async_.py:55\u001b[0m, in \u001b[0;36mAsyncResult.wait\u001b[1;34m(self)\u001b[0m\n\u001b[0;32m     53\u001b[0m \u001b[39m# Check if we timed out before result was ready\u001b[39;00m\n\u001b[0;32m     54\u001b[0m \u001b[39mif\u001b[39;00m \u001b[39mnot\u001b[39;00m \u001b[39mself\u001b[39m\u001b[39m.\u001b[39m_is_ready:\n\u001b[1;32m---> 55\u001b[0m     \u001b[39mraise\u001b[39;00m AsyncResultTimeout(\u001b[39m\"\u001b[39m\u001b[39mresult expired\u001b[39m\u001b[39m\"\u001b[39m)\n",
      "\u001b[1;31mTimeoutError\u001b[0m: result expired"
     ]
    }
   ],
   "source": [
    "from p5control import DataGateway\n",
    "import numpy as np\n",
    "\n",
    "dgw = DataGateway()\n",
    "dgw.connect()\n",
    "\n",
    "name = 'Final Condensing/000000'\n",
    "offset_name = 'offset'\n",
    "sweep_name = 'sweep'\n",
    "\n",
    "offset = dgw.get_data(\"/measurement/iv_sweep_100Ohm/offset/adwin\")\n",
    "sweep = dgw.get_data(\"/measurement/iv_sweep_100Ohm/sweep/adwin\")\n",
    "#offset = dgw.get_data(f\"/measurement/{name}/{offset_name}/adwin\")\n",
    "#sweep = dgw.get_data(f\"/measurement/{name}/{sweep_name}_1/adwin\")\n",
    "\n",
    "import matplotlib.pyplot as plt\n",
    "\n",
    "off_V1 = np.mean(offset['V1'])\n",
    "off_V2 = np.mean(offset['V2'])\n",
    "\n",
    "t = sweep['time']\n",
    "\n",
    "V1 = sweep['V1'] - off_V1\n",
    "V2 = sweep['V2'] - off_V2\n",
    "\n",
    "voltage = V1 / 1000 #FemtoB [V]\n",
    "current = V2 / 100 * 100 / 47000 # FemtoA, VD, R_ref [A]\n",
    "\n",
    "trigger = sweep['trigger']\n",
    "\n",
    "print(off_V1, off_V2)"
   ]
  },
  {
   "cell_type": "code",
   "execution_count": null,
   "metadata": {},
   "outputs": [],
   "source": [
    "new_trig = np.copy(trigger)\n",
    "new_time = np.copy(t)\n",
    "new_index = np.arange(len(trigger)-1)\n",
    "print(new_index)\n",
    "\n",
    "new_trig = np.array(new_trig, dtype='float64')\n",
    "new_trig[new_trig<1] = 0\n",
    "new_trig = new_trig%2\n",
    "new_trig = np.abs(new_trig[1:]-new_trig[:-1])\n",
    "\n",
    "logic = new_trig>0\n",
    "new_trig = new_trig[logic]\n",
    "new_index = new_index[logic]\n",
    "\n",
    "fig = plt.figure(figsize=(9,6))\n",
    "\n",
    "for i in range(len(new_index)-1):    \n",
    "    if i%2==0:\n",
    "        up_voltage = voltage[new_index[i]:new_index[i+1]]\n",
    "        up_current = current[new_index[i]:new_index[i+1]]\n",
    "\n",
    "        plt.plot(up_voltage*1000, up_current, '.', ms=.1)\n",
    "\n",
    "    if i%2==1:\n",
    "        down_voltage = voltage[new_index[i]:new_index[i+1]]\n",
    "        down_current = current[new_index[i]:new_index[i+1]]\n",
    "\n",
    "        plt.plot(down_voltage*1000, down_current, '.', ms=.1)\n",
    "\n",
    "plt.xlabel('voltage (mV)')\n",
    "plt.ylabel('current (A)')\n",
    "plt.grid()\n",
    "#plt.plot(up_voltage*1000, up_current, '.', ms=.1)\n",
    "#plt.plot(down_voltage*1000, down_current, '.', ms=.1)"
   ]
  }
 ],
 "metadata": {
  "kernelspec": {
   "display_name": "Python 3",
   "language": "python",
   "name": "python3"
  },
  "language_info": {
   "codemirror_mode": {
    "name": "ipython",
    "version": 3
   },
   "file_extension": ".py",
   "mimetype": "text/x-python",
   "name": "python",
   "nbconvert_exporter": "python",
   "pygments_lexer": "ipython3",
   "version": "3.11.0"
  },
  "orig_nbformat": 4
 },
 "nbformat": 4,
 "nbformat_minor": 2
}
